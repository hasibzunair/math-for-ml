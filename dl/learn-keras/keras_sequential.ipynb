{
 "cells": [
  {
   "cell_type": "code",
   "execution_count": 73,
   "metadata": {},
   "outputs": [],
   "source": [
    "#https://keras.io/getting-started/sequential-model-guide/"
   ]
  },
  {
   "cell_type": "code",
   "execution_count": 74,
   "metadata": {},
   "outputs": [],
   "source": [
    "from keras.models import Sequential\n",
    "from keras.layers import Dense, Activation"
   ]
  },
  {
   "cell_type": "code",
   "execution_count": 75,
   "metadata": {},
   "outputs": [],
   "source": [
    "model = Sequential()\n",
    "model.add(Dense(32, activation='relu', input_dim=100))\n",
    "model.add(Dense(1, activation='sigmoid'))\n",
    "model.compile(optimizer='rmsprop',\n",
    "              loss='binary_crossentropy',\n",
    "              metrics=['accuracy'])"
   ]
  },
  {
   "cell_type": "code",
   "execution_count": 76,
   "metadata": {},
   "outputs": [
    {
     "name": "stdout",
     "output_type": "stream",
     "text": [
      "_________________________________________________________________\n",
      "Layer (type)                 Output Shape              Param #   \n",
      "=================================================================\n",
      "dense_22 (Dense)             (None, 32)                3232      \n",
      "_________________________________________________________________\n",
      "dense_23 (Dense)             (None, 1)                 33        \n",
      "=================================================================\n",
      "Total params: 3,265\n",
      "Trainable params: 3,265\n",
      "Non-trainable params: 0\n",
      "_________________________________________________________________\n"
     ]
    }
   ],
   "source": [
    "model.summary()"
   ]
  },
  {
   "cell_type": "code",
   "execution_count": 77,
   "metadata": {},
   "outputs": [],
   "source": [
    "import numpy as np\n",
    "\n",
    "data = np.random.random((1000, 100))\n",
    "labels = np.random.randint(2, size=(1000, 1))"
   ]
  },
  {
   "cell_type": "code",
   "execution_count": 78,
   "metadata": {},
   "outputs": [
    {
     "name": "stdout",
     "output_type": "stream",
     "text": [
      "(1000, 1)\n"
     ]
    }
   ],
   "source": [
    "print(labels.shape)"
   ]
  },
  {
   "cell_type": "code",
   "execution_count": 79,
   "metadata": {},
   "outputs": [
    {
     "name": "stdout",
     "output_type": "stream",
     "text": [
      "Epoch 1/10\n",
      "1000/1000 [==============================] - 0s 301us/step - loss: 0.7197 - acc: 0.4630\n",
      "Epoch 2/10\n",
      "1000/1000 [==============================] - 0s 37us/step - loss: 0.7014 - acc: 0.5010\n",
      "Epoch 3/10\n",
      "1000/1000 [==============================] - 0s 45us/step - loss: 0.6978 - acc: 0.5160\n",
      "Epoch 4/10\n",
      "1000/1000 [==============================] - 0s 39us/step - loss: 0.6885 - acc: 0.5330\n",
      "Epoch 5/10\n",
      "1000/1000 [==============================] - 0s 45us/step - loss: 0.6872 - acc: 0.5400\n",
      "Epoch 6/10\n",
      "1000/1000 [==============================] - 0s 41us/step - loss: 0.6814 - acc: 0.5650\n",
      "Epoch 7/10\n",
      "1000/1000 [==============================] - 0s 45us/step - loss: 0.6794 - acc: 0.5640\n",
      "Epoch 8/10\n",
      "1000/1000 [==============================] - 0s 42us/step - loss: 0.6727 - acc: 0.5740\n",
      "Epoch 9/10\n",
      "1000/1000 [==============================] - 0s 42us/step - loss: 0.6723 - acc: 0.5840\n",
      "Epoch 10/10\n",
      "1000/1000 [==============================] - 0s 39us/step - loss: 0.6703 - acc: 0.5940\n"
     ]
    },
    {
     "data": {
      "text/plain": [
       "<keras.callbacks.History at 0x7fd542680400>"
      ]
     },
     "execution_count": 79,
     "metadata": {},
     "output_type": "execute_result"
    }
   ],
   "source": [
    "model.fit(data, labels, epochs=10, batch_size=32)"
   ]
  },
  {
   "cell_type": "code",
   "execution_count": 80,
   "metadata": {},
   "outputs": [
    {
     "name": "stdout",
     "output_type": "stream",
     "text": [
      "_________________________________________________________________\n",
      "Layer (type)                 Output Shape              Param #   \n",
      "=================================================================\n",
      "dense_24 (Dense)             (None, 32)                3232      \n",
      "_________________________________________________________________\n",
      "dense_25 (Dense)             (None, 10)                330       \n",
      "=================================================================\n",
      "Total params: 3,562\n",
      "Trainable params: 3,562\n",
      "Non-trainable params: 0\n",
      "_________________________________________________________________\n"
     ]
    }
   ],
   "source": [
    "model = Sequential()\n",
    "model.add(Dense(32, activation='relu', input_dim=100))\n",
    "model.add(Dense(10, activation='softmax'))\n",
    "model.compile(optimizer='rmsprop',\n",
    "              loss='categorical_crossentropy',\n",
    "              metrics=['accuracy'])\n",
    "model.summary()"
   ]
  },
  {
   "cell_type": "code",
   "execution_count": 81,
   "metadata": {},
   "outputs": [],
   "source": [
    "import numpy as np\n",
    "import keras\n",
    "data = np.random.random((1000, 100))\n",
    "labels = np.random.randint(10, size=(1000, 1))"
   ]
  },
  {
   "cell_type": "code",
   "execution_count": 82,
   "metadata": {},
   "outputs": [
    {
     "name": "stdout",
     "output_type": "stream",
     "text": [
      "(1000, 1)\n"
     ]
    }
   ],
   "source": [
    "print(labels.shape)"
   ]
  },
  {
   "cell_type": "code",
   "execution_count": 83,
   "metadata": {},
   "outputs": [],
   "source": [
    "one_hot_labels = keras.utils.to_categorical(labels, num_classes=10)"
   ]
  },
  {
   "cell_type": "code",
   "execution_count": 84,
   "metadata": {},
   "outputs": [
    {
     "name": "stdout",
     "output_type": "stream",
     "text": [
      "(1000, 10)\n"
     ]
    }
   ],
   "source": [
    "print(one_hot_labels.shape)"
   ]
  },
  {
   "cell_type": "code",
   "execution_count": 85,
   "metadata": {},
   "outputs": [],
   "source": [
    "import keras\n",
    "from keras.models import Sequential\n",
    "from keras.layers import Dense, Dropout, Activation\n",
    "from keras.optimizers import SGD"
   ]
  },
  {
   "cell_type": "code",
   "execution_count": 86,
   "metadata": {},
   "outputs": [],
   "source": [
    "import numpy as np\n",
    "x_train = np.random.random((1000, 20))\n",
    "y_train = keras.utils.to_categorical(np.random.randint(10, size=(1000, 1)), num_classes=10)\n",
    "x_test = np.random.random((100, 20))\n",
    "y_test = keras.utils.to_categorical(np.random.randint(10, size=(100, 1)), num_classes=10)\n"
   ]
  },
  {
   "cell_type": "code",
   "execution_count": 87,
   "metadata": {},
   "outputs": [
    {
     "name": "stdout",
     "output_type": "stream",
     "text": [
      "(1000, 20) (1000, 10) (100, 20) (100, 10)\n"
     ]
    }
   ],
   "source": [
    "print(x_train.shape, y_train.shape, x_test.shape, y_test.shape)"
   ]
  },
  {
   "cell_type": "code",
   "execution_count": 88,
   "metadata": {},
   "outputs": [],
   "source": [
    "model = Sequential()\n",
    "\n",
    "model.add(Dense(64, activation='relu', input_dim=20))\n",
    "model.add(Dropout(0.5))\n",
    "model.add(Dense(64, activation='relu'))\n",
    "model.add(Dropout(0.5))\n",
    "model.add(Dense(10, activation='softmax'))"
   ]
  },
  {
   "cell_type": "code",
   "execution_count": 89,
   "metadata": {},
   "outputs": [
    {
     "name": "stdout",
     "output_type": "stream",
     "text": [
      "_________________________________________________________________\n",
      "Layer (type)                 Output Shape              Param #   \n",
      "=================================================================\n",
      "dense_26 (Dense)             (None, 64)                1344      \n",
      "_________________________________________________________________\n",
      "dropout_5 (Dropout)          (None, 64)                0         \n",
      "_________________________________________________________________\n",
      "dense_27 (Dense)             (None, 64)                4160      \n",
      "_________________________________________________________________\n",
      "dropout_6 (Dropout)          (None, 64)                0         \n",
      "_________________________________________________________________\n",
      "dense_28 (Dense)             (None, 10)                650       \n",
      "=================================================================\n",
      "Total params: 6,154\n",
      "Trainable params: 6,154\n",
      "Non-trainable params: 0\n",
      "_________________________________________________________________\n"
     ]
    }
   ],
   "source": [
    "model.summary()"
   ]
  },
  {
   "cell_type": "code",
   "execution_count": 103,
   "metadata": {},
   "outputs": [
    {
     "name": "stdout",
     "output_type": "stream",
     "text": [
      "[array([[ 0.1189776 ,  0.18948625, -0.08749451, ...,  0.1320979 ,\n",
      "        -0.23321147, -0.05941363],\n",
      "       [ 0.17122303,  0.18411891,  0.07227912, ..., -0.08412901,\n",
      "        -0.20785998,  0.18534242],\n",
      "       [ 0.0993175 , -0.1230092 , -0.06506408, ...,  0.24700555,\n",
      "         0.21590142, -0.09121799],\n",
      "       ...,\n",
      "       [-0.08907323, -0.22438122, -0.00129863, ...,  0.02056874,\n",
      "        -0.13888118, -0.23615715],\n",
      "       [ 0.01552678,  0.12284446,  0.08372962, ...,  0.05547632,\n",
      "        -0.0650201 , -0.12591249],\n",
      "       [-0.17874736,  0.10107091, -0.25482684, ...,  0.02633923,\n",
      "         0.1821928 , -0.0790874 ]], dtype=float32), array([-0.01028514, -0.0100382 ,  0.00019395, -0.03173418,  0.00538871,\n",
      "       -0.01199612, -0.02890377, -0.04703417, -0.11685324, -0.02624558,\n",
      "       -0.02721052, -0.00567006,  0.01261787, -0.00357204, -0.0533637 ,\n",
      "       -0.00293822,  0.00063564, -0.00013331,  0.0027072 ,  0.0148002 ,\n",
      "       -0.00028265, -0.00214105,  0.00861705, -0.06060747, -0.04748453,\n",
      "        0.00687235, -0.0216507 , -0.06922163,  0.00156116, -0.06286303,\n",
      "        0.01999404, -0.00302714, -0.03690871, -0.00618596, -0.01538787,\n",
      "       -0.00220878, -0.01281043, -0.03474748, -0.10118261, -0.01551781,\n",
      "       -0.01454803, -0.03355927,  0.00174506, -0.00271943, -0.04384571,\n",
      "       -0.05382681, -0.03311666, -0.10258093,  0.        , -0.00198214,\n",
      "       -0.03898224, -0.00785629, -0.00445896,  0.        , -0.01663236,\n",
      "       -0.03213637, -0.01386478,  0.00168312, -0.05700829, -0.00062849,\n",
      "       -0.03589415, -0.02210501, -0.03335539, -0.07833351], dtype=float32), array([[-0.12399518, -0.03931776,  0.13795136, ...,  0.06328149,\n",
      "        -0.1804202 , -0.07497582],\n",
      "       [ 0.07798242, -0.14542682, -0.09423336, ..., -0.16629645,\n",
      "        -0.17640617, -0.12844168],\n",
      "       [ 0.14532836, -0.21607263,  0.16713884, ...,  0.14148998,\n",
      "         0.17656706, -0.20489103],\n",
      "       ...,\n",
      "       [-0.12779097, -0.21447782, -0.07234802, ...,  0.14339857,\n",
      "         0.01539654,  0.07667924],\n",
      "       [-0.20036419,  0.20321316, -0.11568397, ...,  0.08855603,\n",
      "         0.055486  , -0.18102212],\n",
      "       [ 0.11700568, -0.01993174, -0.1492951 , ...,  0.16321115,\n",
      "        -0.04310071,  0.19662206]], dtype=float32), array([-0.03316584, -0.01390136, -0.04251839, -0.03328896, -0.03221025,\n",
      "       -0.05643982,  0.00320403, -0.04951251, -0.07665257, -0.07501251,\n",
      "       -0.01826795, -0.03871758,  0.00497827, -0.00874633, -0.06658295,\n",
      "       -0.00654972, -0.05956333, -0.00116056, -0.03740004, -0.03899458,\n",
      "       -0.01522315, -0.02007082,  0.0212867 , -0.0160078 , -0.00360317,\n",
      "       -0.04624626, -0.03517214, -0.04079622, -0.07821043, -0.05474363,\n",
      "       -0.03777303, -0.0203874 , -0.01889328, -0.01099689, -0.01168768,\n",
      "        0.01533667, -0.0107181 ,  0.00039902, -0.01840569, -0.01338123,\n",
      "       -0.00061553, -0.03029743, -0.00876848, -0.03449687, -0.04808629,\n",
      "       -0.00506357, -0.03912659,  0.00869557, -0.01731627, -0.04615131,\n",
      "       -0.05340251, -0.02140037, -0.03653921, -0.03899421,  0.01426663,\n",
      "       -0.00765916, -0.04347222, -0.00406174,  0.00129435, -0.00566177,\n",
      "       -0.02154679, -0.01073502,  0.00963192, -0.030825  ], dtype=float32), array([[-0.2771272 , -0.04827344, -0.2782757 , -0.23648019, -0.26773828,\n",
      "         0.15504171, -0.23368102,  0.1024377 ,  0.2694694 ,  0.24681374],\n",
      "       [-0.18346241,  0.00763256,  0.06247671,  0.09815226, -0.24318366,\n",
      "         0.18130195,  0.02723293,  0.01088548, -0.20044447,  0.03444029],\n",
      "       [ 0.0008652 ,  0.18531501, -0.23648317,  0.23993222, -0.18238328,\n",
      "         0.26862437,  0.04318564,  0.07912739, -0.18939093, -0.1580855 ],\n",
      "       [ 0.2649705 , -0.01758703, -0.1729504 , -0.17502822,  0.15238357,\n",
      "         0.13407539, -0.09399924, -0.16607954,  0.23848873,  0.08335116],\n",
      "       [ 0.1087205 ,  0.17933823, -0.04347229,  0.1002048 ,  0.23830813,\n",
      "        -0.05058312,  0.02521357,  0.00903327,  0.10903433,  0.13243039],\n",
      "       [-0.17096646, -0.24399531, -0.15019488,  0.1196644 , -0.22723709,\n",
      "         0.22694628, -0.1606949 , -0.08608914,  0.01594182,  0.21036834],\n",
      "       [-0.01086225,  0.03326305, -0.28514698,  0.24504513, -0.06108814,\n",
      "         0.11832055, -0.07002947,  0.04447447,  0.13210414,  0.22650741],\n",
      "       [-0.07692913,  0.12971568,  0.23321925,  0.0908848 ,  0.27172267,\n",
      "        -0.07121868, -0.22006096,  0.16785292,  0.22668171,  0.06841168],\n",
      "       [-0.06121681,  0.20492013, -0.16973288, -0.01063509,  0.24888651,\n",
      "        -0.23959431, -0.18086146,  0.08665489,  0.19066335,  0.19951156],\n",
      "       [-0.01896025, -0.18536663,  0.181997  ,  0.05553141, -0.19732518,\n",
      "        -0.16754952, -0.21407221,  0.12879352,  0.13920812, -0.2109578 ],\n",
      "       [ 0.00357814,  0.02234724,  0.18431868,  0.01205244,  0.01099374,\n",
      "        -0.17434356, -0.10961062,  0.02796449,  0.16940577, -0.00328178],\n",
      "       [-0.21002743, -0.12097692, -0.14060567, -0.09254421, -0.09656795,\n",
      "        -0.20116806,  0.2547813 , -0.11114282, -0.23216145, -0.1205315 ],\n",
      "       [-0.02695804, -0.22032571,  0.18948458, -0.0946555 ,  0.06578052,\n",
      "        -0.10825244,  0.16489224, -0.01752053,  0.1564784 ,  0.22850226],\n",
      "       [-0.23079605,  0.17802176, -0.09031665, -0.01818332,  0.20988473,\n",
      "        -0.1997261 ,  0.22846682, -0.09718718,  0.2666329 ,  0.07013243],\n",
      "       [ 0.0554528 ,  0.14537789,  0.0032958 , -0.00462037,  0.19852518,\n",
      "         0.23112912,  0.08013599,  0.1212314 , -0.21369278,  0.10343629],\n",
      "       [-0.23479879,  0.09068239,  0.28936526, -0.20563006,  0.17232148,\n",
      "         0.18784334, -0.06208128,  0.18869634,  0.09540343,  0.20431955],\n",
      "       [ 0.23806743, -0.2519374 , -0.16372879, -0.05471991,  0.0806198 ,\n",
      "        -0.17701262,  0.1743049 , -0.13236633,  0.20558687,  0.11789485],\n",
      "       [-0.1097135 , -0.08620884, -0.07460517, -0.07737489,  0.1088589 ,\n",
      "         0.02148544, -0.1382186 ,  0.06673928, -0.08698741,  0.13978368],\n",
      "       [ 0.11597819, -0.24220866, -0.15206811,  0.08380421, -0.01155646,\n",
      "        -0.21055846, -0.15556942, -0.14826205, -0.2109891 ,  0.13745171],\n",
      "       [ 0.19335216,  0.10088009,  0.16828518,  0.20808879, -0.14547642,\n",
      "         0.24545738, -0.08630473,  0.14957641, -0.22976516, -0.20463268],\n",
      "       [ 0.03929617,  0.09349723, -0.27456075, -0.00403925,  0.11858506,\n",
      "        -0.22673772, -0.04626093,  0.18617554,  0.0389481 , -0.06690492],\n",
      "       [-0.14607584, -0.12451307,  0.10611582,  0.242226  , -0.13550186,\n",
      "         0.28188276, -0.18561715, -0.19412199,  0.1452489 ,  0.08205505],\n",
      "       [-0.07554734,  0.01876039, -0.04252589, -0.15401594,  0.11172813,\n",
      "        -0.0315527 ,  0.21987484, -0.07429556, -0.08821104,  0.18945432],\n",
      "       [-0.26919752,  0.10878201, -0.03552208, -0.16450703, -0.17209548,\n",
      "        -0.17903866, -0.12107036,  0.25817236, -0.09424862, -0.14132828],\n",
      "       [-0.04939859,  0.08494209,  0.18400167, -0.15988633,  0.06247758,\n",
      "         0.22669464,  0.22890034, -0.13743079, -0.19809626, -0.00077925],\n",
      "       [ 0.15273634,  0.05264427, -0.1512358 , -0.1723408 , -0.01428153,\n",
      "        -0.24933708,  0.178688  ,  0.12333672,  0.17448545, -0.02995798],\n",
      "       [-0.17763047, -0.01689707, -0.00140094, -0.14758502, -0.11085594,\n",
      "        -0.1624497 , -0.06909309,  0.08558252,  0.12138849, -0.11465631],\n",
      "       [ 0.2518888 , -0.04870795, -0.01099859,  0.2626537 , -0.02538767,\n",
      "         0.1101286 , -0.13919647, -0.25828817,  0.20291004,  0.27703467],\n",
      "       [ 0.17264512,  0.16786128, -0.2294034 ,  0.04287743,  0.1791041 ,\n",
      "        -0.0309136 , -0.2049656 , -0.2518346 ,  0.0718046 , -0.13803788],\n",
      "       [ 0.06397441,  0.13853279, -0.06502244,  0.21541598,  0.23161823,\n",
      "         0.02140815, -0.05579613, -0.10681148, -0.07344208,  0.25667876],\n",
      "       [-0.03518164,  0.0012463 ,  0.05956328,  0.192347  ,  0.05528658,\n",
      "        -0.22283106,  0.01262852,  0.04872359, -0.14484431, -0.20544808],\n",
      "       [ 0.10523606,  0.11200127,  0.06048621,  0.16521202, -0.0935377 ,\n",
      "        -0.2697419 ,  0.07137688,  0.05727646, -0.01755963, -0.149628  ],\n",
      "       [ 0.07496316,  0.01375658,  0.28566244, -0.13373587, -0.2033812 ,\n",
      "         0.05969232, -0.04074626,  0.06704987, -0.27398703, -0.20972767],\n",
      "       [-0.06357169,  0.07075489, -0.00535665,  0.17566307,  0.03007088,\n",
      "         0.14786609,  0.24000755, -0.22418629, -0.04447999, -0.03692272],\n",
      "       [-0.00801617, -0.12822555,  0.16882554, -0.20684955, -0.2459772 ,\n",
      "         0.21690501, -0.0629236 ,  0.25290945,  0.2550511 ,  0.10525372],\n",
      "       [-0.16250455, -0.20790024, -0.2207178 ,  0.01549519,  0.04330059,\n",
      "        -0.09759175, -0.04917684, -0.03040877, -0.28265047,  0.22090162],\n",
      "       [-0.2814588 , -0.25005698, -0.02759565,  0.2594438 ,  0.24185894,\n",
      "         0.12252498,  0.05696062,  0.01723428, -0.05579121, -0.20224006],\n",
      "       [-0.24243118,  0.26626623,  0.1074149 , -0.06040893, -0.23921588,\n",
      "         0.13120568, -0.21306536, -0.09369205,  0.08680701,  0.05348812],\n",
      "       [ 0.05361848, -0.24968146,  0.06250882, -0.11728842,  0.03447014,\n",
      "         0.09204143,  0.08902758, -0.04569111,  0.01879941, -0.01321305],\n",
      "       [-0.24367636,  0.21804886, -0.09477064,  0.16869755,  0.08491885,\n",
      "         0.15259099,  0.07570462,  0.01956968,  0.10590881, -0.19529821],\n",
      "       [-0.10177997,  0.05206973, -0.14938928,  0.0914016 ,  0.22306554,\n",
      "        -0.19487165,  0.18016224, -0.11274571, -0.03866098, -0.05951991],\n",
      "       [ 0.0160468 , -0.13177097, -0.21448727,  0.26837283, -0.09583329,\n",
      "         0.08036714, -0.16478682,  0.00452811,  0.09192394, -0.15633908],\n",
      "       [-0.04162855,  0.01925533,  0.06680768, -0.15647876, -0.14619033,\n",
      "        -0.2577024 , -0.02135781,  0.17752641, -0.20058775,  0.144668  ],\n",
      "       [ 0.04027277,  0.06110509,  0.18832424, -0.07231129,  0.05328836,\n",
      "         0.25768217, -0.11454482, -0.25171524,  0.20533091,  0.107814  ],\n",
      "       [ 0.19437288,  0.14996848, -0.0768073 ,  0.08587827, -0.22481011,\n",
      "         0.11920504, -0.15164   ,  0.16860834,  0.21322757, -0.26203322],\n",
      "       [ 0.18498635, -0.25584248, -0.25409043,  0.03680344, -0.01212877,\n",
      "         0.01698641, -0.0791183 , -0.10332237, -0.21266511, -0.14122728],\n",
      "       [ 0.11139315,  0.2678887 ,  0.20223226,  0.20034626,  0.00508554,\n",
      "        -0.15944354,  0.02446992, -0.24714579, -0.161396  ,  0.1559883 ],\n",
      "       [-0.10512844, -0.16415271,  0.05016644, -0.28914148, -0.08521152,\n",
      "        -0.11981647, -0.03347142, -0.22783701, -0.11600249,  0.09841523],\n",
      "       [-0.10618453,  0.21775138,  0.16839756,  0.00929275,  0.21019086,\n",
      "         0.11452089,  0.28027818, -0.17271383,  0.2518949 ,  0.10761341],\n",
      "       [ 0.26046243, -0.1396396 , -0.0528711 ,  0.19506375, -0.0501145 ,\n",
      "        -0.2248272 ,  0.06864056,  0.15420197,  0.06592803,  0.11992373],\n",
      "       [-0.09906162, -0.13908379, -0.22636692,  0.0808617 , -0.17225145,\n",
      "         0.03919662, -0.18018371,  0.27363482,  0.06644711,  0.16050029],\n",
      "       [-0.1138534 , -0.2678403 , -0.12591392,  0.06974685, -0.26886418,\n",
      "         0.08399807, -0.17360155, -0.06338657, -0.21845572, -0.09698202],\n",
      "       [ 0.06222984, -0.04307818,  0.02371828, -0.12281746, -0.19227   ,\n",
      "        -0.23486003,  0.01848847,  0.04456614,  0.19132338,  0.09757461],\n",
      "       [-0.2333371 , -0.17388627, -0.11499212,  0.16794217,  0.09916121,\n",
      "         0.07614293, -0.22238477, -0.13800439, -0.28895465,  0.14209643],\n",
      "       [-0.01043529,  0.20561652, -0.00421749, -0.07231259, -0.0232638 ,\n",
      "         0.18066236, -0.2801493 ,  0.10471258,  0.12228146, -0.04063072],\n",
      "       [ 0.0183662 ,  0.12473936,  0.09344988, -0.07935718,  0.05197762,\n",
      "        -0.16854124,  0.1810981 , -0.15146422,  0.13598022,  0.19411424],\n",
      "       [ 0.13955328,  0.0197874 ,  0.0006795 ,  0.00819529, -0.03214454,\n",
      "        -0.2493726 , -0.18894313, -0.05301475,  0.1583156 ,  0.23969056],\n",
      "       [ 0.1393917 ,  0.1712259 ,  0.05170161, -0.15628123,  0.07088884,\n",
      "        -0.10446256, -0.16555111,  0.18104048,  0.18079467, -0.14764735],\n",
      "       [ 0.2716152 , -0.22951865, -0.02802649, -0.04846023,  0.12469908,\n",
      "        -0.23500454,  0.1964775 ,  0.14851314, -0.05393996, -0.25067768],\n",
      "       [-0.165512  ,  0.13570158,  0.02381131,  0.08602905, -0.13162564,\n",
      "        -0.24603741,  0.1640723 ,  0.2574263 ,  0.12192939, -0.10077472],\n",
      "       [-0.13968633, -0.0910725 , -0.02704253,  0.03119388,  0.14576624,\n",
      "        -0.06689645,  0.00216366,  0.23751   , -0.12769334,  0.20397379],\n",
      "       [-0.03121864,  0.1075891 ,  0.03134294, -0.09034984, -0.18115443,\n",
      "        -0.02742782, -0.04018109,  0.22217107, -0.07659212,  0.09724742],\n",
      "       [ 0.04454745, -0.2851164 , -0.13855192, -0.0400859 , -0.13378507,\n",
      "         0.16311073, -0.22841112,  0.14988764, -0.26116535, -0.02528148],\n",
      "       [ 0.2517213 ,  0.10121058, -0.04005868, -0.20948133,  0.07556173,\n",
      "         0.14851423,  0.0254352 , -0.03443806,  0.16233939,  0.24405313]],\n",
      "      dtype=float32), array([-0.06208819,  0.02592375,  0.10933705, -0.08717464,  0.02141859,\n",
      "        0.00600951,  0.06880204,  0.01017008, -0.13503769,  0.04263975],\n",
      "      dtype=float32)]\n"
     ]
    }
   ],
   "source": [
    "w = model.get_weights()\n",
    "print(w)"
   ]
  },
  {
   "cell_type": "code",
   "execution_count": 90,
   "metadata": {},
   "outputs": [],
   "source": [
    "sgd = SGD(lr=0.01, decay=1e-6, momentum=0.9, nesterov=True)\n",
    "model.compile(loss='categorical_crossentropy',\n",
    "              optimizer=sgd,\n",
    "              metrics=['accuracy'])"
   ]
  },
  {
   "cell_type": "code",
   "execution_count": 91,
   "metadata": {},
   "outputs": [
    {
     "name": "stdout",
     "output_type": "stream",
     "text": [
      "Epoch 1/20\n",
      "1000/1000 [==============================] - 0s 366us/step - loss: 2.3898 - acc: 0.1050\n",
      "Epoch 2/20\n",
      "1000/1000 [==============================] - 0s 22us/step - loss: 2.3730 - acc: 0.0910\n",
      "Epoch 3/20\n",
      "1000/1000 [==============================] - 0s 25us/step - loss: 2.3402 - acc: 0.1080\n",
      "Epoch 4/20\n",
      "1000/1000 [==============================] - 0s 23us/step - loss: 2.3342 - acc: 0.0980\n",
      "Epoch 5/20\n",
      "1000/1000 [==============================] - 0s 25us/step - loss: 2.3108 - acc: 0.1210\n",
      "Epoch 6/20\n",
      "1000/1000 [==============================] - 0s 21us/step - loss: 2.3101 - acc: 0.1100\n",
      "Epoch 7/20\n",
      "1000/1000 [==============================] - 0s 30us/step - loss: 2.3042 - acc: 0.1210\n",
      "Epoch 8/20\n",
      "1000/1000 [==============================] - 0s 24us/step - loss: 2.3057 - acc: 0.1090\n",
      "Epoch 9/20\n",
      "1000/1000 [==============================] - 0s 26us/step - loss: 2.2997 - acc: 0.1210\n",
      "Epoch 10/20\n",
      "1000/1000 [==============================] - 0s 31us/step - loss: 2.2983 - acc: 0.1150\n",
      "Epoch 11/20\n",
      "1000/1000 [==============================] - 0s 26us/step - loss: 2.3025 - acc: 0.1270\n",
      "Epoch 12/20\n",
      "1000/1000 [==============================] - 0s 24us/step - loss: 2.3018 - acc: 0.1110\n",
      "Epoch 13/20\n",
      "1000/1000 [==============================] - 0s 23us/step - loss: 2.2958 - acc: 0.1350\n",
      "Epoch 14/20\n",
      "1000/1000 [==============================] - 0s 24us/step - loss: 2.2994 - acc: 0.1340\n",
      "Epoch 15/20\n",
      "1000/1000 [==============================] - 0s 24us/step - loss: 2.2942 - acc: 0.1110\n",
      "Epoch 16/20\n",
      "1000/1000 [==============================] - 0s 24us/step - loss: 2.2931 - acc: 0.1240\n",
      "Epoch 17/20\n",
      "1000/1000 [==============================] - 0s 27us/step - loss: 2.3020 - acc: 0.1070\n",
      "Epoch 18/20\n",
      "1000/1000 [==============================] - 0s 30us/step - loss: 2.2990 - acc: 0.1210\n",
      "Epoch 19/20\n",
      "1000/1000 [==============================] - 0s 24us/step - loss: 2.2962 - acc: 0.1270\n",
      "Epoch 20/20\n",
      "1000/1000 [==============================] - 0s 20us/step - loss: 2.2978 - acc: 0.1280\n"
     ]
    },
    {
     "data": {
      "text/plain": [
       "<keras.callbacks.History at 0x7fd5426f9eb8>"
      ]
     },
     "execution_count": 91,
     "metadata": {},
     "output_type": "execute_result"
    }
   ],
   "source": [
    "model.fit(x_train, y_train,\n",
    "          epochs=20,\n",
    "          batch_size=128)"
   ]
  },
  {
   "cell_type": "code",
   "execution_count": 92,
   "metadata": {},
   "outputs": [
    {
     "name": "stdout",
     "output_type": "stream",
     "text": [
      "100\n"
     ]
    }
   ],
   "source": [
    "print(len(x_test))"
   ]
  },
  {
   "cell_type": "code",
   "execution_count": 93,
   "metadata": {},
   "outputs": [
    {
     "name": "stdout",
     "output_type": "stream",
     "text": [
      "\r",
      "100/100 [==============================] - 0s 1ms/step\n"
     ]
    }
   ],
   "source": [
    "score = model.evaluate(x_test, y_test, batch_size=128)\n"
   ]
  },
  {
   "cell_type": "code",
   "execution_count": 94,
   "metadata": {},
   "outputs": [],
   "source": [
    "pred = model.predict(x_test)"
   ]
  },
  {
   "cell_type": "code",
   "execution_count": 96,
   "metadata": {},
   "outputs": [
    {
     "data": {
      "text/plain": [
       "array([0.09616724, 0.09796781, 0.11495662, 0.09065572, 0.10224905,\n",
       "       0.09251268, 0.10473367, 0.10431336, 0.08830486, 0.108139  ],\n",
       "      dtype=float32)"
      ]
     },
     "execution_count": 96,
     "metadata": {},
     "output_type": "execute_result"
    }
   ],
   "source": [
    "pred[9]"
   ]
  },
  {
   "cell_type": "code",
   "execution_count": 60,
   "metadata": {},
   "outputs": [],
   "source": [
    "x_train = np.random.random((100, 100, 100, 3))"
   ]
  },
  {
   "cell_type": "code",
   "execution_count": 67,
   "metadata": {},
   "outputs": [
    {
     "data": {
      "text/plain": [
       "100"
      ]
     },
     "execution_count": 67,
     "metadata": {},
     "output_type": "execute_result"
    }
   ],
   "source": [
    "len(x_train)"
   ]
  },
  {
   "cell_type": "code",
   "execution_count": 72,
   "metadata": {},
   "outputs": [
    {
     "data": {
      "text/plain": [
       "<matplotlib.image.AxesImage at 0x7fd54256f470>"
      ]
     },
     "execution_count": 72,
     "metadata": {},
     "output_type": "execute_result"
    },
    {
     "data": {
      "image/png": "[encoded data removed]",
      "text/plain": [
       "<Figure size 432x288 with 1 Axes>"
      ]
     },
     "metadata": {},
     "output_type": "display_data"
    }
   ],
   "source": [
    "import cv2\n",
    "import matplotlib.pyplot as plt\n",
    "\n",
    "plt.imshow(x_train[45])"
   ]
  },
  {
   "cell_type": "code",
   "execution_count": null,
   "metadata": {},
   "outputs": [],
   "source": []
  }
 ],
 "metadata": {
  "kernelspec": {
   "display_name": "Python 3",
   "language": "python",
   "name": "python3"
  },
  "language_info": {
   "codemirror_mode": {
    "name": "ipython",
    "version": 3
   },
   "file_extension": ".py",
   "mimetype": "text/x-python",
   "name": "python",
   "nbconvert_exporter": "python",
   "pygments_lexer": "ipython3",
   "version": "3.6.5"
  }
 },
 "nbformat": 4,
 "nbformat_minor": 2
}
