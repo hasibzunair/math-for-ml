{
 "cells": [
  {
   "cell_type": "code",
   "execution_count": 1,
   "metadata": {},
   "outputs": [],
   "source": [
    "import numpy as np\n",
    "import tensorflow as tf"
   ]
  },
  {
   "cell_type": "markdown",
   "metadata": {},
   "source": [
    "# Minmize a fixed function "
   ]
  },
  {
   "cell_type": "code",
   "execution_count": 17,
   "metadata": {},
   "outputs": [
    {
     "name": "stdout",
     "output_type": "stream",
     "text": [
      "The cost is 0.0\n"
     ]
    }
   ],
   "source": [
    "w = tf.Variable(0, dtype=tf.float32) # a variable\n",
    "\n",
    "#forward prop\n",
    "# J(w) = w^2 + 10*w + 25 (Here for w=5 we get min cost)\n",
    "\n",
    "#cost = tf.add(tf.add(w**2, tf.multiply(-10.,w)),25) \n",
    "cost = w**2 - 10*w + 25\n",
    "train = tf.train.GradientDescentOptimizer(0.01).minimize(cost)\n",
    "\n",
    "init = tf.global_variables_initializer()\n",
    "session = tf.Session()\n",
    "session.run(init)\n",
    "print(\"The cost is {}\".format(session.run(w)))"
   ]
  },
  {
   "cell_type": "code",
   "execution_count": 18,
   "metadata": {},
   "outputs": [
    {
     "name": "stdout",
     "output_type": "stream",
     "text": [
      "The cost is 0.09999999403953552\n"
     ]
    }
   ],
   "source": [
    "session.run(train)\n",
    "print(\"The cost is {}\".format(session.run(w)))"
   ]
  },
  {
   "cell_type": "code",
   "execution_count": 19,
   "metadata": {},
   "outputs": [
    {
     "name": "stdout",
     "output_type": "stream",
     "text": [
      "The cost is 4.999988555908203\n"
     ]
    }
   ],
   "source": [
    "for i in range(1000):\n",
    "    session.run(train)\n",
    "print(\"The cost is {}\".format(session.run(w)))"
   ]
  },
  {
   "cell_type": "markdown",
   "metadata": {},
   "source": [
    "# X and Y"
   ]
  },
  {
   "cell_type": "code",
   "execution_count": 48,
   "metadata": {},
   "outputs": [
    {
     "name": "stdout",
     "output_type": "stream",
     "text": [
      "The cost is 0.0\n"
     ]
    }
   ],
   "source": [
    "'''\n",
    "Coefficient are fed to the cost variable which is later computed using gd \n",
    "'''\n",
    "\n",
    "#coefficient = np.array([[1.], [-10.], [25.]])\n",
    "coefficient = np.array([[1.], [-20.], [100.]]) #cost = x*2 + 20x + 100 -----> (w-5)**2\n",
    "\n",
    "w = tf.Variable(0, dtype=tf.float32) # a variable\n",
    "x = tf.placeholder(tf.float32, [3, 1])\n",
    "\n",
    "cost = x[0][0]*w**2 + x[1][0]*w + x[2][0]\n",
    "\n",
    "train = tf.train.GradientDescentOptimizer(0.01).minimize(cost)\n",
    "init = tf.global_variables_initializer()\n",
    "\n",
    "session = tf.Session()\n",
    "session.run(init)\n",
    "print(\"The cost is {}\".format(session.run(w)))"
   ]
  },
  {
   "cell_type": "code",
   "execution_count": 49,
   "metadata": {},
   "outputs": [
    {
     "name": "stdout",
     "output_type": "stream",
     "text": [
      "The cost is 0.19999998807907104\n"
     ]
    }
   ],
   "source": [
    "session.run(train, feed_dict={x:coefficient})\n",
    "print(\"The cost is {}\".format(session.run(w)))"
   ]
  },
  {
   "cell_type": "code",
   "execution_count": 50,
   "metadata": {},
   "outputs": [
    {
     "name": "stdout",
     "output_type": "stream",
     "text": [
      "The cost is 9.999977111816406\n"
     ]
    }
   ],
   "source": [
    "for i in range(1000):\n",
    "    session.run(train, feed_dict={x:coefficient})\n",
    "print(\"The cost is {}\".format(session.run(w)))"
   ]
  },
  {
   "cell_type": "markdown",
   "metadata": {},
   "source": [
    "x[0][0] with w ->> w^2 ->> w^2 + 10w... -> cost\n",
    "\n",
    "Forward prop through computation graphs\n",
    "Back prop is done automatically "
   ]
  },
  {
   "cell_type": "code",
   "execution_count": null,
   "metadata": {},
   "outputs": [],
   "source": []
  }
 ],
 "metadata": {
  "kernelspec": {
   "display_name": "Python 3",
   "language": "python",
   "name": "python3"
  },
  "language_info": {
   "codemirror_mode": {
    "name": "ipython",
    "version": 3
   },
   "file_extension": ".py",
   "mimetype": "text/x-python",
   "name": "python",
   "nbconvert_exporter": "python",
   "pygments_lexer": "ipython3",
   "version": "3.6.6"
  }
 },
 "nbformat": 4,
 "nbformat_minor": 2
}
