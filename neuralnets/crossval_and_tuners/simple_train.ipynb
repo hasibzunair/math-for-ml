{
 "cells": [
  {
   "cell_type": "code",
   "execution_count": 1,
   "metadata": {},
   "outputs": [
    {
     "name": "stdout",
     "output_type": "stream",
     "text": [
      "Hello World!\n"
     ]
    }
   ],
   "source": [
    "print(\"Hello World!\")"
   ]
  },
  {
   "cell_type": "code",
   "execution_count": 2,
   "metadata": {},
   "outputs": [
    {
     "name": "stderr",
     "output_type": "stream",
     "text": [
      "Using TensorFlow backend.\n"
     ]
    }
   ],
   "source": [
    "from numpy.random import seed\n",
    "seed(1)\n",
    "\n",
    "from pandas import DataFrame\n",
    "from pandas import concat\n",
    "from keras.models import Sequential\n",
    "from keras.layers import Dense\n",
    "from sklearn.metrics import mean_squared_error\n",
    "import numpy as np"
   ]
  },
  {
   "cell_type": "code",
   "execution_count": 2,
   "metadata": {},
   "outputs": [],
   "source": [
    "# fit MLP to dataset and print error\n",
    "def fit_model(X, y):\n",
    "    \n",
    "    # design network\n",
    "    model = Sequential()\n",
    "    model.add(Dense(10, input_dim=1))\n",
    "    model.add(Dense(1))\n",
    "    model.compile(loss='mean_squared_error', optimizer='adam')\n",
    "    \n",
    "    # fit network\n",
    "    model.fit(X, y, epochs=100, batch_size=len(X), verbose=0)\n",
    "    \n",
    "    # forecast\n",
    "    yhat = model.predict(X, verbose=0)\n",
    "    loss = mean_squared_error(y, yhat[:,0])\n",
    "    print(loss)\n",
    "    return loss"
   ]
  },
  {
   "cell_type": "code",
   "execution_count": 3,
   "metadata": {},
   "outputs": [
    {
     "data": {
      "text/plain": [
       "((99,), (99,))"
      ]
     },
     "execution_count": 3,
     "metadata": {},
     "output_type": "execute_result"
    }
   ],
   "source": [
    "# create sequence\n",
    "length = 100\n",
    "sequence = [i/float(length) for i in range(length)]\n",
    "# create X/y pairs\n",
    "df = DataFrame(sequence)\n",
    "df = concat([df.shift(1), df], axis=1)\n",
    "df.dropna(inplace=True)\n",
    "# convert to MLP friendly format\n",
    "values = df.values\n",
    "X, y = values[:,0], values[:,1]\n",
    "X.shape, y.shape"
   ]
  },
  {
   "cell_type": "code",
   "execution_count": 10,
   "metadata": {},
   "outputs": [
    {
     "name": "stdout",
     "output_type": "stream",
     "text": [
      "0.20504675932589295\n",
      "0.0035844285690576874\n",
      "0.03778201311249263\n",
      "0.005331703756795706\n",
      "3.98544413026156e-06\n",
      "0.028832257424588736\n",
      "0.08043158979278815\n",
      "0.0020255502861990364\n",
      "0.002352213185761803\n",
      "0.006751705834386256\n",
      "0.0038943752735889616\n",
      "0.001324593520886964\n",
      "0.1885007621293925\n",
      "1.718670880108647e-07\n",
      "0.2431189295010302\n",
      "(15,)\n"
     ]
    }
   ],
   "source": [
    "# repeat experiment\n",
    "repeats = 15\n",
    "\n",
    "vals = []\n",
    "for _ in range(repeats):\n",
    "    loss = fit_model(X, y)\n",
    "    vals.append(loss)\n",
    "    \n",
    "vals = np.array(vals)\n",
    "print(vals.shape)"
   ]
  },
  {
   "cell_type": "code",
   "execution_count": 9,
   "metadata": {},
   "outputs": [
    {
     "name": "stdout",
     "output_type": "stream",
     "text": [
      "0.01546660582754107 0.015497887491323659\n"
     ]
    }
   ],
   "source": [
    "mean = np.mean(vals)\n",
    "std = np.std(vals)\n",
    "\n",
    "print(mean, std)"
   ]
  },
  {
   "cell_type": "code",
   "execution_count": null,
   "metadata": {},
   "outputs": [],
   "source": []
  },
  {
   "cell_type": "markdown",
   "metadata": {},
   "source": [
    "### Manual validation"
   ]
  },
  {
   "cell_type": "code",
   "execution_count": 1,
   "metadata": {},
   "outputs": [
    {
     "name": "stderr",
     "output_type": "stream",
     "text": [
      "Using TensorFlow backend.\n"
     ]
    }
   ],
   "source": [
    "# MLP with manual validation set\n",
    "from keras.models import Sequential\n",
    "from keras.layers import Dense\n",
    "from sklearn.model_selection import train_test_split\n",
    "import numpy\n",
    "\n",
    "# fix random seed for reproducibility\n",
    "seed = 7\n",
    "numpy.random.seed(seed)"
   ]
  },
  {
   "cell_type": "code",
   "execution_count": 2,
   "metadata": {},
   "outputs": [],
   "source": [
    "# load pima indians dataset\n",
    "dataset = numpy.loadtxt(\"pima-indians-diabetes.csv\", delimiter=\",\")\n",
    "# split into input (X) and output (Y) variables\n",
    "X = dataset[:,0:8]\n",
    "Y = dataset[:,8]\n",
    "# split into 67% for train and 33% for test\n",
    "X_train, X_test, y_train, y_test = train_test_split(X, Y, test_size=0.33, random_state=seed)"
   ]
  },
  {
   "cell_type": "code",
   "execution_count": 3,
   "metadata": {},
   "outputs": [
    {
     "name": "stdout",
     "output_type": "stream",
     "text": [
      "Model: \"sequential_1\"\n",
      "_________________________________________________________________\n",
      "Layer (type)                 Output Shape              Param #   \n",
      "=================================================================\n",
      "dense_1 (Dense)              (None, 12)                108       \n",
      "_________________________________________________________________\n",
      "dense_2 (Dense)              (None, 8)                 104       \n",
      "_________________________________________________________________\n",
      "dense_3 (Dense)              (None, 1)                 9         \n",
      "=================================================================\n",
      "Total params: 221\n",
      "Trainable params: 221\n",
      "Non-trainable params: 0\n",
      "_________________________________________________________________\n"
     ]
    }
   ],
   "source": [
    "# create model\n",
    "model = Sequential()\n",
    "model.add(Dense(12, input_dim=8, activation='relu'))\n",
    "model.add(Dense(8, activation='relu'))\n",
    "model.add(Dense(1, activation='sigmoid'))\n",
    "# Compile model\n",
    "model.compile(loss='binary_crossentropy', optimizer='adam', metrics=['accuracy'])\n",
    "model.summary()"
   ]
  },
  {
   "cell_type": "code",
   "execution_count": 4,
   "metadata": {},
   "outputs": [
    {
     "name": "stdout",
     "output_type": "stream",
     "text": [
      "Train on 514 samples, validate on 254 samples\n",
      "Epoch 1/150\n",
      "514/514 [==============================] - 0s 575us/step - loss: 4.6352 - accuracy: 0.5798 - val_loss: 1.3942 - val_accuracy: 0.5157\n",
      "Epoch 2/150\n",
      "514/514 [==============================] - 0s 175us/step - loss: 1.2285 - accuracy: 0.5467 - val_loss: 0.9711 - val_accuracy: 0.5748\n",
      "Epoch 3/150\n",
      "514/514 [==============================] - 0s 180us/step - loss: 0.8792 - accuracy: 0.6070 - val_loss: 0.8189 - val_accuracy: 0.6024\n",
      "Epoch 4/150\n",
      "514/514 [==============================] - 0s 178us/step - loss: 0.8062 - accuracy: 0.5914 - val_loss: 0.7494 - val_accuracy: 0.6260\n",
      "Epoch 5/150\n",
      "514/514 [==============================] - 0s 181us/step - loss: 0.7094 - accuracy: 0.6576 - val_loss: 0.7278 - val_accuracy: 0.6378\n",
      "Epoch 6/150\n",
      "514/514 [==============================] - 0s 188us/step - loss: 0.7241 - accuracy: 0.6265 - val_loss: 0.7183 - val_accuracy: 0.6496\n",
      "Epoch 7/150\n",
      "514/514 [==============================] - 0s 181us/step - loss: 0.6911 - accuracy: 0.6634 - val_loss: 0.7030 - val_accuracy: 0.6850\n",
      "Epoch 8/150\n",
      "514/514 [==============================] - 0s 186us/step - loss: 0.6881 - accuracy: 0.6537 - val_loss: 0.7845 - val_accuracy: 0.5748\n",
      "Epoch 9/150\n",
      "514/514 [==============================] - 0s 177us/step - loss: 0.6863 - accuracy: 0.6634 - val_loss: 0.7022 - val_accuracy: 0.6614\n",
      "Epoch 10/150\n",
      "514/514 [==============================] - 0s 168us/step - loss: 0.6762 - accuracy: 0.6829 - val_loss: 0.7681 - val_accuracy: 0.6811\n",
      "Epoch 11/150\n",
      "514/514 [==============================] - 0s 178us/step - loss: 0.6701 - accuracy: 0.6809 - val_loss: 0.6730 - val_accuracy: 0.6890\n",
      "Epoch 12/150\n",
      "514/514 [==============================] - 0s 182us/step - loss: 0.6565 - accuracy: 0.6693 - val_loss: 0.6542 - val_accuracy: 0.6811\n",
      "Epoch 13/150\n",
      "514/514 [==============================] - 0s 182us/step - loss: 0.6582 - accuracy: 0.6732 - val_loss: 0.6912 - val_accuracy: 0.6417\n",
      "Epoch 14/150\n",
      "514/514 [==============================] - 0s 182us/step - loss: 0.6273 - accuracy: 0.6868 - val_loss: 0.6694 - val_accuracy: 0.6969\n",
      "Epoch 15/150\n",
      "514/514 [==============================] - 0s 185us/step - loss: 0.6240 - accuracy: 0.6868 - val_loss: 0.6553 - val_accuracy: 0.6772\n",
      "Epoch 16/150\n",
      "514/514 [==============================] - 0s 182us/step - loss: 0.6296 - accuracy: 0.6887 - val_loss: 0.6448 - val_accuracy: 0.6654\n",
      "Epoch 17/150\n",
      "514/514 [==============================] - 0s 188us/step - loss: 0.6212 - accuracy: 0.6907 - val_loss: 0.6621 - val_accuracy: 0.6654\n",
      "Epoch 18/150\n",
      "514/514 [==============================] - 0s 187us/step - loss: 0.6224 - accuracy: 0.6926 - val_loss: 0.7061 - val_accuracy: 0.6299\n",
      "Epoch 19/150\n",
      "514/514 [==============================] - 0s 182us/step - loss: 0.6139 - accuracy: 0.6926 - val_loss: 0.6311 - val_accuracy: 0.6929\n",
      "Epoch 20/150\n",
      "514/514 [==============================] - 0s 177us/step - loss: 0.6108 - accuracy: 0.6829 - val_loss: 0.6505 - val_accuracy: 0.6811\n",
      "Epoch 21/150\n",
      "514/514 [==============================] - 0s 189us/step - loss: 0.6097 - accuracy: 0.7043 - val_loss: 0.6246 - val_accuracy: 0.6772\n",
      "Epoch 22/150\n",
      "514/514 [==============================] - 0s 188us/step - loss: 0.5867 - accuracy: 0.7121 - val_loss: 0.6144 - val_accuracy: 0.6850\n",
      "Epoch 23/150\n",
      "514/514 [==============================] - 0s 188us/step - loss: 0.6075 - accuracy: 0.7140 - val_loss: 0.6233 - val_accuracy: 0.6890\n",
      "Epoch 24/150\n",
      "514/514 [==============================] - 0s 187us/step - loss: 0.5924 - accuracy: 0.7062 - val_loss: 0.6198 - val_accuracy: 0.6850\n",
      "Epoch 25/150\n",
      "514/514 [==============================] - 0s 193us/step - loss: 0.5947 - accuracy: 0.7004 - val_loss: 0.6324 - val_accuracy: 0.6890\n",
      "Epoch 26/150\n",
      "514/514 [==============================] - 0s 188us/step - loss: 0.6258 - accuracy: 0.6809 - val_loss: 0.6424 - val_accuracy: 0.6535\n",
      "Epoch 27/150\n",
      "514/514 [==============================] - 0s 178us/step - loss: 0.5872 - accuracy: 0.7043 - val_loss: 0.6505 - val_accuracy: 0.6772\n",
      "Epoch 28/150\n",
      "514/514 [==============================] - 0s 177us/step - loss: 0.5702 - accuracy: 0.7160 - val_loss: 0.6137 - val_accuracy: 0.6811\n",
      "Epoch 29/150\n",
      "514/514 [==============================] - 0s 176us/step - loss: 0.5823 - accuracy: 0.7179 - val_loss: 0.6081 - val_accuracy: 0.6850\n",
      "Epoch 30/150\n",
      "514/514 [==============================] - 0s 183us/step - loss: 0.6020 - accuracy: 0.6868 - val_loss: 0.6221 - val_accuracy: 0.6850\n",
      "Epoch 31/150\n",
      "514/514 [==============================] - 0s 180us/step - loss: 0.5830 - accuracy: 0.7179 - val_loss: 0.5955 - val_accuracy: 0.7047\n",
      "Epoch 32/150\n",
      "514/514 [==============================] - 0s 180us/step - loss: 0.5819 - accuracy: 0.7004 - val_loss: 0.6080 - val_accuracy: 0.7126\n",
      "Epoch 33/150\n",
      "514/514 [==============================] - 0s 174us/step - loss: 0.5611 - accuracy: 0.7237 - val_loss: 0.6051 - val_accuracy: 0.7047\n",
      "Epoch 34/150\n",
      "514/514 [==============================] - 0s 203us/step - loss: 0.5593 - accuracy: 0.7257 - val_loss: 0.5965 - val_accuracy: 0.6929\n",
      "Epoch 35/150\n",
      "514/514 [==============================] - 0s 198us/step - loss: 0.5766 - accuracy: 0.6829 - val_loss: 0.5927 - val_accuracy: 0.7087\n",
      "Epoch 36/150\n",
      "514/514 [==============================] - 0s 189us/step - loss: 0.5571 - accuracy: 0.7121 - val_loss: 0.6094 - val_accuracy: 0.6535\n",
      "Epoch 37/150\n",
      "514/514 [==============================] - 0s 190us/step - loss: 0.5492 - accuracy: 0.7315 - val_loss: 0.5861 - val_accuracy: 0.7087\n",
      "Epoch 38/150\n",
      "514/514 [==============================] - 0s 188us/step - loss: 0.5588 - accuracy: 0.7276 - val_loss: 0.5995 - val_accuracy: 0.7047\n",
      "Epoch 39/150\n",
      "514/514 [==============================] - 0s 194us/step - loss: 0.5678 - accuracy: 0.7082 - val_loss: 0.6181 - val_accuracy: 0.6811\n",
      "Epoch 40/150\n",
      "514/514 [==============================] - 0s 180us/step - loss: 0.5623 - accuracy: 0.7179 - val_loss: 0.5748 - val_accuracy: 0.7205\n",
      "Epoch 41/150\n",
      "514/514 [==============================] - 0s 182us/step - loss: 0.5441 - accuracy: 0.7315 - val_loss: 0.5932 - val_accuracy: 0.7087\n",
      "Epoch 42/150\n",
      "514/514 [==============================] - 0s 192us/step - loss: 0.5485 - accuracy: 0.7082 - val_loss: 0.5972 - val_accuracy: 0.7047\n",
      "Epoch 43/150\n",
      "514/514 [==============================] - 0s 195us/step - loss: 0.5433 - accuracy: 0.7412 - val_loss: 0.5711 - val_accuracy: 0.7323\n",
      "Epoch 44/150\n",
      "514/514 [==============================] - 0s 189us/step - loss: 0.5459 - accuracy: 0.7218 - val_loss: 0.5666 - val_accuracy: 0.7362\n",
      "Epoch 45/150\n",
      "514/514 [==============================] - 0s 186us/step - loss: 0.5598 - accuracy: 0.7140 - val_loss: 0.5996 - val_accuracy: 0.7165\n",
      "Epoch 46/150\n",
      "514/514 [==============================] - 0s 188us/step - loss: 0.5616 - accuracy: 0.7140 - val_loss: 0.6173 - val_accuracy: 0.6850\n",
      "Epoch 47/150\n",
      "514/514 [==============================] - 0s 185us/step - loss: 0.5506 - accuracy: 0.7101 - val_loss: 0.5727 - val_accuracy: 0.7087\n",
      "Epoch 48/150\n",
      "514/514 [==============================] - 0s 195us/step - loss: 0.5350 - accuracy: 0.7237 - val_loss: 0.5863 - val_accuracy: 0.7008\n",
      "Epoch 49/150\n",
      "514/514 [==============================] - 0s 198us/step - loss: 0.5417 - accuracy: 0.7296 - val_loss: 0.5679 - val_accuracy: 0.7362\n",
      "Epoch 50/150\n",
      "514/514 [==============================] - 0s 182us/step - loss: 0.5321 - accuracy: 0.7471 - val_loss: 0.5646 - val_accuracy: 0.7323\n",
      "Epoch 51/150\n",
      "514/514 [==============================] - 0s 186us/step - loss: 0.5364 - accuracy: 0.7665 - val_loss: 0.5742 - val_accuracy: 0.7244\n",
      "Epoch 52/150\n",
      "514/514 [==============================] - 0s 185us/step - loss: 0.5301 - accuracy: 0.7471 - val_loss: 0.5792 - val_accuracy: 0.7126\n",
      "Epoch 53/150\n",
      "514/514 [==============================] - 0s 192us/step - loss: 0.5414 - accuracy: 0.7354 - val_loss: 0.5764 - val_accuracy: 0.7362\n",
      "Epoch 54/150\n",
      "514/514 [==============================] - 0s 193us/step - loss: 0.5604 - accuracy: 0.7257 - val_loss: 0.5777 - val_accuracy: 0.6929\n",
      "Epoch 55/150\n",
      "514/514 [==============================] - 0s 188us/step - loss: 0.5504 - accuracy: 0.7179 - val_loss: 0.5728 - val_accuracy: 0.7126\n",
      "Epoch 56/150\n",
      "514/514 [==============================] - 0s 196us/step - loss: 0.5545 - accuracy: 0.7198 - val_loss: 0.5930 - val_accuracy: 0.6929\n",
      "Epoch 57/150\n",
      "514/514 [==============================] - 0s 196us/step - loss: 0.5752 - accuracy: 0.7121 - val_loss: 0.5757 - val_accuracy: 0.7205\n",
      "Epoch 58/150\n",
      "514/514 [==============================] - 0s 190us/step - loss: 0.5407 - accuracy: 0.7296 - val_loss: 0.5549 - val_accuracy: 0.7362\n",
      "Epoch 59/150\n",
      "514/514 [==============================] - 0s 189us/step - loss: 0.5248 - accuracy: 0.7510 - val_loss: 0.5860 - val_accuracy: 0.7205\n",
      "Epoch 60/150\n",
      "514/514 [==============================] - 0s 176us/step - loss: 0.5359 - accuracy: 0.7471 - val_loss: 0.5736 - val_accuracy: 0.7244\n",
      "Epoch 61/150\n",
      "514/514 [==============================] - 0s 176us/step - loss: 0.5315 - accuracy: 0.7315 - val_loss: 0.5632 - val_accuracy: 0.7441\n",
      "Epoch 62/150\n",
      "514/514 [==============================] - 0s 175us/step - loss: 0.5206 - accuracy: 0.7451 - val_loss: 0.5735 - val_accuracy: 0.7087\n",
      "Epoch 63/150\n",
      "514/514 [==============================] - 0s 176us/step - loss: 0.5337 - accuracy: 0.7276 - val_loss: 0.6072 - val_accuracy: 0.7047\n",
      "Epoch 64/150\n",
      "514/514 [==============================] - 0s 175us/step - loss: 0.5407 - accuracy: 0.7296 - val_loss: 0.6237 - val_accuracy: 0.6850\n",
      "Epoch 65/150\n",
      "514/514 [==============================] - 0s 170us/step - loss: 0.5320 - accuracy: 0.7335 - val_loss: 0.5646 - val_accuracy: 0.7480\n",
      "Epoch 66/150\n",
      "514/514 [==============================] - 0s 180us/step - loss: 0.5578 - accuracy: 0.7393 - val_loss: 0.6081 - val_accuracy: 0.6969\n",
      "Epoch 67/150\n",
      "514/514 [==============================] - 0s 185us/step - loss: 0.5240 - accuracy: 0.7374 - val_loss: 0.5562 - val_accuracy: 0.7205\n",
      "Epoch 68/150\n",
      "514/514 [==============================] - 0s 188us/step - loss: 0.5286 - accuracy: 0.7315 - val_loss: 0.5698 - val_accuracy: 0.7598\n",
      "Epoch 69/150\n",
      "514/514 [==============================] - 0s 187us/step - loss: 0.5154 - accuracy: 0.7432 - val_loss: 0.5805 - val_accuracy: 0.7165\n",
      "Epoch 70/150\n",
      "514/514 [==============================] - 0s 194us/step - loss: 0.5264 - accuracy: 0.7218 - val_loss: 0.5659 - val_accuracy: 0.7244\n",
      "Epoch 71/150\n",
      "514/514 [==============================] - 0s 174us/step - loss: 0.5136 - accuracy: 0.7393 - val_loss: 0.5598 - val_accuracy: 0.7441\n",
      "Epoch 72/150\n",
      "514/514 [==============================] - 0s 174us/step - loss: 0.5489 - accuracy: 0.7296 - val_loss: 0.5644 - val_accuracy: 0.7520\n",
      "Epoch 73/150\n",
      "514/514 [==============================] - 0s 221us/step - loss: 0.5128 - accuracy: 0.7335 - val_loss: 0.6017 - val_accuracy: 0.6890\n",
      "Epoch 74/150\n",
      "514/514 [==============================] - 0s 198us/step - loss: 0.5426 - accuracy: 0.7296 - val_loss: 0.5636 - val_accuracy: 0.7441\n",
      "Epoch 75/150\n",
      "514/514 [==============================] - 0s 188us/step - loss: 0.5442 - accuracy: 0.7237 - val_loss: 0.6034 - val_accuracy: 0.6929\n",
      "Epoch 76/150\n",
      "514/514 [==============================] - 0s 172us/step - loss: 0.5304 - accuracy: 0.7315 - val_loss: 0.5938 - val_accuracy: 0.6969\n",
      "Epoch 77/150\n",
      "514/514 [==============================] - 0s 171us/step - loss: 0.5199 - accuracy: 0.7432 - val_loss: 0.5790 - val_accuracy: 0.7480\n",
      "Epoch 78/150\n",
      "514/514 [==============================] - 0s 178us/step - loss: 0.5098 - accuracy: 0.7490 - val_loss: 0.5768 - val_accuracy: 0.7402\n",
      "Epoch 79/150\n",
      "514/514 [==============================] - 0s 203us/step - loss: 0.5266 - accuracy: 0.7412 - val_loss: 0.5678 - val_accuracy: 0.7520\n",
      "Epoch 80/150\n",
      "514/514 [==============================] - 0s 180us/step - loss: 0.5237 - accuracy: 0.7354 - val_loss: 0.5585 - val_accuracy: 0.7441\n",
      "Epoch 81/150\n",
      "514/514 [==============================] - 0s 170us/step - loss: 0.5151 - accuracy: 0.7432 - val_loss: 0.5649 - val_accuracy: 0.7441\n",
      "Epoch 82/150\n",
      "514/514 [==============================] - 0s 175us/step - loss: 0.5392 - accuracy: 0.7296 - val_loss: 0.5675 - val_accuracy: 0.7559\n",
      "Epoch 83/150\n",
      "514/514 [==============================] - 0s 188us/step - loss: 0.5193 - accuracy: 0.7588 - val_loss: 0.7124 - val_accuracy: 0.6575\n",
      "Epoch 84/150\n",
      "514/514 [==============================] - 0s 182us/step - loss: 0.5082 - accuracy: 0.7588 - val_loss: 0.5628 - val_accuracy: 0.7165\n",
      "Epoch 85/150\n",
      "514/514 [==============================] - 0s 179us/step - loss: 0.5302 - accuracy: 0.7471 - val_loss: 0.5808 - val_accuracy: 0.7244\n",
      "Epoch 86/150\n",
      "514/514 [==============================] - 0s 201us/step - loss: 0.5255 - accuracy: 0.7471 - val_loss: 0.5679 - val_accuracy: 0.6850\n",
      "Epoch 87/150\n",
      "514/514 [==============================] - 0s 187us/step - loss: 0.5235 - accuracy: 0.7296 - val_loss: 0.5663 - val_accuracy: 0.7441\n",
      "Epoch 88/150\n",
      "514/514 [==============================] - 0s 192us/step - loss: 0.5169 - accuracy: 0.7529 - val_loss: 0.5743 - val_accuracy: 0.7047\n",
      "Epoch 89/150\n",
      "514/514 [==============================] - 0s 181us/step - loss: 0.5151 - accuracy: 0.7510 - val_loss: 0.5687 - val_accuracy: 0.7677\n",
      "Epoch 90/150\n",
      "514/514 [==============================] - 0s 179us/step - loss: 0.5192 - accuracy: 0.7237 - val_loss: 0.6388 - val_accuracy: 0.6693\n",
      "Epoch 91/150\n",
      "514/514 [==============================] - 0s 180us/step - loss: 0.5153 - accuracy: 0.7549 - val_loss: 0.5612 - val_accuracy: 0.7047\n",
      "Epoch 92/150\n",
      "514/514 [==============================] - 0s 176us/step - loss: 0.5168 - accuracy: 0.7335 - val_loss: 0.5556 - val_accuracy: 0.7520\n",
      "Epoch 93/150\n",
      "514/514 [==============================] - 0s 176us/step - loss: 0.5150 - accuracy: 0.7451 - val_loss: 0.5702 - val_accuracy: 0.7283\n",
      "Epoch 94/150\n",
      "514/514 [==============================] - 0s 176us/step - loss: 0.5145 - accuracy: 0.7549 - val_loss: 0.5628 - val_accuracy: 0.7441\n",
      "Epoch 95/150\n",
      "514/514 [==============================] - 0s 184us/step - loss: 0.4978 - accuracy: 0.7529 - val_loss: 0.5610 - val_accuracy: 0.7087\n",
      "Epoch 96/150\n",
      "514/514 [==============================] - 0s 181us/step - loss: 0.5232 - accuracy: 0.7276 - val_loss: 0.5585 - val_accuracy: 0.7441\n",
      "Epoch 97/150\n",
      "514/514 [==============================] - 0s 176us/step - loss: 0.4992 - accuracy: 0.7412 - val_loss: 0.5716 - val_accuracy: 0.7126\n",
      "Epoch 98/150\n",
      "514/514 [==============================] - 0s 183us/step - loss: 0.5015 - accuracy: 0.7471 - val_loss: 0.5813 - val_accuracy: 0.7323\n",
      "Epoch 99/150\n",
      "514/514 [==============================] - 0s 184us/step - loss: 0.5052 - accuracy: 0.7529 - val_loss: 0.6333 - val_accuracy: 0.6929\n",
      "Epoch 100/150\n",
      "514/514 [==============================] - 0s 176us/step - loss: 0.5122 - accuracy: 0.7568 - val_loss: 0.5691 - val_accuracy: 0.7165\n",
      "Epoch 101/150\n",
      "514/514 [==============================] - 0s 180us/step - loss: 0.5149 - accuracy: 0.7315 - val_loss: 0.5739 - val_accuracy: 0.7520\n",
      "Epoch 102/150\n",
      "514/514 [==============================] - 0s 177us/step - loss: 0.5504 - accuracy: 0.7510 - val_loss: 0.5537 - val_accuracy: 0.7441\n",
      "Epoch 103/150\n",
      "514/514 [==============================] - 0s 178us/step - loss: 0.5247 - accuracy: 0.7315 - val_loss: 0.5536 - val_accuracy: 0.7441\n",
      "Epoch 104/150\n",
      "514/514 [==============================] - 0s 186us/step - loss: 0.5101 - accuracy: 0.7315 - val_loss: 0.6719 - val_accuracy: 0.6732\n",
      "Epoch 105/150\n",
      "514/514 [==============================] - 0s 195us/step - loss: 0.5134 - accuracy: 0.7374 - val_loss: 0.5524 - val_accuracy: 0.7520\n",
      "Epoch 106/150\n",
      "514/514 [==============================] - 0s 195us/step - loss: 0.5233 - accuracy: 0.7451 - val_loss: 0.5560 - val_accuracy: 0.7126\n",
      "Epoch 107/150\n",
      "514/514 [==============================] - 0s 188us/step - loss: 0.5024 - accuracy: 0.7335 - val_loss: 0.6359 - val_accuracy: 0.6772\n",
      "Epoch 108/150\n",
      "514/514 [==============================] - 0s 175us/step - loss: 0.5366 - accuracy: 0.7374 - val_loss: 0.5993 - val_accuracy: 0.7283\n",
      "Epoch 109/150\n",
      "514/514 [==============================] - 0s 184us/step - loss: 0.5087 - accuracy: 0.7451 - val_loss: 0.5681 - val_accuracy: 0.7126\n",
      "Epoch 110/150\n",
      "514/514 [==============================] - 0s 174us/step - loss: 0.4977 - accuracy: 0.7451 - val_loss: 0.5526 - val_accuracy: 0.7323\n",
      "Epoch 111/150\n",
      "514/514 [==============================] - 0s 180us/step - loss: 0.5029 - accuracy: 0.7607 - val_loss: 0.5644 - val_accuracy: 0.7638\n",
      "Epoch 112/150\n",
      "514/514 [==============================] - 0s 190us/step - loss: 0.4952 - accuracy: 0.7471 - val_loss: 0.5571 - val_accuracy: 0.7165\n",
      "Epoch 113/150\n",
      "514/514 [==============================] - 0s 190us/step - loss: 0.4879 - accuracy: 0.7451 - val_loss: 0.5727 - val_accuracy: 0.7520\n",
      "Epoch 114/150\n",
      "514/514 [==============================] - 0s 195us/step - loss: 0.4997 - accuracy: 0.7549 - val_loss: 0.6042 - val_accuracy: 0.7087\n",
      "Epoch 115/150\n",
      "514/514 [==============================] - 0s 194us/step - loss: 0.5167 - accuracy: 0.7490 - val_loss: 0.5605 - val_accuracy: 0.7205\n",
      "Epoch 116/150\n",
      "514/514 [==============================] - 0s 180us/step - loss: 0.5119 - accuracy: 0.7510 - val_loss: 0.5646 - val_accuracy: 0.7165\n",
      "Epoch 117/150\n",
      "514/514 [==============================] - 0s 183us/step - loss: 0.4871 - accuracy: 0.7432 - val_loss: 0.5494 - val_accuracy: 0.7441\n",
      "Epoch 118/150\n",
      "514/514 [==============================] - 0s 187us/step - loss: 0.4970 - accuracy: 0.7412 - val_loss: 0.5546 - val_accuracy: 0.7205\n",
      "Epoch 119/150\n",
      "514/514 [==============================] - 0s 198us/step - loss: 0.4959 - accuracy: 0.7549 - val_loss: 0.5968 - val_accuracy: 0.7244\n",
      "Epoch 120/150\n",
      "514/514 [==============================] - 0s 189us/step - loss: 0.5010 - accuracy: 0.7490 - val_loss: 0.5526 - val_accuracy: 0.7441\n",
      "Epoch 121/150\n",
      "514/514 [==============================] - 0s 188us/step - loss: 0.4924 - accuracy: 0.7510 - val_loss: 0.5599 - val_accuracy: 0.7165\n",
      "Epoch 122/150\n",
      "514/514 [==============================] - 0s 181us/step - loss: 0.4960 - accuracy: 0.7646 - val_loss: 0.5722 - val_accuracy: 0.6850\n",
      "Epoch 123/150\n",
      "514/514 [==============================] - 0s 193us/step - loss: 0.5044 - accuracy: 0.7490 - val_loss: 0.5507 - val_accuracy: 0.7559\n",
      "Epoch 124/150\n",
      "514/514 [==============================] - 0s 187us/step - loss: 0.4883 - accuracy: 0.7665 - val_loss: 0.5595 - val_accuracy: 0.7795\n",
      "Epoch 125/150\n",
      "514/514 [==============================] - 0s 180us/step - loss: 0.5128 - accuracy: 0.7490 - val_loss: 0.5874 - val_accuracy: 0.7126\n",
      "Epoch 126/150\n",
      "514/514 [==============================] - 0s 180us/step - loss: 0.4989 - accuracy: 0.7568 - val_loss: 0.5507 - val_accuracy: 0.7402\n",
      "Epoch 127/150\n",
      "514/514 [==============================] - 0s 184us/step - loss: 0.4994 - accuracy: 0.7549 - val_loss: 0.5561 - val_accuracy: 0.7874\n",
      "Epoch 128/150\n",
      "514/514 [==============================] - 0s 179us/step - loss: 0.4909 - accuracy: 0.7685 - val_loss: 0.5833 - val_accuracy: 0.7087\n",
      "Epoch 129/150\n",
      "514/514 [==============================] - 0s 175us/step - loss: 0.4886 - accuracy: 0.7510 - val_loss: 0.5652 - val_accuracy: 0.7480\n",
      "Epoch 130/150\n",
      "514/514 [==============================] - 0s 179us/step - loss: 0.4949 - accuracy: 0.7568 - val_loss: 0.5594 - val_accuracy: 0.7441\n",
      "Epoch 131/150\n",
      "514/514 [==============================] - 0s 174us/step - loss: 0.4905 - accuracy: 0.7588 - val_loss: 0.5582 - val_accuracy: 0.7402\n",
      "Epoch 132/150\n",
      "514/514 [==============================] - 0s 179us/step - loss: 0.4900 - accuracy: 0.7549 - val_loss: 0.5913 - val_accuracy: 0.7441\n",
      "Epoch 133/150\n",
      "514/514 [==============================] - 0s 189us/step - loss: 0.5098 - accuracy: 0.7471 - val_loss: 0.5776 - val_accuracy: 0.7323\n",
      "Epoch 134/150\n",
      "514/514 [==============================] - 0s 189us/step - loss: 0.4841 - accuracy: 0.7471 - val_loss: 0.5701 - val_accuracy: 0.6929\n",
      "Epoch 135/150\n",
      "514/514 [==============================] - 0s 183us/step - loss: 0.4887 - accuracy: 0.7549 - val_loss: 0.6252 - val_accuracy: 0.6890\n",
      "Epoch 136/150\n",
      "514/514 [==============================] - 0s 175us/step - loss: 0.4974 - accuracy: 0.7471 - val_loss: 0.6386 - val_accuracy: 0.6850\n",
      "Epoch 137/150\n",
      "514/514 [==============================] - 0s 172us/step - loss: 0.5088 - accuracy: 0.7743 - val_loss: 0.5701 - val_accuracy: 0.7717\n",
      "Epoch 138/150\n",
      "514/514 [==============================] - 0s 169us/step - loss: 0.4982 - accuracy: 0.7588 - val_loss: 0.6020 - val_accuracy: 0.7126\n",
      "Epoch 139/150\n",
      "514/514 [==============================] - 0s 182us/step - loss: 0.4954 - accuracy: 0.7607 - val_loss: 0.5865 - val_accuracy: 0.7441\n",
      "Epoch 140/150\n",
      "514/514 [==============================] - 0s 177us/step - loss: 0.4928 - accuracy: 0.7471 - val_loss: 0.5712 - val_accuracy: 0.7638\n",
      "Epoch 141/150\n",
      "514/514 [==============================] - 0s 175us/step - loss: 0.4874 - accuracy: 0.7588 - val_loss: 0.5499 - val_accuracy: 0.7402\n",
      "Epoch 142/150\n",
      "514/514 [==============================] - 0s 181us/step - loss: 0.5068 - accuracy: 0.7510 - val_loss: 0.5992 - val_accuracy: 0.6929\n",
      "Epoch 143/150\n",
      "514/514 [==============================] - 0s 183us/step - loss: 0.4967 - accuracy: 0.7432 - val_loss: 0.5957 - val_accuracy: 0.7165\n",
      "Epoch 144/150\n",
      "514/514 [==============================] - 0s 184us/step - loss: 0.4874 - accuracy: 0.7549 - val_loss: 0.5555 - val_accuracy: 0.7598\n",
      "Epoch 145/150\n",
      "514/514 [==============================] - 0s 182us/step - loss: 0.4839 - accuracy: 0.7568 - val_loss: 0.5555 - val_accuracy: 0.7402\n",
      "Epoch 146/150\n",
      "514/514 [==============================] - 0s 179us/step - loss: 0.4842 - accuracy: 0.7588 - val_loss: 0.5556 - val_accuracy: 0.7835\n",
      "Epoch 147/150\n",
      "514/514 [==============================] - 0s 194us/step - loss: 0.4898 - accuracy: 0.7412 - val_loss: 0.5575 - val_accuracy: 0.7402\n",
      "Epoch 148/150\n",
      "514/514 [==============================] - 0s 175us/step - loss: 0.4716 - accuracy: 0.7529 - val_loss: 0.5500 - val_accuracy: 0.7283\n",
      "Epoch 149/150\n",
      "514/514 [==============================] - 0s 184us/step - loss: 0.4853 - accuracy: 0.7685 - val_loss: 0.5494 - val_accuracy: 0.7756\n",
      "Epoch 150/150\n",
      "514/514 [==============================] - 0s 179us/step - loss: 0.4929 - accuracy: 0.7685 - val_loss: 0.5846 - val_accuracy: 0.7402\n"
     ]
    },
    {
     "data": {
      "text/plain": [
       "<keras.callbacks.callbacks.History at 0x7f996c1520f0>"
      ]
     },
     "execution_count": 4,
     "metadata": {},
     "output_type": "execute_result"
    }
   ],
   "source": [
    "# Fit the model\n",
    "model.fit(X_train, y_train, validation_data=(X_test,y_test), epochs=150, batch_size=10)"
   ]
  },
  {
   "cell_type": "code",
   "execution_count": null,
   "metadata": {},
   "outputs": [],
   "source": []
  },
  {
   "cell_type": "code",
   "execution_count": null,
   "metadata": {},
   "outputs": [],
   "source": []
  },
  {
   "cell_type": "code",
   "execution_count": null,
   "metadata": {},
   "outputs": [],
   "source": []
  },
  {
   "cell_type": "code",
   "execution_count": 3,
   "metadata": {},
   "outputs": [],
   "source": [
    "# MLP for Pima Indians Dataset with 10-fold cross validation\n",
    "from keras.models import Sequential\n",
    "from keras.layers import Dense\n",
    "from sklearn.model_selection import StratifiedKFold\n",
    "import numpy\n",
    "# fix random seed for reproducibility\n",
    "seed = 7\n",
    "numpy.random.seed(seed)"
   ]
  },
  {
   "cell_type": "code",
   "execution_count": 4,
   "metadata": {},
   "outputs": [
    {
     "data": {
      "text/plain": [
       "((768, 8), (768,))"
      ]
     },
     "execution_count": 4,
     "metadata": {},
     "output_type": "execute_result"
    }
   ],
   "source": [
    "# load pima indians dataset\n",
    "dataset = numpy.loadtxt(\"pima-indians-diabetes.csv\", delimiter=\",\")\n",
    "# split into input (X) and output (Y) variables\n",
    "X = dataset[:,0:8]\n",
    "Y = dataset[:,8]\n",
    "X.shape, Y.shape"
   ]
  },
  {
   "cell_type": "code",
   "execution_count": 5,
   "metadata": {},
   "outputs": [],
   "source": [
    "def create_model():\n",
    "    # create model\n",
    "    model = Sequential()\n",
    "    model.add(Dense(12, input_dim=8, activation='relu'))\n",
    "    model.add(Dense(8, activation='relu'))\n",
    "    model.add(Dense(1, activation='sigmoid'))\n",
    "    # Compile model\n",
    "    model.compile(loss='binary_crossentropy', optimizer='adam', metrics=['accuracy'])\n",
    "    return model\n",
    "    \n",
    "def train_model(model):\n",
    "    # Fit the model\n",
    "    model.fit(X[train], Y[train], epochs=150, batch_size=10, verbose=0)"
   ]
  },
  {
   "cell_type": "code",
   "execution_count": 6,
   "metadata": {},
   "outputs": [
    {
     "data": {
      "text/plain": [
       "StratifiedKFold(n_splits=10, random_state=7, shuffle=True)"
      ]
     },
     "execution_count": 6,
     "metadata": {},
     "output_type": "execute_result"
    }
   ],
   "source": [
    "# define 10-fold cross validation test harness\n",
    "kfold = StratifiedKFold(n_splits=10, shuffle=True, random_state=seed)\n",
    "kfold"
   ]
  },
  {
   "cell_type": "code",
   "execution_count": 5,
   "metadata": {},
   "outputs": [
    {
     "name": "stdout",
     "output_type": "stream",
     "text": [
      "accuracy: 80.52%\n",
      "accuracy: 79.22%\n",
      "accuracy: 72.73%\n",
      "accuracy: 66.23%\n",
      "accuracy: 70.13%\n",
      "accuracy: 70.13%\n",
      "accuracy: 76.62%\n",
      "accuracy: 74.03%\n",
      "accuracy: 71.05%\n",
      "accuracy: 73.68%\n",
      "73.43% (+/- 4.17%)\n"
     ]
    }
   ],
   "source": [
    "cvscores = []\n",
    "for train, test in kfold.split(X, Y):\n",
    "    # Create\n",
    "    model = create_model()\n",
    "    \n",
    "    # Train\n",
    "    train_model(model)\n",
    "    \n",
    "    # evaluate the model\n",
    "    scores = model.evaluate(X[test], Y[test], verbose=0)\n",
    "    print(\"%s: %.2f%%\" % (model.metrics_names[1], scores[1]*100))\n",
    "    \n",
    "    cvscores.append(scores[1] * 100)\n",
    "    \n",
    "print(\"%.2f%% (+/- %.2f%%)\" % (numpy.mean(cvscores), numpy.std(cvscores)))"
   ]
  },
  {
   "cell_type": "code",
   "execution_count": 9,
   "metadata": {},
   "outputs": [],
   "source": [
    "#72.53% (+/- 3.46%)\n"
   ]
  },
  {
   "cell_type": "code",
   "execution_count": null,
   "metadata": {},
   "outputs": [],
   "source": []
  },
  {
   "cell_type": "code",
   "execution_count": null,
   "metadata": {},
   "outputs": [],
   "source": []
  },
  {
   "cell_type": "code",
   "execution_count": null,
   "metadata": {},
   "outputs": [],
   "source": []
  },
  {
   "cell_type": "code",
   "execution_count": null,
   "metadata": {},
   "outputs": [],
   "source": []
  },
  {
   "cell_type": "code",
   "execution_count": null,
   "metadata": {},
   "outputs": [],
   "source": []
  },
  {
   "cell_type": "code",
   "execution_count": 7,
   "metadata": {},
   "outputs": [],
   "source": [
    "from __future__ import print_function\n",
    "import numpy as np\n",
    "import time\n",
    "import keras\n",
    "from keras.datasets import cifar10\n",
    "from keras.preprocessing.image import ImageDataGenerator\n",
    "from keras.models import Sequential\n",
    "from keras.layers import Dense, Dropout, Activation, Flatten\n",
    "from keras.layers import Conv2D, MaxPooling2D\n",
    "import os\n",
    "from sklearn.model_selection import StratifiedKFold"
   ]
  },
  {
   "cell_type": "code",
   "execution_count": 8,
   "metadata": {},
   "outputs": [],
   "source": [
    "# hyperparams\n",
    "batch_size = 32\n",
    "num_classes = 10\n",
    "epochs = 10\n",
    "\n",
    "\n",
    "# input image dimensions\n",
    "img_rows, img_cols = 32, 32\n",
    "input_shape = (img_rows, img_cols, 3)"
   ]
  },
  {
   "cell_type": "code",
   "execution_count": 9,
   "metadata": {},
   "outputs": [],
   "source": [
    "def load_data():\n",
    "    \n",
    "    # load your data using this function  \n",
    "    \n",
    "    #(x_train, y_train), (x_test, y_test) = mnist.load_data()\n",
    "    (x_train, y_train), (x_test, y_test) = cifar10.load_data()\n",
    "\n",
    "    # normalize\n",
    "    x_train = x_train.astype('float32')\n",
    "    x_test = x_test.astype('float32')\n",
    "    x_train /= 255\n",
    "    x_test /= 255\n",
    "    \n",
    "    return x_train, y_train\n",
    "    \n",
    "    \n",
    "def create_model():\n",
    "    \n",
    "    # create your model using this function\n",
    "    \n",
    "    model = Sequential()\n",
    "    model.add(Conv2D(32, (3, 3), padding='same',\n",
    "                     input_shape=input_shape))\n",
    "    \n",
    "    model.add(Activation('relu'))\n",
    "    model.add(Conv2D(32, (3, 3)))\n",
    "    model.add(Activation('relu'))\n",
    "    model.add(MaxPooling2D(pool_size=(2, 2)))\n",
    "    model.add(Dropout(0.25))\n",
    "\n",
    "    model.add(Conv2D(64, (3, 3), padding='same'))\n",
    "    model.add(Activation('relu'))\n",
    "    model.add(Conv2D(64, (3, 3)))\n",
    "    model.add(Activation('relu'))\n",
    "    model.add(MaxPooling2D(pool_size=(2, 2)))\n",
    "    model.add(Dropout(0.25))\n",
    "\n",
    "    model.add(Flatten())\n",
    "    model.add(Dense(512))\n",
    "    model.add(Activation('relu'))\n",
    "    model.add(Dropout(0.5))\n",
    "    model.add(Dense(num_classes))\n",
    "    model.add(Activation('softmax'))\n",
    "\n",
    "    # initiate RMSprop optimizer\n",
    "    opt = keras.optimizers.RMSprop(learning_rate=0.0001, decay=1e-6)\n",
    "\n",
    "    # Let's train the model using RMSprop\n",
    "    model.compile(loss='categorical_crossentropy',\n",
    "                  optimizer=opt,\n",
    "                  metrics=['accuracy'])\n",
    "    return model\n",
    "\n",
    "\n",
    "def train_and_evaluate_model(model, x_train_cv, y_train_cv, x_val_cv, y_val_cv):\n",
    "    \n",
    "    # fit and evaluate here.\n",
    "    \n",
    "    # convert class vectors to binary class matrices\n",
    "    y_train_cv = keras.utils.to_categorical(y_train_cv, num_classes)\n",
    "    y_val_cv = keras.utils.to_categorical(y_val_cv, num_classes)\n",
    "    \n",
    "    model.fit(x_train_cv,y_train_cv,\n",
    "          batch_size=batch_size,\n",
    "          epochs=epochs,\n",
    "          verbose=1,\n",
    "          validation_data=(x_val_cv, y_val_cv))\n",
    "    \n",
    "    score = model.evaluate(x_val_cv, y_val_cv, verbose=0)\n",
    "    loss, acc = score[0], score[1]\n",
    "    \n",
    "    return acc"
   ]
  },
  {
   "cell_type": "code",
   "execution_count": 10,
   "metadata": {},
   "outputs": [],
   "source": [
    "# Save model and weights\n",
    "#if not os.path.isdir(save_dir):\n",
    "#    os.makedirs(save_dir)\n",
    "#model_path = os.path.join(save_dir, model_name)\n",
    "#model.save(model_path)\n",
    "#print('Saved trained model at %s ' % model_path)\n",
    "\n",
    "# Score trained model.\n",
    "#scores = model.evaluate(x_test, y_test, verbose=1)\n",
    "#print('Test loss:', scores[0])\n",
    "#print('Test accuracy:', scores[1])"
   ]
  },
  {
   "cell_type": "code",
   "execution_count": 11,
   "metadata": {},
   "outputs": [
    {
     "name": "stdout",
     "output_type": "stream",
     "text": [
      "(50000, 32, 32, 3) (50000, 1)\n",
      "StratifiedKFold(n_splits=5, random_state=0, shuffle=True)\n"
     ]
    }
   ],
   "source": [
    "n_folds = 10\n",
    "\n",
    "data, labels = load_data()\n",
    "print(data.shape, labels.shape)\n",
    "\n",
    "# define 10-fold cross validation\n",
    "kfold = StratifiedKFold(n_splits=5, shuffle=True, random_state=0)\n",
    "print(kfold)"
   ]
  },
  {
   "cell_type": "code",
   "execution_count": 12,
   "metadata": {},
   "outputs": [
    {
     "name": "stdout",
     "output_type": "stream",
     "text": [
      "[ 3  4  5  6  7  8  9 10 11 12] [ 0  1  2 14 17 21 24 25 33 41]\n",
      "Fold - 0 (40000, 32, 32, 3) (40000, 1) (10000, 32, 32, 3) (10000, 1)\n",
      "[ 0  1  2  3  4  5  6  7  9 12] [ 8 10 11 27 31 36 44 47 51 53]\n",
      "Fold - 1 (40000, 32, 32, 3) (40000, 1) (10000, 32, 32, 3) (10000, 1)\n",
      "[ 0  1  2  3  4  5  7  8  9 10] [ 6 28 29 35 38 43 45 46 49 54]\n",
      "Fold - 2 (40000, 32, 32, 3) (40000, 1) (10000, 32, 32, 3) (10000, 1)\n",
      "[ 0  1  2  6  7  8 10 11 12 14] [ 3  4  5  9 13 15 19 20 30 39]\n",
      "Fold - 3 (40000, 32, 32, 3) (40000, 1) (10000, 32, 32, 3) (10000, 1)\n",
      "[ 0  1  2  3  4  5  6  8  9 10] [ 7 12 16 18 22 23 26 32 34 37]\n",
      "Fold - 4 (40000, 32, 32, 3) (40000, 1) (10000, 32, 32, 3) (10000, 1)\n"
     ]
    }
   ],
   "source": [
    "for i, (train, test) in enumerate(kfold.split(data, labels)):\n",
    "    print(train[:10], test[:10])\n",
    "    print(\"Fold - {}\".format(i), data[train].shape, labels[train].shape, data[test].shape, labels[test].shape)"
   ]
  },
  {
   "cell_type": "code",
   "execution_count": 51,
   "metadata": {},
   "outputs": [
    {
     "name": "stdout",
     "output_type": "stream",
     "text": [
      "[26274, 12256, 2818, 3008, 1217, 11330, 4287, 19905, 1284, 45482]\n",
      "40000\n",
      "40000\n",
      "[26274, 12256, 2818, 3008, 1217, 11330, 4287, 19905, 1284, 45482]\n",
      "10000\n",
      "[37040, 7378, 37157, 47567, 3004, 49861, 8045, 29036, 44466, 24734]\n"
     ]
    }
   ],
   "source": [
    "indices=list(range(len(data)))\n",
    "#np.random.seed(42)\n",
    "np.random.shuffle(indices)\n",
    "print(indices[:10])\n",
    "\n",
    "\n",
    "ind=int(len(indices)*0.80)\n",
    "print(ind)\n",
    "\n",
    "\n",
    "\n",
    "train_index = indices[:ind]\n",
    "print(len(train_index))\n",
    "print(train_index[:10])\n",
    "\n",
    "test = indices[-(len(indices)-ind):]\n",
    "print(len(test))\n",
    "print(test[:10])"
   ]
  },
  {
   "cell_type": "code",
   "execution_count": 46,
   "metadata": {},
   "outputs": [
    {
     "name": "stdout",
     "output_type": "stream",
     "text": [
      "Fold - 0 (40000, 32, 32, 3) (40000, 1) (10000, 32, 32, 3) (10000, 1)\n",
      "Fold - 1 (40000, 32, 32, 3) (40000, 1) (10000, 32, 32, 3) (10000, 1)\n",
      "Fold - 2 (40000, 32, 32, 3) (40000, 1) (10000, 32, 32, 3) (10000, 1)\n",
      "Fold - 3 (40000, 32, 32, 3) (40000, 1) (10000, 32, 32, 3) (10000, 1)\n",
      "Fold - 4 (40000, 32, 32, 3) (40000, 1) (10000, 32, 32, 3) (10000, 1)\n"
     ]
    }
   ],
   "source": [
    "# Manual cross validation!!!!!!!!!!\n",
    "\n",
    "for i in range(5):\n",
    "    indices=list(range(len(data)))\n",
    "    np.random.shuffle(indices)\n",
    "    ind=int(len(indices)*0.80)\n",
    "    train = indices[:ind]\n",
    "    test = indices[-(len(indices)-ind):]\n",
    "    print(\"Fold - {}\".format(i), data[train].shape, labels[train].shape, data[test].shape, labels[test].shape)"
   ]
  },
  {
   "cell_type": "code",
   "execution_count": null,
   "metadata": {},
   "outputs": [],
   "source": []
  },
  {
   "cell_type": "code",
   "execution_count": null,
   "metadata": {},
   "outputs": [],
   "source": []
  },
  {
   "cell_type": "code",
   "execution_count": 6,
   "metadata": {},
   "outputs": [
    {
     "name": "stdout",
     "output_type": "stream",
     "text": [
      "Fold - 0 (40000, 32, 32, 3) (40000, 1) (10000, 32, 32, 3) (10000, 1)\n",
      "Train on 40000 samples, validate on 10000 samples\n",
      "Epoch 1/10\n",
      "40000/40000 [==============================] - 8s 209us/step - loss: 1.8891 - accuracy: 0.3082 - val_loss: 1.5883 - val_accuracy: 0.4273\n",
      "Epoch 2/10\n",
      "40000/40000 [==============================] - 8s 195us/step - loss: 1.5552 - accuracy: 0.4321 - val_loss: 1.4067 - val_accuracy: 0.4971\n",
      "Epoch 3/10\n",
      "40000/40000 [==============================] - 8s 202us/step - loss: 1.4240 - accuracy: 0.4880 - val_loss: 1.2968 - val_accuracy: 0.5351\n",
      "Epoch 4/10\n",
      "40000/40000 [==============================] - 8s 212us/step - loss: 1.3311 - accuracy: 0.5222 - val_loss: 1.2311 - val_accuracy: 0.5657\n",
      "Epoch 5/10\n",
      "40000/40000 [==============================] - 7s 186us/step - loss: 1.2504 - accuracy: 0.5570 - val_loss: 1.1721 - val_accuracy: 0.5863\n",
      "Epoch 6/10\n",
      "40000/40000 [==============================] - 9s 225us/step - loss: 1.1818 - accuracy: 0.5791 - val_loss: 1.0790 - val_accuracy: 0.6183\n",
      "Epoch 7/10\n",
      "40000/40000 [==============================] - 9s 213us/step - loss: 1.1235 - accuracy: 0.6007 - val_loss: 1.0294 - val_accuracy: 0.6363\n",
      "Epoch 8/10\n",
      "40000/40000 [==============================] - 8s 211us/step - loss: 1.0735 - accuracy: 0.6229 - val_loss: 0.9718 - val_accuracy: 0.6562\n",
      "Epoch 9/10\n",
      "40000/40000 [==============================] - 9s 216us/step - loss: 1.0271 - accuracy: 0.6373 - val_loss: 0.9553 - val_accuracy: 0.6638\n",
      "Epoch 10/10\n",
      "40000/40000 [==============================] - 10s 244us/step - loss: 0.9857 - accuracy: 0.6535 - val_loss: 0.9606 - val_accuracy: 0.6569\n",
      "--- Time taken to train : 0.0 hours ---\n",
      "Fold - 1 (40000, 32, 32, 3) (40000, 1) (10000, 32, 32, 3) (10000, 1)\n",
      "Train on 40000 samples, validate on 10000 samples\n",
      "Epoch 1/10\n",
      "40000/40000 [==============================] - 9s 232us/step - loss: 1.8577 - accuracy: 0.3187 - val_loss: 1.5676 - val_accuracy: 0.4363\n",
      "Epoch 2/10\n",
      "40000/40000 [==============================] - 6s 156us/step - loss: 1.5380 - accuracy: 0.4427 - val_loss: 1.3934 - val_accuracy: 0.5026\n",
      "Epoch 3/10\n",
      "40000/40000 [==============================] - 8s 192us/step - loss: 1.3990 - accuracy: 0.5005 - val_loss: 1.2988 - val_accuracy: 0.5379\n",
      "Epoch 4/10\n",
      "40000/40000 [==============================] - 9s 213us/step - loss: 1.3071 - accuracy: 0.5353 - val_loss: 1.2013 - val_accuracy: 0.5756\n",
      "Epoch 5/10\n",
      "40000/40000 [==============================] - 7s 167us/step - loss: 1.2287 - accuracy: 0.5637 - val_loss: 1.1371 - val_accuracy: 0.5974\n",
      "Epoch 6/10\n",
      "40000/40000 [==============================] - 7s 169us/step - loss: 1.1635 - accuracy: 0.5900 - val_loss: 1.0788 - val_accuracy: 0.6180\n",
      "Epoch 7/10\n",
      "40000/40000 [==============================] - 8s 208us/step - loss: 1.1067 - accuracy: 0.6094 - val_loss: 1.0247 - val_accuracy: 0.6356\n",
      "Epoch 8/10\n",
      "40000/40000 [==============================] - 6s 157us/step - loss: 1.0561 - accuracy: 0.6327 - val_loss: 0.9778 - val_accuracy: 0.6522\n",
      "Epoch 9/10\n",
      "40000/40000 [==============================] - 7s 163us/step - loss: 1.0182 - accuracy: 0.6440 - val_loss: 0.9484 - val_accuracy: 0.6638\n",
      "Epoch 10/10\n",
      "40000/40000 [==============================] - 8s 189us/step - loss: 0.9733 - accuracy: 0.6610 - val_loss: 0.9094 - val_accuracy: 0.6782\n",
      "--- Time taken to train : 0.0 hours ---\n",
      "Fold - 2 (40000, 32, 32, 3) (40000, 1) (10000, 32, 32, 3) (10000, 1)\n",
      "Train on 40000 samples, validate on 10000 samples\n",
      "Epoch 1/10\n",
      "40000/40000 [==============================] - 7s 164us/step - loss: 1.8478 - accuracy: 0.3203 - val_loss: 1.5977 - val_accuracy: 0.4247\n",
      "Epoch 2/10\n",
      "40000/40000 [==============================] - 8s 209us/step - loss: 1.5525 - accuracy: 0.4320 - val_loss: 1.4193 - val_accuracy: 0.4903\n",
      "Epoch 3/10\n",
      "40000/40000 [==============================] - 7s 184us/step - loss: 1.4183 - accuracy: 0.4884 - val_loss: 1.3353 - val_accuracy: 0.5209\n",
      "Epoch 4/10\n",
      "40000/40000 [==============================] - 7s 163us/step - loss: 1.3195 - accuracy: 0.5278 - val_loss: 1.2284 - val_accuracy: 0.5624\n",
      "Epoch 5/10\n",
      "40000/40000 [==============================] - 5s 124us/step - loss: 1.2414 - accuracy: 0.5582 - val_loss: 1.1658 - val_accuracy: 0.5872\n",
      "Epoch 6/10\n",
      "40000/40000 [==============================] - 6s 149us/step - loss: 1.1776 - accuracy: 0.5831 - val_loss: 1.1337 - val_accuracy: 0.6091\n",
      "Epoch 7/10\n",
      "40000/40000 [==============================] - 6s 139us/step - loss: 1.1195 - accuracy: 0.6036 - val_loss: 1.0544 - val_accuracy: 0.6313\n",
      "Epoch 8/10\n",
      "40000/40000 [==============================] - 6s 138us/step - loss: 1.0728 - accuracy: 0.6218 - val_loss: 1.0353 - val_accuracy: 0.6412\n",
      "Epoch 9/10\n",
      "40000/40000 [==============================] - 5s 121us/step - loss: 1.0304 - accuracy: 0.6373 - val_loss: 0.9977 - val_accuracy: 0.6581\n",
      "Epoch 10/10\n",
      "40000/40000 [==============================] - 6s 147us/step - loss: 0.9962 - accuracy: 0.6486 - val_loss: 0.9520 - val_accuracy: 0.6704\n",
      "--- Time taken to train : 0.0 hours ---\n",
      "Fold - 3 (40000, 32, 32, 3) (40000, 1) (10000, 32, 32, 3) (10000, 1)\n",
      "Train on 40000 samples, validate on 10000 samples\n",
      "Epoch 1/10\n",
      "40000/40000 [==============================] - 6s 148us/step - loss: 1.8475 - accuracy: 0.3192 - val_loss: 1.6369 - val_accuracy: 0.4080\n",
      "Epoch 2/10\n",
      "40000/40000 [==============================] - 7s 180us/step - loss: 1.5680 - accuracy: 0.4270 - val_loss: 1.4261 - val_accuracy: 0.4859\n",
      "Epoch 3/10\n",
      "40000/40000 [==============================] - 7s 169us/step - loss: 1.4245 - accuracy: 0.4864 - val_loss: 1.2993 - val_accuracy: 0.5328\n",
      "Epoch 4/10\n",
      "40000/40000 [==============================] - 7s 171us/step - loss: 1.3197 - accuracy: 0.5295 - val_loss: 1.2205 - val_accuracy: 0.5677\n",
      "Epoch 5/10\n",
      "40000/40000 [==============================] - 8s 202us/step - loss: 1.2410 - accuracy: 0.5601 - val_loss: 1.1545 - val_accuracy: 0.5916\n",
      "Epoch 6/10\n",
      "40000/40000 [==============================] - 7s 168us/step - loss: 1.1719 - accuracy: 0.5862 - val_loss: 1.0901 - val_accuracy: 0.6063\n",
      "Epoch 7/10\n",
      "40000/40000 [==============================] - 8s 212us/step - loss: 1.1131 - accuracy: 0.6086 - val_loss: 1.0277 - val_accuracy: 0.6281\n",
      "Epoch 8/10\n",
      "40000/40000 [==============================] - 6s 138us/step - loss: 1.0656 - accuracy: 0.6262 - val_loss: 1.0293 - val_accuracy: 0.6310\n",
      "Epoch 9/10\n",
      "40000/40000 [==============================] - 6s 159us/step - loss: 1.0245 - accuracy: 0.6417 - val_loss: 0.9447 - val_accuracy: 0.6652\n",
      "Epoch 10/10\n",
      "40000/40000 [==============================] - 5s 136us/step - loss: 0.9884 - accuracy: 0.6519 - val_loss: 0.9350 - val_accuracy: 0.6690\n",
      "--- Time taken to train : 0.0 hours ---\n",
      "Fold - 4 (40000, 32, 32, 3) (40000, 1) (10000, 32, 32, 3) (10000, 1)\n",
      "Train on 40000 samples, validate on 10000 samples\n",
      "Epoch 1/10\n",
      "40000/40000 [==============================] - 8s 200us/step - loss: 1.8842 - accuracy: 0.3088 - val_loss: 1.5937 - val_accuracy: 0.4240\n",
      "Epoch 2/10\n",
      "40000/40000 [==============================] - 5s 133us/step - loss: 1.5511 - accuracy: 0.4358 - val_loss: 1.4035 - val_accuracy: 0.4982\n",
      "Epoch 3/10\n",
      "40000/40000 [==============================] - 5s 133us/step - loss: 1.4096 - accuracy: 0.4929 - val_loss: 1.3448 - val_accuracy: 0.5192\n",
      "Epoch 4/10\n",
      "40000/40000 [==============================] - 5s 119us/step - loss: 1.3107 - accuracy: 0.5351 - val_loss: 1.2317 - val_accuracy: 0.5592\n",
      "Epoch 5/10\n",
      "40000/40000 [==============================] - 5s 133us/step - loss: 1.2313 - accuracy: 0.5658 - val_loss: 1.1610 - val_accuracy: 0.5823\n",
      "Epoch 6/10\n",
      "40000/40000 [==============================] - 5s 127us/step - loss: 1.1649 - accuracy: 0.5907 - val_loss: 1.0863 - val_accuracy: 0.6166\n",
      "Epoch 7/10\n",
      "40000/40000 [==============================] - 6s 150us/step - loss: 1.1088 - accuracy: 0.6116 - val_loss: 1.0219 - val_accuracy: 0.6367\n",
      "Epoch 8/10\n",
      "40000/40000 [==============================] - 8s 188us/step - loss: 1.0586 - accuracy: 0.6268 - val_loss: 0.9771 - val_accuracy: 0.6578\n",
      "Epoch 9/10\n",
      "40000/40000 [==============================] - 8s 192us/step - loss: 1.0170 - accuracy: 0.6456 - val_loss: 0.9616 - val_accuracy: 0.6622\n",
      "Epoch 10/10\n",
      "40000/40000 [==============================] - 7s 185us/step - loss: 0.9832 - accuracy: 0.6562 - val_loss: 0.9544 - val_accuracy: 0.6637\n",
      "--- Time taken to train : 0.0 hours ---\n"
     ]
    }
   ],
   "source": [
    "cross_val_scores = []\n",
    "\n",
    "for i, (train, test) in enumerate(kfold.split(data, labels)):\n",
    "    \n",
    "    print(\"Fold - {}\".format(i), data[train].shape, labels[train].shape, data[test].shape, labels[test].shape)\n",
    "    \n",
    "    model = None # Clearing the NN.\n",
    "    \n",
    "    # Calculate the starting time    \n",
    "    start_time = time.time()\n",
    "    \n",
    "    model = create_model()\n",
    "    \n",
    "    acc = train_and_evaluate_model(model, data[train], labels[train], data[test], labels[test])\n",
    "    \n",
    "    end_time = time.time()\n",
    "    print(\"--- Time taken to train : %s hours ---\" % ((end_time - start_time)//3600))\n",
    "    \n",
    "    cross_val_scores.append(acc)"
   ]
  },
  {
   "cell_type": "code",
   "execution_count": 9,
   "metadata": {},
   "outputs": [
    {
     "name": "stdout",
     "output_type": "stream",
     "text": [
      "0.67% (+/- 0.01%)\n"
     ]
    }
   ],
   "source": [
    "print(\"%.2f%% (+/- %.2f%%)\" % (np.mean(cross_val_scores), np.std(cross_val_scores)))"
   ]
  },
  {
   "cell_type": "code",
   "execution_count": 10,
   "metadata": {},
   "outputs": [
    {
     "data": {
      "text/plain": [
       "(0.6676400065422058, 0.00709722075734607)"
      ]
     },
     "execution_count": 10,
     "metadata": {},
     "output_type": "execute_result"
    }
   ],
   "source": [
    "np.mean(cross_val_scores), np.std(cross_val_scores)"
   ]
  },
  {
   "cell_type": "code",
   "execution_count": null,
   "metadata": {},
   "outputs": [],
   "source": []
  },
  {
   "cell_type": "code",
   "execution_count": null,
   "metadata": {},
   "outputs": [],
   "source": []
  },
  {
   "cell_type": "code",
   "execution_count": null,
   "metadata": {},
   "outputs": [],
   "source": []
  },
  {
   "cell_type": "code",
   "execution_count": 11,
   "metadata": {},
   "outputs": [
    {
     "name": "stdout",
     "output_type": "stream",
     "text": [
      "Automatically created module for IPython interactive environment\n"
     ]
    },
    {
     "data": {
      "image/png": "[encoded data removed]",
      "text/plain": [
       "<Figure size 432x288 with 1 Axes>"
      ]
     },
     "metadata": {
      "needs_background": "light"
     },
     "output_type": "display_data"
    }
   ],
   "source": [
    "print(__doc__)\n",
    "\n",
    "import numpy as np\n",
    "from scipy import interp\n",
    "import matplotlib.pyplot as plt\n",
    "\n",
    "from sklearn import svm, datasets\n",
    "from sklearn.metrics import auc\n",
    "from sklearn.metrics import plot_roc_curve\n",
    "from sklearn.model_selection import StratifiedKFold\n",
    "\n",
    "# #############################################################################\n",
    "# Data IO and generation\n",
    "\n",
    "# Import some data to play with\n",
    "iris = datasets.load_iris()\n",
    "X = iris.data\n",
    "y = iris.target\n",
    "X, y = X[y != 2], y[y != 2]\n",
    "n_samples, n_features = X.shape\n",
    "\n",
    "# Add noisy features\n",
    "random_state = np.random.RandomState(0)\n",
    "X = np.c_[X, random_state.randn(n_samples, 200 * n_features)]\n",
    "\n",
    "# #############################################################################\n",
    "# Classification and ROC analysis\n",
    "\n",
    "# Run classifier with cross-validation and plot ROC curves\n",
    "cv = StratifiedKFold(n_splits=5)\n",
    "classifier = svm.SVC(kernel='linear', probability=True,\n",
    "                     random_state=random_state)\n",
    "\n",
    "tprs = []\n",
    "aucs = []\n",
    "mean_fpr = np.linspace(0, 1, 100)\n",
    "\n",
    "fig, ax = plt.subplots()\n",
    "for i, (train, test) in enumerate(cv.split(X, y)):\n",
    "    classifier.fit(X[train], y[train])\n",
    "    viz = plot_roc_curve(classifier, X[test], y[test],\n",
    "                         name='ROC fold {}'.format(i),\n",
    "                         alpha=0.3, lw=1, ax=ax)\n",
    "    interp_tpr = interp(mean_fpr, viz.fpr, viz.tpr)\n",
    "    interp_tpr[0] = 0.0\n",
    "    tprs.append(interp_tpr)\n",
    "    aucs.append(viz.roc_auc)\n",
    "\n",
    "ax.plot([0, 1], [0, 1], linestyle='--', lw=2, color='r',\n",
    "        label='Chance', alpha=.8)\n",
    "\n",
    "mean_tpr = np.mean(tprs, axis=0)\n",
    "mean_tpr[-1] = 1.0\n",
    "mean_auc = auc(mean_fpr, mean_tpr)\n",
    "std_auc = np.std(aucs)\n",
    "ax.plot(mean_fpr, mean_tpr, color='b',\n",
    "        label=r'Mean ROC (AUC = %0.2f $\\pm$ %0.2f)' % (mean_auc, std_auc),\n",
    "        lw=2, alpha=.8)\n",
    "\n",
    "std_tpr = np.std(tprs, axis=0)\n",
    "tprs_upper = np.minimum(mean_tpr + std_tpr, 1)\n",
    "tprs_lower = np.maximum(mean_tpr - std_tpr, 0)\n",
    "ax.fill_between(mean_fpr, tprs_lower, tprs_upper, color='grey', alpha=.2,\n",
    "                label=r'$\\pm$ 1 std. dev.')\n",
    "\n",
    "ax.set(xlim=[-0.05, 1.05], ylim=[-0.05, 1.05],\n",
    "       title=\"Receiver operating characteristic example\")\n",
    "ax.legend(loc=\"lower right\")\n",
    "plt.show()"
   ]
  },
  {
   "cell_type": "code",
   "execution_count": null,
   "metadata": {},
   "outputs": [],
   "source": []
  }
 ],
 "metadata": {
  "kernelspec": {
   "display_name": "Python 3",
   "language": "python",
   "name": "python3"
  },
  "language_info": {
   "codemirror_mode": {
    "name": "ipython",
    "version": 3
   },
   "file_extension": ".py",
   "mimetype": "text/x-python",
   "name": "python",
   "nbconvert_exporter": "python",
   "pygments_lexer": "ipython3",
   "version": "3.6.9"
  }
 },
 "nbformat": 4,
 "nbformat_minor": 4
}
