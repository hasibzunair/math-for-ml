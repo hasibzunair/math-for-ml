{
 "cells": [
  {
   "cell_type": "code",
   "execution_count": 22,
   "metadata": {},
   "outputs": [],
   "source": [
    "import pdb"
   ]
  },
  {
   "cell_type": "code",
   "execution_count": 23,
   "metadata": {},
   "outputs": [],
   "source": [
    "# value --> prints variable\n",
    "# s --> Execute the current line\n",
    "# n --> Continue execution until the next line in the current function is reached or it returns.\n",
    "# ll -> View the whole source code(function)\n",
    "# l -> 11 lines around the set_trace() block\n",
    "# r --> Continue execution until the current function returns. This let's you examine the final outcome of a function.\n",
    "# c -> exit pdb debugger\n",
    "\n",
    "\n",
    "#(The difference between next and step is that step stops inside a called function, while next executes\n",
    "# called functions at(nearly) full speed, only stopping at the next line in the current function.)"
   ]
  },
  {
   "cell_type": "code",
   "execution_count": 24,
   "metadata": {},
   "outputs": [],
   "source": [
    "def plus(a):\n",
    "    return a+a\n",
    "\n",
    "def what(x):\n",
    "    # jibberish\n",
    "    pdb.set_trace()\n",
    "    \n",
    "    add = plus(x)\n",
    "    new = add -1\n",
    "    n2 = new * new\n",
    "    div = n2/2\n",
    "    \n",
    "    return div\n",
    "\n",
    "\n",
    "\n",
    "\n",
    "def binary_search(array, val):\n",
    "    # simple binary search implementation\n",
    "    import pdb; pdb.set_trace()\n",
    "    arr = array\n",
    "    min_idx = 0\n",
    "    max_idx = len(array)\n",
    "\n",
    "    while min_idx < max_idx:\n",
    "        middle_idx = (min_idx + max_idx) // 2\n",
    "\n",
    "        if array[middle_idx] == val:\n",
    "            return middle_idx\n",
    "        elif array[middle_idx] < val:\n",
    "            min_idx = middle_idx + 1\n",
    "        else:\n",
    "            max_idx = middle_idx\n",
    "    return None\n",
    "\n",
    "# test and debug binary search\n",
    "#x = [5, 4, 3, 6, 1]\n",
    "#binary_search([1,2,4,7,10,11], val=10)"
   ]
  },
  {
   "cell_type": "code",
   "execution_count": 25,
   "metadata": {},
   "outputs": [
    {
     "name": "stdout",
     "output_type": "stream",
     "text": [
      "> <ipython-input-24-60e785ed6701>(8)what()\n",
      "-> add = plus(x)\n"
     ]
    },
    {
     "name": "stdin",
     "output_type": "stream",
     "text": [
      "(Pdb)  s\n"
     ]
    },
    {
     "name": "stdout",
     "output_type": "stream",
     "text": [
      "--Call--\n",
      "> <ipython-input-24-60e785ed6701>(1)plus()\n",
      "-> def plus(a):\n"
     ]
    },
    {
     "name": "stdin",
     "output_type": "stream",
     "text": [
      "(Pdb)  s\n"
     ]
    },
    {
     "name": "stdout",
     "output_type": "stream",
     "text": [
      "> <ipython-input-24-60e785ed6701>(2)plus()\n",
      "-> return a+a\n"
     ]
    },
    {
     "name": "stdin",
     "output_type": "stream",
     "text": [
      "(Pdb)  s\n"
     ]
    },
    {
     "name": "stdout",
     "output_type": "stream",
     "text": [
      "--Return--\n",
      "> <ipython-input-24-60e785ed6701>(2)plus()->4\n",
      "-> return a+a\n"
     ]
    },
    {
     "name": "stdin",
     "output_type": "stream",
     "text": [
      "(Pdb)  s\n"
     ]
    },
    {
     "name": "stdout",
     "output_type": "stream",
     "text": [
      "> <ipython-input-24-60e785ed6701>(9)what()\n",
      "-> new = add -1\n"
     ]
    },
    {
     "name": "stdin",
     "output_type": "stream",
     "text": [
      "(Pdb)  l\n"
     ]
    },
    {
     "name": "stdout",
     "output_type": "stream",
     "text": [
      "  4  \tdef what(x):\n",
      "  5  \t    # jibberish\n",
      "  6  \t    pdb.set_trace()\n",
      "  7  \t\n",
      "  8  \t    add = plus(x)\n",
      "  9  ->\t    new = add -1\n",
      " 10  \t    n2 = new * new\n",
      " 11  \t    div = n2/2\n",
      " 12  \t\n",
      " 13  \t    return div\n",
      " 14  \t\n"
     ]
    },
    {
     "name": "stdin",
     "output_type": "stream",
     "text": [
      "(Pdb)  add\n"
     ]
    },
    {
     "name": "stdout",
     "output_type": "stream",
     "text": [
      "4\n"
     ]
    },
    {
     "name": "stdin",
     "output_type": "stream",
     "text": [
      "(Pdb)  x\n"
     ]
    },
    {
     "name": "stdout",
     "output_type": "stream",
     "text": [
      "2\n"
     ]
    },
    {
     "name": "stdin",
     "output_type": "stream",
     "text": [
      "(Pdb)  c\n"
     ]
    },
    {
     "data": {
      "text/plain": [
       "4.5"
      ]
     },
     "execution_count": 25,
     "metadata": {},
     "output_type": "execute_result"
    }
   ],
   "source": [
    "what(2)"
   ]
  },
  {
   "cell_type": "code",
   "execution_count": null,
   "metadata": {},
   "outputs": [],
   "source": []
  }
 ],
 "metadata": {
  "kernelspec": {
   "display_name": "Python 3",
   "language": "python",
   "name": "python3"
  },
  "language_info": {
   "codemirror_mode": {
    "name": "ipython",
    "version": 3
   },
   "file_extension": ".py",
   "mimetype": "text/x-python",
   "name": "python",
   "nbconvert_exporter": "python",
   "pygments_lexer": "ipython3",
   "version": "3.6.9"
  }
 },
 "nbformat": 4,
 "nbformat_minor": 4
}
