{
  "nbformat": 4,
  "nbformat_minor": 0,
  "metadata": {
    "colab": {
      "name": "metrics.ipynb",
      "provenance": [],
      "collapsed_sections": [],
      "authorship_tag": "ABX9TyP9SVnQsBuHs+35dslMlbY5"
    },
    "kernelspec": {
      "name": "python3",
      "display_name": "Python 3"
    },
    "accelerator": "GPU"
  },
  "cells": [
    {
      "cell_type": "code",
      "metadata": {
        "id": "iDEy-BROjxJe",
        "outputId": "7be81dcb-e983-4fc2-8332-b0671fd667d4",
        "colab": {
          "base_uri": "https://localhost:8080/"
        }
      },
      "source": [
        "'''Trains a simple convnet on the MNIST dataset.\n",
        "Gets to 99.25% test accuracy after 12 epochs\n",
        "(there is still a lot of margin for parameter tuning).\n",
        "16 seconds per epoch on a GRID K520 GPU.\n",
        "'''\n",
        "\n",
        "from __future__ import print_function\n",
        "import keras\n",
        "from keras.datasets import mnist\n",
        "from keras.models import Sequential\n",
        "from keras.layers import Dense, Dropout, Flatten\n",
        "from keras.layers import Conv2D, MaxPooling2D\n",
        "from keras import backend as K\n",
        "\n",
        "batch_size = 128\n",
        "num_classes = 2\n",
        "epochs = 12\n",
        "\n",
        "# input image dimensions\n",
        "img_rows, img_cols = 28, 28\n",
        "\n",
        "# the data, split between train and test sets\n",
        "(x_train, y_train), (x_test, y_test) = mnist.load_data()\n",
        "\n",
        "y_train = (y_train == 5).astype(np.int)\n",
        "y_test = (y_test == 5).astype(np.int)\n",
        "\n",
        "if K.image_data_format() == 'channels_first':\n",
        "    x_train = x_train.reshape(x_train.shape[0], 1, img_rows, img_cols)\n",
        "    x_test = x_test.reshape(x_test.shape[0], 1, img_rows, img_cols)\n",
        "    input_shape = (1, img_rows, img_cols)\n",
        "else:\n",
        "    x_train = x_train.reshape(x_train.shape[0], img_rows, img_cols, 1)\n",
        "    x_test = x_test.reshape(x_test.shape[0], img_rows, img_cols, 1)\n",
        "    input_shape = (img_rows, img_cols, 1)\n",
        "\n",
        "x_train = x_train.astype('float32')\n",
        "x_test = x_test.astype('float32')\n",
        "x_train /= 255\n",
        "x_test /= 255\n",
        "print('x_train shape:', x_train.shape)\n",
        "print(x_train.shape[0], 'train samples')\n",
        "print(x_test.shape[0], 'test samples')\n",
        "\n",
        "# convert class vectors to binary class matrices\n",
        "y_train = keras.utils.to_categorical(y_train, num_classes)\n",
        "y_test = keras.utils.to_categorical(y_test, num_classes)\n",
        "\n",
        "model = Sequential()\n",
        "model.add(Conv2D(32, kernel_size=(3, 3),\n",
        "                 activation='relu',\n",
        "                 input_shape=input_shape))\n",
        "model.add(Conv2D(64, (3, 3), activation='relu'))\n",
        "model.add(MaxPooling2D(pool_size=(2, 2)))\n",
        "model.add(Dropout(0.25))\n",
        "model.add(Flatten())\n",
        "model.add(Dense(128, activation='relu'))\n",
        "model.add(Dropout(0.5))\n",
        "model.add(Dense(num_classes, activation='softmax'))\n",
        "\n",
        "model.compile(loss=keras.losses.categorical_crossentropy,\n",
        "              optimizer=keras.optimizers.Adadelta(),\n",
        "              metrics=['accuracy'])\n",
        "\n",
        "model.fit(x_train, y_train,\n",
        "          batch_size=batch_size,\n",
        "          epochs=epochs,\n",
        "          verbose=1,\n",
        "          validation_data=(x_test, y_test))\n",
        "score = model.evaluate(x_test, y_test, verbose=0)\n",
        "print('Test loss:', score[0])\n",
        "print('Test accuracy:', score[1])"
      ],
      "execution_count": 48,
      "outputs": [
        {
          "output_type": "stream",
          "text": [
            "x_train shape: (60000, 28, 28, 1)\n",
            "60000 train samples\n",
            "10000 test samples\n",
            "Epoch 1/12\n",
            "469/469 [==============================] - 5s 10ms/step - loss: 0.5249 - accuracy: 0.8838 - val_loss: 0.3912 - val_accuracy: 0.9108\n",
            "Epoch 2/12\n",
            "469/469 [==============================] - 5s 10ms/step - loss: 0.3470 - accuracy: 0.9097 - val_loss: 0.3086 - val_accuracy: 0.9108\n",
            "Epoch 3/12\n",
            "469/469 [==============================] - 5s 10ms/step - loss: 0.3088 - accuracy: 0.9097 - val_loss: 0.2932 - val_accuracy: 0.9108\n",
            "Epoch 4/12\n",
            "469/469 [==============================] - 5s 10ms/step - loss: 0.2972 - accuracy: 0.9097 - val_loss: 0.2828 - val_accuracy: 0.9108\n",
            "Epoch 5/12\n",
            "469/469 [==============================] - 5s 11ms/step - loss: 0.2868 - accuracy: 0.9097 - val_loss: 0.2721 - val_accuracy: 0.9108\n",
            "Epoch 6/12\n",
            "469/469 [==============================] - 5s 10ms/step - loss: 0.2776 - accuracy: 0.9097 - val_loss: 0.2614 - val_accuracy: 0.9108\n",
            "Epoch 7/12\n",
            "469/469 [==============================] - 5s 10ms/step - loss: 0.2668 - accuracy: 0.9097 - val_loss: 0.2507 - val_accuracy: 0.9108\n",
            "Epoch 8/12\n",
            "469/469 [==============================] - 5s 10ms/step - loss: 0.2572 - accuracy: 0.9097 - val_loss: 0.2398 - val_accuracy: 0.9108\n",
            "Epoch 9/12\n",
            "469/469 [==============================] - 5s 10ms/step - loss: 0.2470 - accuracy: 0.9097 - val_loss: 0.2289 - val_accuracy: 0.9108\n",
            "Epoch 10/12\n",
            "469/469 [==============================] - 5s 10ms/step - loss: 0.2360 - accuracy: 0.9097 - val_loss: 0.2179 - val_accuracy: 0.9108\n",
            "Epoch 11/12\n",
            "469/469 [==============================] - 5s 10ms/step - loss: 0.2266 - accuracy: 0.9099 - val_loss: 0.2070 - val_accuracy: 0.9108\n",
            "Epoch 12/12\n",
            "469/469 [==============================] - 5s 10ms/step - loss: 0.2162 - accuracy: 0.9113 - val_loss: 0.1967 - val_accuracy: 0.9114\n",
            "Test loss: 0.19673720002174377\n",
            "Test accuracy: 0.9114000201225281\n"
          ],
          "name": "stdout"
        }
      ]
    },
    {
      "cell_type": "code",
      "metadata": {
        "id": "AmX5vvkAnJLs",
        "outputId": "fe6b3693-452a-42c6-c746-3051f506fb69",
        "colab": {
          "base_uri": "https://localhost:8080/"
        }
      },
      "source": [
        "y_test.shape"
      ],
      "execution_count": 50,
      "outputs": [
        {
          "output_type": "execute_result",
          "data": {
            "text/plain": [
              "(10000, 2)"
            ]
          },
          "metadata": {
            "tags": []
          },
          "execution_count": 50
        }
      ]
    },
    {
      "cell_type": "code",
      "metadata": {
        "id": "QO_rYC3pkXPW",
        "outputId": "dda52a8d-0f32-45be-e334-9a3d7db4cbff",
        "colab": {
          "base_uri": "https://localhost:8080/"
        }
      },
      "source": [
        "y_pred = model.predict(x_test)\n",
        "y_pred.shape"
      ],
      "execution_count": 51,
      "outputs": [
        {
          "output_type": "execute_result",
          "data": {
            "text/plain": [
              "(10000, 2)"
            ]
          },
          "metadata": {
            "tags": []
          },
          "execution_count": 51
        }
      ]
    },
    {
      "cell_type": "code",
      "metadata": {
        "id": "n3PjJ6o9lrdh",
        "outputId": "4f7c98b0-3308-4cd3-9d21-b1dfde81c19c",
        "colab": {
          "base_uri": "https://localhost:8080/"
        }
      },
      "source": [
        "y_test_flat = np.argmax(y_test, axis=1)\n",
        "y_pred_flat = np.array([np.argmax(x) for x in y_pred])\n",
        "\n",
        "print(y_pred_flat.shape, y_test_flat.shape)"
      ],
      "execution_count": 52,
      "outputs": [
        {
          "output_type": "stream",
          "text": [
            "(10000,) (10000,)\n"
          ],
          "name": "stdout"
        }
      ]
    },
    {
      "cell_type": "code",
      "metadata": {
        "id": "yLsDYWOvna_v",
        "outputId": "e28a1490-99d0-42be-86fb-b7d427404ff7",
        "colab": {
          "base_uri": "https://localhost:8080/"
        }
      },
      "source": [
        "from sklearn.metrics import accuracy_score\n",
        "# Accuracy\n",
        "acc = accuracy_score(y_test_flat, y_pred_flat) * 100\n",
        "print(\"Accuracy :\", acc)"
      ],
      "execution_count": 55,
      "outputs": [
        {
          "output_type": "stream",
          "text": [
            "Accuracy : 91.14\n"
          ],
          "name": "stdout"
        }
      ]
    },
    {
      "cell_type": "code",
      "metadata": {
        "id": "lC9zvXz7kbfH",
        "outputId": "74e3a318-f6bd-4a59-b40b-9e93b2422212",
        "colab": {
          "base_uri": "https://localhost:8080/"
        }
      },
      "source": [
        "# Classification report\n",
        "\n",
        "confusion_mtx = confusion_matrix(y_test_flat, y_pred_flat) \n",
        "print(confusion_mtx)\n",
        "target_names = ['0', '1']\n",
        "print(classification_report(y_test_flat, y_pred_flat, target_names=target_names))"
      ],
      "execution_count": 56,
      "outputs": [
        {
          "output_type": "stream",
          "text": [
            "[[9108    0]\n",
            " [ 886    6]]\n",
            "              precision    recall  f1-score   support\n",
            "\n",
            "           0       0.91      1.00      0.95      9108\n",
            "           1       1.00      0.01      0.01       892\n",
            "\n",
            "    accuracy                           0.91     10000\n",
            "   macro avg       0.96      0.50      0.48     10000\n",
            "weighted avg       0.92      0.91      0.87     10000\n",
            "\n"
          ],
          "name": "stdout"
        }
      ]
    },
    {
      "cell_type": "code",
      "metadata": {
        "id": "sAtfbaAbkbhy",
        "outputId": "d641e4f9-ea12-4013-e25e-6080807e48f7",
        "colab": {
          "base_uri": "https://localhost:8080/"
        }
      },
      "source": [
        "tn, fp, fn, tp = confusion_matrix(y_test_flat, y_pred_flat).ravel()\n",
        "print(tn, fp, fn, tp )\n",
        "sensitivity = tp /(tp + fn)\n",
        "print(sensitivity * 100)"
      ],
      "execution_count": 65,
      "outputs": [
        {
          "output_type": "stream",
          "text": [
            "9108 0 886 6\n",
            "0.672645739910314\n"
          ],
          "name": "stdout"
        }
      ]
    },
    {
      "cell_type": "code",
      "metadata": {
        "id": "gG_TH11woUqT",
        "outputId": "8f53af01-f323-40f8-bc8a-8f6be6c31691",
        "colab": {
          "base_uri": "https://localhost:8080/"
        }
      },
      "source": [
        "fp+fn"
      ],
      "execution_count": 66,
      "outputs": [
        {
          "output_type": "execute_result",
          "data": {
            "text/plain": [
              "886"
            ]
          },
          "metadata": {
            "tags": []
          },
          "execution_count": 66
        }
      ]
    },
    {
      "cell_type": "code",
      "metadata": {
        "id": "YtH9m-3Ykc9z",
        "outputId": "46c5228a-2113-4cb2-bc92-0a0b43664405",
        "colab": {
          "base_uri": "https://localhost:8080/",
          "height": 513
        }
      },
      "source": [
        "from sklearn.metrics import precision_recall_curve\n",
        "\n",
        "precisions,recalls,thresholds = precision_recall_curve(y_test.ravel(), y_pred.ravel())\n",
        "\n",
        "def plot_precision_recall_vs_threshold(precisions,recalls,thresholds):\n",
        "    plt.figure(figsize=(12,8))\n",
        "    plt.title('Precision and recall vs decision threshold')\n",
        "    plt.plot(thresholds, precisions[:-1], \"b--\", label=\"Precision\")\n",
        "    plt.plot(thresholds, recalls[:-1], \"g-\", label=\"Recal\")\n",
        "    plt.xlabel(\"Threshold\")\n",
        "    plt.legend(loc=\"upper left\")\n",
        "    plt.ylim([0,1])\n",
        "\n",
        "plot_precision_recall_vs_threshold(precisions,recalls,thresholds)\n",
        "plt.show()\n"
      ],
      "execution_count": 70,
      "outputs": [
        {
          "output_type": "display_data",
          "data": {
            "image/png": "[encoded data removed]",
            "text/plain": [
              "<Figure size 864x576 with 1 Axes>"
            ]
          },
          "metadata": {
            "tags": [],
            "needs_background": "light"
          }
        }
      ]
    },
    {
      "cell_type": "code",
      "metadata": {
        "id": "L48Hw5onmKFf",
        "outputId": "2e88d84a-1bf2-43f7-b194-e1c73947f57b",
        "colab": {
          "base_uri": "https://localhost:8080/",
          "height": 513
        }
      },
      "source": [
        "from sklearn.metrics import roc_curve\n",
        "\n",
        "fpr, tpr, thresholds = roc_curve(y_test.ravel(),y_pred.ravel())\n",
        "\n",
        "def plot_roc_curve(fpr, tpr, label=None):\n",
        "    plt.figure(figsize=(12,8))\n",
        "    plt.title('ROC curve')\n",
        "    plt.plot(fpr, tpr, linewidth=2, label=label)\n",
        "    plt.plot([0,1],[0,1],\"k--\")\n",
        "    plt.xlim([0,1])\n",
        "    plt.ylim([0,1])\n",
        "    plt.xlabel('False positive rate')\n",
        "    plt.ylabel('True positive rate')\n",
        "\n",
        "plot_roc_curve(fpr,tpr)\n",
        "plt.show()\n"
      ],
      "execution_count": 73,
      "outputs": [
        {
          "output_type": "display_data",
          "data": {
            "image/png": "[encoded data removed]",
            "text/plain": [
              "<Figure size 864x576 with 1 Axes>"
            ]
          },
          "metadata": {
            "tags": [],
            "needs_background": "light"
          }
        }
      ]
    },
    {
      "cell_type": "code",
      "metadata": {
        "id": "suhpuGP7me2l",
        "outputId": "c7da5464-893d-4398-aced-9fa477f5d93a",
        "colab": {
          "base_uri": "https://localhost:8080/"
        }
      },
      "source": [
        "from sklearn.metrics import roc_auc_score\n",
        "print('Area under ROC curve : ', roc_auc_score(y_test.ravel(), y_pred.ravel()) *100 )"
      ],
      "execution_count": 85,
      "outputs": [
        {
          "output_type": "stream",
          "text": [
            "Area under ROC curve :  98.435798\n"
          ],
          "name": "stdout"
        }
      ]
    },
    {
      "cell_type": "code",
      "metadata": {
        "id": "x41aJqEnpbTq",
        "outputId": "7bfb4b0f-eeae-4ffc-fe19-4bbe2828b314",
        "colab": {
          "base_uri": "https://localhost:8080/"
        }
      },
      "source": [
        "from sklearn.metrics import f1_score\n",
        "F1_score = f1_score(y_test_flat, y_pred_flat, labels=None, average='binary', sample_weight=None)\n",
        "F1_score * 100"
      ],
      "execution_count": 79,
      "outputs": [
        {
          "output_type": "execute_result",
          "data": {
            "text/plain": [
              "1.33630289532294"
            ]
          },
          "metadata": {
            "tags": []
          },
          "execution_count": 79
        }
      ]
    },
    {
      "cell_type": "code",
      "metadata": {
        "id": "IQ-EcnACpM_u",
        "outputId": "418798a0-6d0c-43cb-e8b1-48ac9fa3da7e",
        "colab": {
          "base_uri": "https://localhost:8080/",
          "height": 283
        }
      },
      "source": [
        "from sklearn.metrics import roc_curve, auc, precision_recall_curve\n",
        "# PR curve\n",
        "precision, recall, thresholds = precision_recall_curve(y_test.ravel(), y_pred.ravel())\n",
        "plt.figure(20)\n",
        "plt.plot(recall,precision)"
      ],
      "execution_count": 75,
      "outputs": [
        {
          "output_type": "execute_result",
          "data": {
            "text/plain": [
              "[<matplotlib.lines.Line2D at 0x7ff4ce3d1860>]"
            ]
          },
          "metadata": {
            "tags": []
          },
          "execution_count": 75
        },
        {
          "output_type": "display_data",
          "data": {
            "image/png": "[encoded data removed]",
            "text/plain": [
              "<Figure size 432x288 with 1 Axes>"
            ]
          },
          "metadata": {
            "tags": [],
            "needs_background": "light"
          }
        }
      ]
    },
    {
      "cell_type": "code",
      "metadata": {
        "id": "XupiFNyBpNM0",
        "outputId": "7cad85e3-7146-411e-c1ac-7158bac5cc3e",
        "colab": {
          "base_uri": "https://localhost:8080/",
          "height": 313
        }
      },
      "source": [
        "# Compute ROC curve and ROC area for each class\n",
        "fpr = dict()\n",
        "tpr = dict()\n",
        "roc_auc = dict()\n",
        "for i in range(2):\n",
        "    fpr[i], tpr[i], _ = roc_curve(y_test[:, i], y_pred[:, i])\n",
        "    roc_auc[i] = auc(fpr[i], tpr[i])\n",
        "\n",
        "\n",
        "# Compute micro-average ROC curve and ROC area\n",
        "cls = 1 # class name\n",
        "fpr[\"micro\"], tpr[\"micro\"], _ = roc_curve(y_test.ravel(), y_pred.ravel())\n",
        "roc_auc[\"micro\"] = auc(fpr[\"micro\"], tpr[\"micro\"])\n",
        "\n",
        "#print(roc_auc)\n",
        "print(\"Area under the ROC curve for positive class:\", roc_auc[1])\n",
        "\n",
        "\n",
        "plt.figure()\n",
        "lw = 2 # line width\n",
        "plt.plot(fpr[cls], tpr[cls], color='darkorange', lw=lw, label='ROC curve (area = %0.2f)' % roc_auc[cls])\n",
        "plt.plot([0, 1], [0, 1], color='navy', lw=lw, linestyle='--')\n",
        "plt.xlim([0.0, 1.0])\n",
        "plt.ylim([0.0, 1.05])\n",
        "plt.xlabel('False Positive Rate')\n",
        "plt.ylabel('True Positive Rate')\n",
        "plt.title('Receiver operating characteristic example')\n",
        "plt.legend(loc=\"lower right\")\n",
        "plt.show()"
      ],
      "execution_count": 80,
      "outputs": [
        {
          "output_type": "stream",
          "text": [
            "Area under the ROC curve for positive class: 0.9526937339863835\n"
          ],
          "name": "stdout"
        },
        {
          "output_type": "display_data",
          "data": {
            "image/png": "[encoded data removed]",
            "text/plain": [
              "<Figure size 432x288 with 1 Axes>"
            ]
          },
          "metadata": {
            "tags": [],
            "needs_background": "light"
          }
        }
      ]
    },
    {
      "cell_type": "code",
      "metadata": {
        "id": "T4ZXDCyMp5ed"
      },
      "source": [
        ""
      ],
      "execution_count": null,
      "outputs": []
    }
  ]
}