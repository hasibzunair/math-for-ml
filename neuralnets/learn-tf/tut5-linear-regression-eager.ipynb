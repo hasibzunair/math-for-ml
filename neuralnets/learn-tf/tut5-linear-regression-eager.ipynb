{
 "cells": [
  {
   "cell_type": "code",
   "execution_count": 1,
   "metadata": {},
   "outputs": [],
   "source": [
    "import matplotlib.pyplot as plt\n",
    "import numpy as np\n",
    "import tensorflow as tf"
   ]
  },
  {
   "cell_type": "code",
   "execution_count": 2,
   "metadata": {},
   "outputs": [],
   "source": [
    "# set Eager API\n",
    "tf.enable_eager_execution()\n",
    "tfe = tf.contrib.eager"
   ]
  },
  {
   "cell_type": "code",
   "execution_count": 3,
   "metadata": {},
   "outputs": [],
   "source": [
    "# training data\n",
    "train_X = [3.3, 4.4, 5.5, 6.71, 6.93, 4.168, 9.779, 6.182, 7.59, 2.167,\n",
    "           7.042, 10.791, 5.313, 7.997, 5.654, 9.27, 3.1]\n",
    "train_Y = [1.7, 2.76, 2.09, 3.19, 1.694, 1.573, 3.366, 2.596, 2.53, 1.221,\n",
    "           2.827, 3.465, 1.65, 2.904, 2.42, 2.94, 1.3]\n",
    "n_samples = len(train_X)\n",
    "\n",
    "# params\n",
    "lr = 0.01\n",
    "display_step = 100\n",
    "epochs = 1000"
   ]
  },
  {
   "cell_type": "code",
   "execution_count": 4,
   "metadata": {},
   "outputs": [],
   "source": [
    "# randomly defined weight and bias\n",
    "W = tfe.Variable(np.random.randn())\n",
    "b = tfe.Variable(np.random.randn())"
   ]
  },
  {
   "cell_type": "code",
   "execution_count": 5,
   "metadata": {},
   "outputs": [],
   "source": [
    "def linear_regression(inputs):\n",
    "    # y = mx + b\n",
    "    return inputs * W + b\n",
    "\n",
    "def mean_square_func(model_func, inputs, labels):\n",
    "    eqn = tf.reduce_sum(tf.pow(model_func(inputs) - labels, 2)) / (2 * n_samples)\n",
    "    return eqn"
   ]
  },
  {
   "cell_type": "code",
   "execution_count": 6,
   "metadata": {},
   "outputs": [],
   "source": [
    "# sgd\n",
    "optimizer = tf.train.GradientDescentOptimizer(learning_rate=lr)\n",
    "\n",
    "# compute gradiens\n",
    "grad = tfe.implicit_gradients(mean_square_func)"
   ]
  },
  {
   "cell_type": "code",
   "execution_count": 7,
   "metadata": {},
   "outputs": [
    {
     "name": "stdout",
     "output_type": "stream",
     "text": [
      "Inital W= <tf.Variable 'Variable:0' shape=() dtype=float32, numpy=0.039179854>\n",
      "Inital b= <tf.Variable 'Variable:0' shape=() dtype=float32, numpy=-0.38617828>\n",
      "Initial cost= 3.3465845584869385\n",
      "\n",
      "Done!\n",
      "\n",
      "W= <tf.Variable 'Variable:0' shape=() dtype=float32, numpy=0.2990518>\n",
      "b= <tf.Variable 'Variable:0' shape=() dtype=float32, numpy=0.4626371>\n",
      "Cost= 0.0839238166809082\n",
      "\n"
     ]
    },
    {
     "data": {
      "image/png": "[encoded data removed]",
      "text/plain": [
       "<Figure size 432x288 with 1 Axes>"
      ]
     },
     "metadata": {
      "needs_background": "light"
     },
     "output_type": "display_data"
    }
   ],
   "source": [
    "init_cost = mean_square_func(linear_regression, train_X, train_Y)\n",
    "\n",
    "print(\"Inital W= {}\" .format(W))\n",
    "print(\"Inital b= {}\" .format(b))\n",
    "print(\"Initial cost= {}\\n\" .format(init_cost))\n",
    "\n",
    "\n",
    "for step in range(epochs):\n",
    "    optimizer.apply_gradients(grad(linear_regression, train_X, train_Y))\n",
    "\n",
    "final_cost = mean_square_func(linear_regression, train_X, train_Y)\n",
    "\n",
    "print('Done!\\n')\n",
    "print(\"W= {}\" .format(W))\n",
    "print(\"b= {}\" .format(b))\n",
    "print(\"Cost= {}\\n\" .format(final_cost))\n",
    "\n",
    "plt.plot(train_X, train_Y, 'ro', label='Original data')\n",
    "plt.plot(train_X, np.array(W * train_X + b), label='Fitted line')\n",
    "plt.legend()\n",
    "plt.show()\n"
   ]
  },
  {
   "cell_type": "code",
   "execution_count": null,
   "metadata": {},
   "outputs": [],
   "source": []
  }
 ],
 "metadata": {
  "kernelspec": {
   "display_name": "Python 3",
   "language": "python",
   "name": "python3"
  },
  "language_info": {
   "codemirror_mode": {
    "name": "ipython",
    "version": 3
   },
   "file_extension": ".py",
   "mimetype": "text/x-python",
   "name": "python",
   "nbconvert_exporter": "python",
   "pygments_lexer": "ipython3",
   "version": "3.6.6"
  }
 },
 "nbformat": 4,
 "nbformat_minor": 2
}
