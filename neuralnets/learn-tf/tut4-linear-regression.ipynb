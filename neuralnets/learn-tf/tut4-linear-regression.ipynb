{
 "cells": [
  {
   "cell_type": "code",
   "execution_count": 10,
   "metadata": {},
   "outputs": [],
   "source": [
    "import tensorflow as tf\n",
    "import numpy\n",
    "import matplotlib.pyplot as plt"
   ]
  },
  {
   "cell_type": "code",
   "execution_count": 2,
   "metadata": {},
   "outputs": [],
   "source": [
    "lr = 0.01\n",
    "epochs = 1000\n",
    "display_step = 50"
   ]
  },
  {
   "cell_type": "code",
   "execution_count": 3,
   "metadata": {},
   "outputs": [
    {
     "name": "stdout",
     "output_type": "stream",
     "text": [
      "Shape of X: (17,) \n",
      "Shape of Y: (17,) \n",
      "Length of X: 17\n"
     ]
    }
   ],
   "source": [
    "# Training Data\n",
    "train_X = numpy.asarray([3.3,4.4,5.5,6.71,6.93,4.168,9.779,6.182,7.59,2.167,\n",
    "                         7.042,10.791,5.313,7.997,5.654,9.27,3.1])\n",
    "train_Y = numpy.asarray([1.7,2.76,2.09,3.19,1.694,1.573,3.366,2.596,2.53,1.221,\n",
    "                         2.827,3.465,1.65,2.904,2.42,2.94,1.3])\n",
    "\n",
    "n_samples = train_X.shape[0]\n",
    "print(\"Shape of X: {} \\nShape of Y: {} \\nLength of X: {}\" .format(train_X.shape, train_Y.shape, len(train_X)))"
   ]
  },
  {
   "cell_type": "code",
   "execution_count": 4,
   "metadata": {},
   "outputs": [],
   "source": [
    "# tf graph input\n",
    "X = tf.placeholder(\"float\")\n",
    "Y = tf.placeholder(\"float\")\n",
    "\n",
    "# set model weights\n",
    "W = tf.Variable(numpy.random.randn(), name = \"weight\")\n",
    "b = tf.Variable(numpy.random.randn(), name = \"bias\")"
   ]
  },
  {
   "cell_type": "code",
   "execution_count": 5,
   "metadata": {},
   "outputs": [],
   "source": [
    "# linear model\n",
    "# y= mx + b\n",
    "\n",
    "mx = tf.multiply(X,W)\n",
    "pred = tf.add(mx, b)"
   ]
  },
  {
   "cell_type": "code",
   "execution_count": 6,
   "metadata": {},
   "outputs": [],
   "source": [
    "# mean squared error\n",
    "cost = tf.reduce_sum(tf.pow(pred-Y, 2))/(2*n_samples)\n",
    "\n",
    "# gradient descent\n",
    "optim = tf.train.GradientDescentOptimizer(lr).minimize(cost)"
   ]
  },
  {
   "cell_type": "code",
   "execution_count": 7,
   "metadata": {},
   "outputs": [
    {
     "data": {
      "text/plain": [
       "<tf.Operation 'init' type=NoOp>"
      ]
     },
     "execution_count": 7,
     "metadata": {},
     "output_type": "execute_result"
    }
   ],
   "source": [
    "# initialize variables\n",
    "init = tf.global_variables_initializer()\n",
    "init"
   ]
  },
  {
   "cell_type": "code",
   "execution_count": 8,
   "metadata": {},
   "outputs": [
    {
     "name": "stdout",
     "output_type": "stream",
     "text": [
      "Inital W= -0.46904438734054565\n",
      "Inital b= -0.685786783695221\n",
      "\n",
      "Epoch= 50 Cost= 0.005998384207487106 W= 0.42712709307670593 b=-0.47569674253463745\n",
      "Epoch= 100 Cost= 0.004905027337372303 W= 0.4165683388710022 b=-0.3997378647327423\n",
      "Epoch= 150 Cost= 0.003976995125412941 W= 0.40663760900497437 b=-0.32829639315605164\n",
      "Epoch= 200 Cost= 0.0031928953249007463 W= 0.3972974121570587 b=-0.26110413670539856\n",
      "Epoch= 250 Cost= 0.0025339156854897738 W= 0.3885127604007721 b=-0.19790811836719513\n",
      "Epoch= 300 Cost= 0.0019835522398352623 W= 0.38025060296058655 b=-0.13847054541110992\n",
      "Epoch= 350 Cost= 0.0015273417811840773 W= 0.37247976660728455 b=-0.08256801217794418\n",
      "Epoch= 400 Cost= 0.0011525891022756696 W= 0.3651711344718933 b=-0.029990179464221\n",
      "Epoch= 450 Cost= 0.000848182593472302 W= 0.358297199010849 b=0.019460532814264297\n",
      "Epoch= 500 Cost= 0.0006043919711373746 W= 0.3518320620059967 b=0.06597016751766205\n",
      "Epoch= 550 Cost= 0.0004127073916606605 W= 0.34575143456459045 b=0.10971350967884064\n",
      "Epoch= 600 Cost= 0.00026568587054498494 W= 0.34003257751464844 b=0.1508551985025406\n",
      "Epoch= 650 Cost= 0.00015683441597502679 W= 0.33465373516082764 b=0.1895502507686615\n",
      "Epoch= 700 Cost= 8.048777817748487e-05 W= 0.32959476113319397 b=0.22594381868839264\n",
      "Epoch= 750 Cost= 3.170670970575884e-05 W= 0.32483670115470886 b=0.26017290353775024\n",
      "Epoch= 800 Cost= 6.194624802446924e-06 W= 0.32036152482032776 b=0.292366623878479\n",
      "Epoch= 850 Cost= 2.1735185384841316e-07 W= 0.3161526620388031 b=0.3226451277732849\n",
      "Epoch= 900 Cost= 1.0533403838053346e-05 W= 0.31219419836997986 b=0.3511224687099457\n",
      "Epoch= 950 Cost= 3.433420351939276e-05 W= 0.3084709644317627 b=0.3779066801071167\n",
      "Epoch= 1000 Cost= 6.919148290762678e-05 W= 0.3049691617488861 b=0.40309828519821167\n",
      "\n",
      "Optimization done!\n",
      "\n",
      "Training cost is 6.919148290762678e-05\n",
      "W= 0.3049691617488861\n",
      "b= 0.40309828519821167\n"
     ]
    },
    {
     "data": {
      "image/png": "[encoded data removed]",
      "text/plain": [
       "<Figure size 432x288 with 1 Axes>"
      ]
     },
     "metadata": {
      "needs_background": "light"
     },
     "output_type": "display_data"
    }
   ],
   "source": [
    "# start training\n",
    "\n",
    "with tf.Session() as sess:\n",
    "    sess.run(init)\n",
    "    print(\"Inital W= {}\" .format(sess.run(W)))\n",
    "    print(\"Inital b= {}\\n\" .format(sess.run(b)))\n",
    "    for epoch in range(epochs):\n",
    "        for (x, y) in zip(train_X, train_Y):\n",
    "            sess.run(optim, feed_dict={X: x, Y: y})\n",
    "            \n",
    "        # display\n",
    "        if (epoch+1) % display_step == 0:\n",
    "            c = sess.run(cost, feed_dict={X: x, Y: y})\n",
    "            print(\"Epoch= {} Cost= {} W= {} b={}\" .format(epoch+1, c,sess.run(W),sess.run(b)))\n",
    "\n",
    "    print(\"\\nOptimization done!\\n\")\n",
    "    training_cost = sess.run(cost, feed_dict={X: x, Y: y})\n",
    "    \n",
    "    print(\"Training cost is {}\" .format(training_cost))\n",
    "    print(\"W= {}\" .format(sess.run(W)))\n",
    "    print(\"b= {}\" .format(sess.run(b)))\n",
    "    \n",
    "    \n",
    "    # graphic display\n",
    "    plt.plot(train_X, train_Y, 'ro', label='Original data')\n",
    "    # y = mx+b\n",
    "    plt.plot(train_X, sess.run(W) * train_X + sess.run(b), label='Fitted line')\n",
    "    plt.legend()\n",
    "    plt.show()"
   ]
  },
  {
   "cell_type": "markdown",
   "metadata": {},
   "source": [
    "### Eager API implementation"
   ]
  },
  {
   "cell_type": "code",
   "execution_count": 9,
   "metadata": {},
   "outputs": [
    {
     "ename": "ValueError",
     "evalue": "tf.enable_eager_execution must be called at program startup.",
     "output_type": "error",
     "traceback": [
      "\u001b[0;31m---------------------------------------------------------------------------\u001b[0m",
      "\u001b[0;31mValueError\u001b[0m                                Traceback (most recent call last)",
      "\u001b[0;32m<ipython-input-9-da9180cc85a8>\u001b[0m in \u001b[0;36m<module>\u001b[0;34m()\u001b[0m\n\u001b[1;32m      1\u001b[0m \u001b[0;31m# Set Eager API\u001b[0m\u001b[0;34m\u001b[0m\u001b[0;34m\u001b[0m\u001b[0m\n\u001b[0;32m----> 2\u001b[0;31m \u001b[0mtf\u001b[0m\u001b[0;34m.\u001b[0m\u001b[0menable_eager_execution\u001b[0m\u001b[0;34m(\u001b[0m\u001b[0;34m)\u001b[0m\u001b[0;34m\u001b[0m\u001b[0m\n\u001b[0m\u001b[1;32m      3\u001b[0m \u001b[0mtfe\u001b[0m \u001b[0;34m=\u001b[0m \u001b[0mtf\u001b[0m\u001b[0;34m.\u001b[0m\u001b[0mcontrib\u001b[0m\u001b[0;34m.\u001b[0m\u001b[0meager\u001b[0m\u001b[0;34m\u001b[0m\u001b[0m\n",
      "\u001b[0;32m~/anaconda3/envs/p3.6/lib/python3.6/site-packages/tensorflow/python/framework/ops.py\u001b[0m in \u001b[0;36menable_eager_execution\u001b[0;34m(config, device_policy, execution_mode)\u001b[0m\n\u001b[1;32m   5418\u001b[0m         \u001b[0mdevice_policy\u001b[0m\u001b[0;34m=\u001b[0m\u001b[0mdevice_policy\u001b[0m\u001b[0;34m,\u001b[0m\u001b[0;34m\u001b[0m\u001b[0m\n\u001b[1;32m   5419\u001b[0m         \u001b[0mexecution_mode\u001b[0m\u001b[0;34m=\u001b[0m\u001b[0mexecution_mode\u001b[0m\u001b[0;34m,\u001b[0m\u001b[0;34m\u001b[0m\u001b[0m\n\u001b[0;32m-> 5420\u001b[0;31m         server_def=None)\n\u001b[0m\u001b[1;32m   5421\u001b[0m \u001b[0;34m\u001b[0m\u001b[0m\n\u001b[1;32m   5422\u001b[0m \u001b[0;34m\u001b[0m\u001b[0m\n",
      "\u001b[0;32m~/anaconda3/envs/p3.6/lib/python3.6/site-packages/tensorflow/python/framework/ops.py\u001b[0m in \u001b[0;36menable_eager_execution_internal\u001b[0;34m(config, device_policy, execution_mode, server_def)\u001b[0m\n\u001b[1;32m   5462\u001b[0m     \u001b[0;32mif\u001b[0m \u001b[0mgraph_mode_has_been_used\u001b[0m\u001b[0;34m:\u001b[0m\u001b[0;34m\u001b[0m\u001b[0m\n\u001b[1;32m   5463\u001b[0m       raise ValueError(\n\u001b[0;32m-> 5464\u001b[0;31m           \"tf.enable_eager_execution must be called at program startup.\")\n\u001b[0m\u001b[1;32m   5465\u001b[0m   \u001b[0mcontext\u001b[0m\u001b[0;34m.\u001b[0m\u001b[0mdefault_execution_mode\u001b[0m \u001b[0;34m=\u001b[0m \u001b[0mcontext\u001b[0m\u001b[0;34m.\u001b[0m\u001b[0mEAGER_MODE\u001b[0m\u001b[0;34m\u001b[0m\u001b[0m\n\u001b[1;32m   5466\u001b[0m   \u001b[0;31m# pylint: disable=protected-access\u001b[0m\u001b[0;34m\u001b[0m\u001b[0;34m\u001b[0m\u001b[0m\n",
      "\u001b[0;31mValueError\u001b[0m: tf.enable_eager_execution must be called at program startup."
     ]
    }
   ],
   "source": [
    "# Set Eager API\n",
    "tf.enable_eager_execution()\n",
    "tfe = tf.contrib.eager"
   ]
  },
  {
   "cell_type": "markdown",
   "metadata": {},
   "source": [
    "This eager API deserves seperate nb -_- If you are seeing this, go to next tut"
   ]
  },
  {
   "cell_type": "code",
   "execution_count": null,
   "metadata": {},
   "outputs": [],
   "source": []
  }
 ],
 "metadata": {
  "kernelspec": {
   "display_name": "Python 3",
   "language": "python",
   "name": "python3"
  },
  "language_info": {
   "codemirror_mode": {
    "name": "ipython",
    "version": 3
   },
   "file_extension": ".py",
   "mimetype": "text/x-python",
   "name": "python",
   "nbconvert_exporter": "python",
   "pygments_lexer": "ipython3",
   "version": "3.6.6"
  }
 },
 "nbformat": 4,
 "nbformat_minor": 2
}
