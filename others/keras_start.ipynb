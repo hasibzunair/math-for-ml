{
 "cells": [
  {
   "cell_type": "code",
   "execution_count": 154,
   "metadata": {},
   "outputs": [],
   "source": [
    "#https://keras.io/\n",
    "from keras.models import Sequential"
   ]
  },
  {
   "cell_type": "code",
   "execution_count": 125,
   "metadata": {},
   "outputs": [],
   "source": [
    "model = Sequential()"
   ]
  },
  {
   "cell_type": "code",
   "execution_count": 126,
   "metadata": {},
   "outputs": [],
   "source": [
    "from keras.layers import Dense\n",
    "\n",
    "model.add(Dense(2, input_shape=(2,), activation='relu'))\n",
    "\n",
    "model.add(Dense(units=32, activation='relu'))\n",
    "model.add(Dense(units=32, activation='relu'))\n",
    "\n",
    "model.add(Dense(1, activation='relu'))"
   ]
  },
  {
   "cell_type": "code",
   "execution_count": 127,
   "metadata": {},
   "outputs": [],
   "source": [
    "model.compile(loss='mean_squared_error',\n",
    "              optimizer='adam',\n",
    "              metrics=['accuracy'])"
   ]
  },
  {
   "cell_type": "code",
   "execution_count": 128,
   "metadata": {},
   "outputs": [
    {
     "name": "stdout",
     "output_type": "stream",
     "text": [
      "_________________________________________________________________\n",
      "Layer (type)                 Output Shape              Param #   \n",
      "=================================================================\n",
      "dense_41 (Dense)             (None, 2)                 6         \n",
      "_________________________________________________________________\n",
      "dense_42 (Dense)             (None, 32)                96        \n",
      "_________________________________________________________________\n",
      "dense_43 (Dense)             (None, 32)                1056      \n",
      "_________________________________________________________________\n",
      "dense_44 (Dense)             (None, 1)                 33        \n",
      "=================================================================\n",
      "Total params: 1,191\n",
      "Trainable params: 1,191\n",
      "Non-trainable params: 0\n",
      "_________________________________________________________________\n"
     ]
    }
   ],
   "source": [
    "model.summary()"
   ]
  },
  {
   "cell_type": "code",
   "execution_count": 129,
   "metadata": {},
   "outputs": [],
   "source": [
    "import random\n",
    "import numpy as np\n",
    "x_train = [(random.randint(0, 5000), random.randint(0, 5000)) for x in range(5000)]\n",
    "y_train = [x[0] + x[1] for x in x_train]"
   ]
  },
  {
   "cell_type": "code",
   "execution_count": 130,
   "metadata": {},
   "outputs": [
    {
     "name": "stdout",
     "output_type": "stream",
     "text": [
      "(5000, 2) (5000,)\n"
     ]
    }
   ],
   "source": [
    "x_train = np.array(x_train)\n",
    "y_train = np.array(y_train)\n",
    "print(x_train.shape, y_train.shape)"
   ]
  },
  {
   "cell_type": "code",
   "execution_count": 138,
   "metadata": {},
   "outputs": [
    {
     "name": "stdout",
     "output_type": "stream",
     "text": [
      "[4565 3100] 7665\n"
     ]
    }
   ],
   "source": [
    "this = 0\n",
    "print(x_train[this], y_train[this])"
   ]
  },
  {
   "cell_type": "code",
   "execution_count": 139,
   "metadata": {},
   "outputs": [],
   "source": [
    "from sklearn.model_selection import train_test_split\n",
    "x_train, x_val, y_train, y_val = train_test_split(x_train, y_train, test_size=0.1, random_state=1)"
   ]
  },
  {
   "cell_type": "code",
   "execution_count": 143,
   "metadata": {},
   "outputs": [
    {
     "name": "stdout",
     "output_type": "stream",
     "text": [
      "(4050, 2) (4050,) (450, 2) (450,)\n"
     ]
    }
   ],
   "source": [
    "print(x_train.shape, y_train.shape, x_val.shape, y_val.shape)"
   ]
  },
  {
   "cell_type": "code",
   "execution_count": 145,
   "metadata": {},
   "outputs": [
    {
     "name": "stdout",
     "output_type": "stream",
     "text": [
      "[2793 4226] 7019\n"
     ]
    }
   ],
   "source": [
    "this = 0\n",
    "print(x_train[this], y_train[this])\n",
    "#print(type(x_train))"
   ]
  },
  {
   "cell_type": "code",
   "execution_count": 146,
   "metadata": {},
   "outputs": [
    {
     "name": "stdout",
     "output_type": "stream",
     "text": [
      "Epoch 1/50\n",
      "4050/4050 [==============================] - 0s 40us/step - loss: 29213632.7249 - acc: 0.0000e+00\n",
      "Epoch 2/50\n",
      "4050/4050 [==============================] - 0s 36us/step - loss: 29213632.7684 - acc: 0.0000e+00\n",
      "Epoch 3/50\n",
      "4050/4050 [==============================] - 0s 36us/step - loss: 29213632.8988 - acc: 0.0000e+00\n",
      "Epoch 4/50\n",
      "4050/4050 [==============================] - 0s 37us/step - loss: 29213632.8346 - acc: 0.0000e+00\n",
      "Epoch 5/50\n",
      "4050/4050 [==============================] - 0s 38us/step - loss: 29213632.8336 - acc: 0.0000e+00\n",
      "Epoch 6/50\n",
      "4050/4050 [==============================] - 0s 40us/step - loss: 29213632.7595 - acc: 0.0000e+00\n",
      "Epoch 7/50\n",
      "4050/4050 [==============================] - 0s 40us/step - loss: 29213633.0114 - acc: 0.0000e+00\n",
      "Epoch 8/50\n",
      "4050/4050 [==============================] - 0s 46us/step - loss: 29213632.9393 - acc: 0.0000e+00\n",
      "Epoch 9/50\n",
      "4050/4050 [==============================] - 0s 44us/step - loss: 29213633.0410 - acc: 0.0000e+00\n",
      "Epoch 10/50\n",
      "4050/4050 [==============================] - 0s 38us/step - loss: 29213632.9442 - acc: 0.0000e+00\n",
      "Epoch 11/50\n",
      "4050/4050 [==============================] - 0s 43us/step - loss: 29213633.0183 - acc: 0.0000e+00\n",
      "Epoch 12/50\n",
      "4050/4050 [==============================] - 0s 49us/step - loss: 29213632.8089 - acc: 0.0000e+00\n",
      "Epoch 13/50\n",
      "4050/4050 [==============================] - 0s 46us/step - loss: 29213632.8504 - acc: 0.0000e+00\n",
      "Epoch 14/50\n",
      "4050/4050 [==============================] - 0s 54us/step - loss: 29213632.7091 - acc: 0.0000e+00\n",
      "Epoch 15/50\n",
      "4050/4050 [==============================] - 0s 50us/step - loss: 29213632.8711 - acc: 0.0000e+00\n",
      "Epoch 16/50\n",
      "4050/4050 [==============================] - 0s 47us/step - loss: 29213632.9353 - acc: 0.0000e+00\n",
      "Epoch 17/50\n",
      "4050/4050 [==============================] - 0s 52us/step - loss: 29213632.9630 - acc: 0.0000e+00\n",
      "Epoch 18/50\n",
      "4050/4050 [==============================] - 0s 63us/step - loss: 29213633.0430 - acc: 0.0000e+00\n",
      "Epoch 19/50\n",
      "4050/4050 [==============================] - 0s 50us/step - loss: 29213632.8849 - acc: 0.0000e+00\n",
      "Epoch 20/50\n",
      "4050/4050 [==============================] - 0s 51us/step - loss: 29213632.8207 - acc: 0.0000e+00\n",
      "Epoch 21/50\n",
      "4050/4050 [==============================] - 0s 48us/step - loss: 29213632.7052 - acc: 0.0000e+00\n",
      "Epoch 22/50\n",
      "4050/4050 [==============================] - 0s 65us/step - loss: 29213632.7931 - acc: 0.0000e+00\n",
      "Epoch 23/50\n",
      "4050/4050 [==============================] - 0s 52us/step - loss: 29213632.8780 - acc: 0.0000e+00\n",
      "Epoch 24/50\n",
      "4050/4050 [==============================] - 0s 61us/step - loss: 29213633.0232 - acc: 0.0000e+00\n",
      "Epoch 25/50\n",
      "4050/4050 [==============================] - 0s 53us/step - loss: 29213632.9728 - acc: 0.0000e+00\n",
      "Epoch 26/50\n",
      "4050/4050 [==============================] - 0s 48us/step - loss: 29213632.8257 - acc: 0.0000e+00\n",
      "Epoch 27/50\n",
      "4050/4050 [==============================] - 0s 53us/step - loss: 29213632.6538 - acc: 0.0000e+00\n",
      "Epoch 28/50\n",
      "4050/4050 [==============================] - 0s 45us/step - loss: 29213632.9600 - acc: 0.0000e+00\n",
      "Epoch 29/50\n",
      "4050/4050 [==============================] - 0s 70us/step - loss: 29213632.8652 - acc: 0.0000e+00\n",
      "Epoch 30/50\n",
      "4050/4050 [==============================] - 0s 61us/step - loss: 29213632.8138 - acc: 0.0000e+00\n",
      "Epoch 31/50\n",
      "4050/4050 [==============================] - 0s 79us/step - loss: 29213632.8751 - acc: 0.0000e+00\n",
      "Epoch 32/50\n",
      "4050/4050 [==============================] - 0s 60us/step - loss: 29213632.9047 - acc: 0.0000e+00\n",
      "Epoch 33/50\n",
      "4050/4050 [==============================] - 0s 58us/step - loss: 29213632.9778 - acc: 0.0000e+00\n",
      "Epoch 34/50\n",
      "4050/4050 [==============================] - 0s 59us/step - loss: 29213632.8049 - acc: 0.0000e+00\n",
      "Epoch 35/50\n",
      "4050/4050 [==============================] - 0s 52us/step - loss: 29213632.8652 - acc: 0.0000e+00\n",
      "Epoch 36/50\n",
      "4050/4050 [==============================] - 0s 52us/step - loss: 29213632.7141 - acc: 0.0000e+00\n",
      "Epoch 37/50\n",
      "4050/4050 [==============================] - 0s 55us/step - loss: 29213632.9491 - acc: 0.0000e+00\n",
      "Epoch 38/50\n",
      "4050/4050 [==============================] - 0s 44us/step - loss: 29213633.0449 - acc: 0.0000e+00\n",
      "Epoch 39/50\n",
      "4050/4050 [==============================] - 0s 50us/step - loss: 29213632.8790 - acc: 0.0000e+00\n",
      "Epoch 40/50\n",
      "4050/4050 [==============================] - 0s 54us/step - loss: 29213632.7802 - acc: 0.0000e+00\n",
      "Epoch 41/50\n",
      "4050/4050 [==============================] - 0s 61us/step - loss: 29213632.9491 - acc: 0.0000e+00\n",
      "Epoch 42/50\n",
      "4050/4050 [==============================] - 0s 63us/step - loss: 29213633.0074 - acc: 0.0000e+00\n",
      "Epoch 43/50\n",
      "4050/4050 [==============================] - 0s 53us/step - loss: 29213632.8879 - acc: 0.0000e+00\n",
      "Epoch 44/50\n",
      "4050/4050 [==============================] - 0s 66us/step - loss: 29213632.6953 - acc: 0.0000e+00\n",
      "Epoch 45/50\n",
      "4050/4050 [==============================] - 0s 63us/step - loss: 29213632.7862 - acc: 0.0000e+00\n",
      "Epoch 46/50\n",
      "4050/4050 [==============================] - 0s 59us/step - loss: 29213632.7052 - acc: 0.0000e+00\n",
      "Epoch 47/50\n",
      "4050/4050 [==============================] - 0s 40us/step - loss: 29213632.9610 - acc: 0.0000e+00\n",
      "Epoch 48/50\n",
      "4050/4050 [==============================] - 0s 40us/step - loss: 29213632.9175 - acc: 0.0000e+00\n",
      "Epoch 49/50\n",
      "4050/4050 [==============================] - 0s 39us/step - loss: 29213632.8553 - acc: 0.0000e+00\n",
      "Epoch 50/50\n",
      "4050/4050 [==============================] - 0s 40us/step - loss: 29213632.8494 - acc: 0.0000e+00\n"
     ]
    },
    {
     "data": {
      "text/plain": [
       "<keras.callbacks.History at 0x7f958d814b00>"
      ]
     },
     "execution_count": 146,
     "metadata": {},
     "output_type": "execute_result"
    }
   ],
   "source": [
    "model.fit(x_train, y_train, epochs=50, batch_size=32, shuffle=True)"
   ]
  },
  {
   "cell_type": "code",
   "execution_count": 151,
   "metadata": {},
   "outputs": [],
   "source": [
    "pred = model.predict(x_val)"
   ]
  },
  {
   "cell_type": "code",
   "execution_count": 152,
   "metadata": {},
   "outputs": [
    {
     "data": {
      "text/plain": [
       "450"
      ]
     },
     "execution_count": 152,
     "metadata": {},
     "output_type": "execute_result"
    }
   ],
   "source": [
    "len(pred)"
   ]
  },
  {
   "cell_type": "code",
   "execution_count": 153,
   "metadata": {},
   "outputs": [
    {
     "data": {
      "text/plain": [
       "array([0.], dtype=float32)"
      ]
     },
     "execution_count": 153,
     "metadata": {},
     "output_type": "execute_result"
    }
   ],
   "source": [
    "pred[5]"
   ]
  },
  {
   "cell_type": "code",
   "execution_count": null,
   "metadata": {},
   "outputs": [],
   "source": []
  }
 ],
 "metadata": {
  "kernelspec": {
   "display_name": "Python 3",
   "language": "python",
   "name": "python3"
  },
  "language_info": {
   "codemirror_mode": {
    "name": "ipython",
    "version": 3
   },
   "file_extension": ".py",
   "mimetype": "text/x-python",
   "name": "python",
   "nbconvert_exporter": "python",
   "pygments_lexer": "ipython3",
   "version": "3.6.5"
  }
 },
 "nbformat": 4,
 "nbformat_minor": 2
}
