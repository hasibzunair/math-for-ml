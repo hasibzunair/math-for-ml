{
 "cells": [
  {
   "cell_type": "code",
   "execution_count": 13,
   "metadata": {},
   "outputs": [],
   "source": [
    "import pandas as pd\n",
    "import matplotlib.pyplot as plt\n",
    "import numpy as np"
   ]
  },
  {
   "cell_type": "code",
   "execution_count": 14,
   "metadata": {},
   "outputs": [
    {
     "data": {
      "text/html": [
       "<div>\n",
       "<style scoped>\n",
       "    .dataframe tbody tr th:only-of-type {\n",
       "        vertical-align: middle;\n",
       "    }\n",
       "\n",
       "    .dataframe tbody tr th {\n",
       "        vertical-align: top;\n",
       "    }\n",
       "\n",
       "    .dataframe thead th {\n",
       "        text-align: right;\n",
       "    }\n",
       "</style>\n",
       "<table border=\"1\" class=\"dataframe\">\n",
       "  <thead>\n",
       "    <tr style=\"text-align: right;\">\n",
       "      <th></th>\n",
       "      <th>Agent Name</th>\n",
       "      <th>Timestamp</th>\n",
       "      <th>Driver ID</th>\n",
       "    </tr>\n",
       "  </thead>\n",
       "  <tbody>\n",
       "    <tr>\n",
       "      <th>0</th>\n",
       "      <td>Nazmul</td>\n",
       "      <td>2017-05-08 11:30:03.05+07</td>\n",
       "      <td>1000094</td>\n",
       "    </tr>\n",
       "    <tr>\n",
       "      <th>1</th>\n",
       "      <td>Tasnia</td>\n",
       "      <td>2017-05-14 23:16:35.368+07</td>\n",
       "      <td>1001006</td>\n",
       "    </tr>\n",
       "    <tr>\n",
       "      <th>2</th>\n",
       "      <td>Sabrina</td>\n",
       "      <td>2017-05-11 13:36:37.733+07</td>\n",
       "      <td>1000482</td>\n",
       "    </tr>\n",
       "    <tr>\n",
       "      <th>3</th>\n",
       "      <td>Jeet</td>\n",
       "      <td>2017-05-08 11:12:38.463+07</td>\n",
       "      <td>1000026</td>\n",
       "    </tr>\n",
       "    <tr>\n",
       "      <th>4</th>\n",
       "      <td>Arfan</td>\n",
       "      <td>2017-05-09 11:48:13.452+07</td>\n",
       "      <td>1000181</td>\n",
       "    </tr>\n",
       "  </tbody>\n",
       "</table>\n",
       "</div>"
      ],
      "text/plain": [
       "  Agent Name                   Timestamp  Driver ID\n",
       "0     Nazmul   2017-05-08 11:30:03.05+07    1000094\n",
       "1     Tasnia  2017-05-14 23:16:35.368+07    1001006\n",
       "2    Sabrina  2017-05-11 13:36:37.733+07    1000482\n",
       "3       Jeet  2017-05-08 11:12:38.463+07    1000026\n",
       "4      Arfan  2017-05-09 11:48:13.452+07    1000181"
      ]
     },
     "execution_count": 14,
     "metadata": {},
     "output_type": "execute_result"
    }
   ],
   "source": [
    "dt = pd.read_csv('question.csv')\n",
    "dt.head()"
   ]
  },
  {
   "cell_type": "code",
   "execution_count": 19,
   "metadata": {},
   "outputs": [
    {
     "data": {
      "text/plain": [
       "1037"
      ]
     },
     "execution_count": 19,
     "metadata": {},
     "output_type": "execute_result"
    }
   ],
   "source": [
    "persons = dt['Agent Name'].values\n",
    "len(persons)"
   ]
  },
  {
   "cell_type": "code",
   "execution_count": 16,
   "metadata": {},
   "outputs": [
    {
     "name": "stdout",
     "output_type": "stream",
     "text": [
      "['Nazmul' 'Tasnia' 'Sabrina' ... 'Tasnia' 'Nazmul' 'Nazmul']\n"
     ]
    }
   ],
   "source": [
    "print(persons)"
   ]
  },
  {
   "cell_type": "code",
   "execution_count": 17,
   "metadata": {},
   "outputs": [
    {
     "data": {
      "text/plain": [
       "'Sabrina'"
      ]
     },
     "execution_count": 17,
     "metadata": {},
     "output_type": "execute_result"
    }
   ],
   "source": [
    "a=dt['Agent Name'].values[2]\n",
    "a"
   ]
  },
  {
   "cell_type": "code",
   "execution_count": 22,
   "metadata": {},
   "outputs": [
    {
     "name": "stdout",
     "output_type": "stream",
     "text": [
      "118\n"
     ]
    }
   ],
   "source": [
    "i=0\n",
    "for p in persons:\n",
    "    if p == \"Sabrina\":\n",
    "        a = dt['Driver ID'].values[i]\n",
    "        i+=1\n",
    "        #print(a)\n",
    "print(i)"
   ]
  },
  {
   "cell_type": "code",
   "execution_count": 8,
   "metadata": {},
   "outputs": [
    {
     "data": {
      "text/plain": [
       "1037"
      ]
     },
     "execution_count": 8,
     "metadata": {},
     "output_type": "execute_result"
    }
   ],
   "source": [
    "time = dt['Timestamp'].values\n",
    "len(time)"
   ]
  },
  {
   "cell_type": "code",
   "execution_count": 21,
   "metadata": {},
   "outputs": [
    {
     "name": "stdout",
     "output_type": "stream",
     "text": [
      "365\n"
     ]
    }
   ],
   "source": [
    "i = 0\n",
    "for p in persons:\n",
    "    if p == 'Nazmul':\n",
    "        i+=1\n",
    "print(i)"
   ]
  },
  {
   "cell_type": "code",
   "execution_count": 22,
   "metadata": {},
   "outputs": [
    {
     "data": {
      "text/plain": [
       "1037"
      ]
     },
     "execution_count": 22,
     "metadata": {},
     "output_type": "execute_result"
    }
   ],
   "source": [
    "drivers = dt['Driver ID'].values\n",
    "len(drivers)"
   ]
  },
  {
   "cell_type": "code",
   "execution_count": 23,
   "metadata": {},
   "outputs": [
    {
     "name": "stdout",
     "output_type": "stream",
     "text": [
      "0\n"
     ]
    }
   ],
   "source": [
    "i = 0\n",
    "for d in drivers:\n",
    "    if p == '1000151':\n",
    "        i+=1\n",
    "print(i)"
   ]
  },
  {
   "cell_type": "code",
   "execution_count": 24,
   "metadata": {},
   "outputs": [
    {
     "name": "stdout",
     "output_type": "stream",
     "text": [
      "[1000094 1001006 1000482 ... 1000757 1000860 1000242]\n"
     ]
    }
   ],
   "source": [
    "print(drivers)"
   ]
  },
  {
   "cell_type": "code",
   "execution_count": 26,
   "metadata": {},
   "outputs": [
    {
     "data": {
      "text/plain": [
       "[]"
      ]
     },
     "execution_count": 26,
     "metadata": {},
     "output_type": "execute_result"
    }
   ],
   "source": [
    "import collections\n",
    "\n",
    "x = [item for item, count in collections.Counter(drivers).items() if count > 1]\n",
    "x"
   ]
  },
  {
   "cell_type": "code",
   "execution_count": 27,
   "metadata": {},
   "outputs": [],
   "source": [
    "seen = set()\n",
    "uniq = []\n",
    "for x in drivers:\n",
    "    if x not in seen:\n",
    "        uniq.append(x)\n",
    "        seen.add(x)\n",
    "        "
   ]
  },
  {
   "cell_type": "code",
   "execution_count": 28,
   "metadata": {},
   "outputs": [
    {
     "data": {
      "text/plain": [
       "1037"
      ]
     },
     "execution_count": 28,
     "metadata": {},
     "output_type": "execute_result"
    }
   ],
   "source": [
    "len(seen)"
   ]
  },
  {
   "cell_type": "code",
   "execution_count": null,
   "metadata": {},
   "outputs": [],
   "source": []
  },
  {
   "cell_type": "code",
   "execution_count": null,
   "metadata": {},
   "outputs": [],
   "source": []
  },
  {
   "cell_type": "code",
   "execution_count": null,
   "metadata": {},
   "outputs": [],
   "source": []
  },
  {
   "cell_type": "code",
   "execution_count": null,
   "metadata": {},
   "outputs": [],
   "source": []
  },
  {
   "cell_type": "code",
   "execution_count": null,
   "metadata": {},
   "outputs": [],
   "source": []
  },
  {
   "cell_type": "code",
   "execution_count": null,
   "metadata": {},
   "outputs": [],
   "source": []
  },
  {
   "cell_type": "code",
   "execution_count": null,
   "metadata": {},
   "outputs": [],
   "source": []
  },
  {
   "cell_type": "code",
   "execution_count": null,
   "metadata": {},
   "outputs": [],
   "source": []
  },
  {
   "cell_type": "code",
   "execution_count": null,
   "metadata": {},
   "outputs": [],
   "source": []
  },
  {
   "cell_type": "code",
   "execution_count": null,
   "metadata": {},
   "outputs": [],
   "source": []
  },
  {
   "cell_type": "code",
   "execution_count": 29,
   "metadata": {},
   "outputs": [
    {
     "data": {
      "text/html": [
       "<div>\n",
       "<style scoped>\n",
       "    .dataframe tbody tr th:only-of-type {\n",
       "        vertical-align: middle;\n",
       "    }\n",
       "\n",
       "    .dataframe tbody tr th {\n",
       "        vertical-align: top;\n",
       "    }\n",
       "\n",
       "    .dataframe thead th {\n",
       "        text-align: right;\n",
       "    }\n",
       "</style>\n",
       "<table border=\"1\" class=\"dataframe\">\n",
       "  <thead>\n",
       "    <tr style=\"text-align: right;\">\n",
       "      <th></th>\n",
       "      <th>booking_id</th>\n",
       "      <th>data_date</th>\n",
       "      <th>booking_date</th>\n",
       "      <th>dispatch_time</th>\n",
       "      <th>closing_time</th>\n",
       "      <th>restuarant_name</th>\n",
       "      <th>customer_id</th>\n",
       "      <th>customer_name</th>\n",
       "      <th>driver_id</th>\n",
       "      <th>driver_name</th>\n",
       "      <th>shopping_estimated_price</th>\n",
       "      <th>origin_longitude</th>\n",
       "      <th>origin_latitude</th>\n",
       "      <th>destination_longitude</th>\n",
       "      <th>destination_latitude</th>\n",
       "      <th>total_distance</th>\n",
       "      <th>origin_note</th>\n",
       "      <th>destination_address</th>\n",
       "    </tr>\n",
       "  </thead>\n",
       "  <tbody>\n",
       "    <tr>\n",
       "      <th>0</th>\n",
       "      <td>831421921</td>\n",
       "      <td>7-Apr-17</td>\n",
       "      <td>2017-04-07 10:00:25+07</td>\n",
       "      <td>2017-04-07 10:00:31+07</td>\n",
       "      <td>2017-04-07 10:37:41+07</td>\n",
       "      <td>Bakeout</td>\n",
       "      <td>242494516</td>\n",
       "      <td>adnan</td>\n",
       "      <td>364535582</td>\n",
       "      <td>Akbar</td>\n",
       "      <td>230</td>\n",
       "      <td>106.966298</td>\n",
       "      <td>-6.33641</td>\n",
       "      <td>106.956392</td>\n",
       "      <td>-6.329133</td>\n",
       "      <td>4.40</td>\n",
       "      <td>Jl. Ciangsana, Jatiasih, Bekasi</td>\n",
       "      <td>Jalan Oman, Jatiasih, Kota Bekasi</td>\n",
       "    </tr>\n",
       "    <tr>\n",
       "      <th>1</th>\n",
       "      <td>830674145</td>\n",
       "      <td>4-Apr-17</td>\n",
       "      <td>2017-04-04 13:30:38+07</td>\n",
       "      <td>2017-04-04 13:37:03+07</td>\n",
       "      <td>2017-04-04 14:15:52+07</td>\n",
       "      <td>Bakeout</td>\n",
       "      <td>242494516</td>\n",
       "      <td>adnan</td>\n",
       "      <td>364541746</td>\n",
       "      <td>Mashraful</td>\n",
       "      <td>240</td>\n",
       "      <td>106.966298</td>\n",
       "      <td>-6.33641</td>\n",
       "      <td>106.956392</td>\n",
       "      <td>-6.329133</td>\n",
       "      <td>4.40</td>\n",
       "      <td>Jl. Ciangsana, Jatiasih, Bekasi</td>\n",
       "      <td>Jalan Oman, Jatiasih, Kota Bekasi</td>\n",
       "    </tr>\n",
       "    <tr>\n",
       "      <th>2</th>\n",
       "      <td>830839333</td>\n",
       "      <td>4-Apr-17</td>\n",
       "      <td>2017-04-04 21:13:49+07</td>\n",
       "      <td>2017-04-04 21:14:09+07</td>\n",
       "      <td>2017-04-04 21:39:40+07</td>\n",
       "      <td>Bakeout</td>\n",
       "      <td>246632808</td>\n",
       "      <td>agnes</td>\n",
       "      <td>364867468</td>\n",
       "      <td>Wakil</td>\n",
       "      <td>170</td>\n",
       "      <td>106.966298</td>\n",
       "      <td>-6.33641</td>\n",
       "      <td>106.980128</td>\n",
       "      <td>-6.309142</td>\n",
       "      <td>5.60</td>\n",
       "      <td>Jl. Ciangsana, Jatiasih, Bekasi</td>\n",
       "      <td>Jalan Nurul Huda, Bantargebang, Kota Bekasi</td>\n",
       "    </tr>\n",
       "    <tr>\n",
       "      <th>3</th>\n",
       "      <td>832016507</td>\n",
       "      <td>9-Apr-17</td>\n",
       "      <td>2017-04-09 01:32:23+07</td>\n",
       "      <td>2017-04-09 01:32:27+07</td>\n",
       "      <td>2017-04-09 01:32:50+07</td>\n",
       "      <td>Bakeout</td>\n",
       "      <td>249747620</td>\n",
       "      <td>ahona</td>\n",
       "      <td>364640292</td>\n",
       "      <td>Andalib</td>\n",
       "      <td>400</td>\n",
       "      <td>106.966298</td>\n",
       "      <td>-6.33641</td>\n",
       "      <td>106.807735</td>\n",
       "      <td>-6.397938</td>\n",
       "      <td>24.78</td>\n",
       "      <td>Jl. Ciangsana, Jatiasih, Bekasi</td>\n",
       "      <td>Gang Masjid, Pancoran MAS, Kota Depok</td>\n",
       "    </tr>\n",
       "    <tr>\n",
       "      <th>4</th>\n",
       "      <td>832016043</td>\n",
       "      <td>9-Apr-17</td>\n",
       "      <td>2017-04-09 01:17:32+07</td>\n",
       "      <td>2017-04-09 01:17:35+07</td>\n",
       "      <td>2017-04-09 01:17:55+07</td>\n",
       "      <td>Bakeout</td>\n",
       "      <td>249747620</td>\n",
       "      <td>ahona</td>\n",
       "      <td>364640292</td>\n",
       "      <td>Andalib</td>\n",
       "      <td>400</td>\n",
       "      <td>106.966298</td>\n",
       "      <td>-6.33641</td>\n",
       "      <td>106.807735</td>\n",
       "      <td>-6.397938</td>\n",
       "      <td>24.78</td>\n",
       "      <td>Jl. Ciangsana, Jatiasih, Bekasi</td>\n",
       "      <td>Gang Masjid, Pancoran MAS, Kota Depok</td>\n",
       "    </tr>\n",
       "  </tbody>\n",
       "</table>\n",
       "</div>"
      ],
      "text/plain": [
       "   booking_id data_date            booking_date           dispatch_time  \\\n",
       "0   831421921  7-Apr-17  2017-04-07 10:00:25+07  2017-04-07 10:00:31+07   \n",
       "1   830674145  4-Apr-17  2017-04-04 13:30:38+07  2017-04-04 13:37:03+07   \n",
       "2   830839333  4-Apr-17  2017-04-04 21:13:49+07  2017-04-04 21:14:09+07   \n",
       "3   832016507  9-Apr-17  2017-04-09 01:32:23+07  2017-04-09 01:32:27+07   \n",
       "4   832016043  9-Apr-17  2017-04-09 01:17:32+07  2017-04-09 01:17:35+07   \n",
       "\n",
       "             closing_time restuarant_name  customer_id customer_name  \\\n",
       "0  2017-04-07 10:37:41+07         Bakeout    242494516         adnan   \n",
       "1  2017-04-04 14:15:52+07         Bakeout    242494516         adnan   \n",
       "2  2017-04-04 21:39:40+07         Bakeout    246632808         agnes   \n",
       "3  2017-04-09 01:32:50+07         Bakeout    249747620         ahona   \n",
       "4  2017-04-09 01:17:55+07         Bakeout    249747620         ahona   \n",
       "\n",
       "   driver_id driver_name  shopping_estimated_price  origin_longitude  \\\n",
       "0  364535582      Akbar                        230        106.966298   \n",
       "1  364541746   Mashraful                       240        106.966298   \n",
       "2  364867468       Wakil                       170        106.966298   \n",
       "3  364640292     Andalib                       400        106.966298   \n",
       "4  364640292     Andalib                       400        106.966298   \n",
       "\n",
       "   origin_latitude  destination_longitude  destination_latitude  \\\n",
       "0         -6.33641             106.956392             -6.329133   \n",
       "1         -6.33641             106.956392             -6.329133   \n",
       "2         -6.33641             106.980128             -6.309142   \n",
       "3         -6.33641             106.807735             -6.397938   \n",
       "4         -6.33641             106.807735             -6.397938   \n",
       "\n",
       "   total_distance                      origin_note  \\\n",
       "0            4.40  Jl. Ciangsana, Jatiasih, Bekasi   \n",
       "1            4.40  Jl. Ciangsana, Jatiasih, Bekasi   \n",
       "2            5.60  Jl. Ciangsana, Jatiasih, Bekasi   \n",
       "3           24.78  Jl. Ciangsana, Jatiasih, Bekasi   \n",
       "4           24.78  Jl. Ciangsana, Jatiasih, Bekasi   \n",
       "\n",
       "                           destination_address  \n",
       "0            Jalan Oman, Jatiasih, Kota Bekasi  \n",
       "1            Jalan Oman, Jatiasih, Kota Bekasi  \n",
       "2  Jalan Nurul Huda, Bantargebang, Kota Bekasi  \n",
       "3        Gang Masjid, Pancoran MAS, Kota Depok  \n",
       "4        Gang Masjid, Pancoran MAS, Kota Depok  "
      ]
     },
     "execution_count": 29,
     "metadata": {},
     "output_type": "execute_result"
    }
   ],
   "source": [
    "dt = pd.read_csv('set-c.csv')\n",
    "dt.head()"
   ]
  },
  {
   "cell_type": "code",
   "execution_count": 51,
   "metadata": {},
   "outputs": [
    {
     "data": {
      "text/plain": [
       "248"
      ]
     },
     "execution_count": 51,
     "metadata": {},
     "output_type": "execute_result"
    }
   ],
   "source": [
    "driver = dt['customer_name'].values\n",
    "len(driver)"
   ]
  },
  {
   "cell_type": "code",
   "execution_count": 52,
   "metadata": {},
   "outputs": [
    {
     "data": {
      "text/plain": [
       "45"
      ]
     },
     "execution_count": 52,
     "metadata": {},
     "output_type": "execute_result"
    }
   ],
   "source": [
    "seen = set()\n",
    "uniq = []\n",
    "for x in driver:\n",
    "    if x not in seen:\n",
    "        uniq.append(x)\n",
    "        seen.add(x)\n",
    "len(seen)"
   ]
  },
  {
   "cell_type": "code",
   "execution_count": 53,
   "metadata": {},
   "outputs": [
    {
     "data": {
      "text/plain": [
       "{'adnan',\n",
       " 'agnes',\n",
       " 'ahona',\n",
       " 'amreen',\n",
       " 'anjali',\n",
       " 'anulekha',\n",
       " 'arif ',\n",
       " 'ayan',\n",
       " 'choyti',\n",
       " 'ehsan ',\n",
       " 'ekram ',\n",
       " 'elius',\n",
       " 'fahad',\n",
       " 'fahim',\n",
       " 'faruk',\n",
       " 'farzana',\n",
       " 'foysal',\n",
       " 'golam',\n",
       " 'imran',\n",
       " 'israt',\n",
       " 'istiak',\n",
       " 'khaled',\n",
       " 'kiran ',\n",
       " 'kunal',\n",
       " 'mahfuz',\n",
       " 'maisha',\n",
       " 'mehnaz',\n",
       " 'moumita',\n",
       " 'nabila',\n",
       " 'naina',\n",
       " 'nayamot\\n',\n",
       " 'nouroz',\n",
       " 'nusrat',\n",
       " 'nuzhat',\n",
       " 'pardeep',\n",
       " 'riaz',\n",
       " 'ruzan',\n",
       " 'saddam',\n",
       " 'shabbir',\n",
       " 'shamima',\n",
       " 'shayla',\n",
       " 'shifat ',\n",
       " 'sifat',\n",
       " 'sivan',\n",
       " 'tasmia'}"
      ]
     },
     "execution_count": 53,
     "metadata": {},
     "output_type": "execute_result"
    }
   ],
   "source": [
    "seen"
   ]
  },
  {
   "cell_type": "code",
   "execution_count": 55,
   "metadata": {},
   "outputs": [
    {
     "name": "stdout",
     "output_type": "stream",
     "text": [
      "1\n"
     ]
    }
   ],
   "source": [
    "i = 0\n",
    "for p in driver:\n",
    "    if p == 'shayla':\n",
    "        i+=1\n",
    "print(i)"
   ]
  },
  {
   "cell_type": "code",
   "execution_count": null,
   "metadata": {},
   "outputs": [],
   "source": []
  }
 ],
 "metadata": {
  "kernelspec": {
   "display_name": "Python 3",
   "language": "python",
   "name": "python3"
  },
  "language_info": {
   "codemirror_mode": {
    "name": "ipython",
    "version": 3
   },
   "file_extension": ".py",
   "mimetype": "text/x-python",
   "name": "python",
   "nbconvert_exporter": "python",
   "pygments_lexer": "ipython3",
   "version": "3.6.6"
  }
 },
 "nbformat": 4,
 "nbformat_minor": 2
}
