{
 "cells": [
  {
   "cell_type": "code",
   "execution_count": 1,
   "metadata": {},
   "outputs": [],
   "source": [
    "import pandas as pd\n",
    "import matplotlib.pyplot as plt\n",
    "import numpy as np"
   ]
  },
  {
   "cell_type": "markdown",
   "metadata": {},
   "source": [
    "## Read CSV"
   ]
  },
  {
   "cell_type": "code",
   "execution_count": 2,
   "metadata": {},
   "outputs": [
    {
     "data": {
      "text/html": [
       "<div>\n",
       "<style scoped>\n",
       "    .dataframe tbody tr th:only-of-type {\n",
       "        vertical-align: middle;\n",
       "    }\n",
       "\n",
       "    .dataframe tbody tr th {\n",
       "        vertical-align: top;\n",
       "    }\n",
       "\n",
       "    .dataframe thead th {\n",
       "        text-align: right;\n",
       "    }\n",
       "</style>\n",
       "<table border=\"1\" class=\"dataframe\">\n",
       "  <thead>\n",
       "    <tr style=\"text-align: right;\">\n",
       "      <th></th>\n",
       "      <th>Agent Name</th>\n",
       "      <th>Timestamp</th>\n",
       "      <th>Driver ID</th>\n",
       "    </tr>\n",
       "  </thead>\n",
       "  <tbody>\n",
       "    <tr>\n",
       "      <th>0</th>\n",
       "      <td>Nazmul</td>\n",
       "      <td>2017-05-08 11:30:03.05+07</td>\n",
       "      <td>1000094</td>\n",
       "    </tr>\n",
       "    <tr>\n",
       "      <th>1</th>\n",
       "      <td>Tasnia</td>\n",
       "      <td>2017-05-14 23:16:35.368+07</td>\n",
       "      <td>1001006</td>\n",
       "    </tr>\n",
       "    <tr>\n",
       "      <th>2</th>\n",
       "      <td>Sabrina</td>\n",
       "      <td>2017-05-11 13:36:37.733+07</td>\n",
       "      <td>1000482</td>\n",
       "    </tr>\n",
       "    <tr>\n",
       "      <th>3</th>\n",
       "      <td>Jeet</td>\n",
       "      <td>2017-05-08 11:12:38.463+07</td>\n",
       "      <td>1000026</td>\n",
       "    </tr>\n",
       "    <tr>\n",
       "      <th>4</th>\n",
       "      <td>Arfan</td>\n",
       "      <td>2017-05-09 11:48:13.452+07</td>\n",
       "      <td>1000181</td>\n",
       "    </tr>\n",
       "  </tbody>\n",
       "</table>\n",
       "</div>"
      ],
      "text/plain": [
       "  Agent Name                   Timestamp  Driver ID\n",
       "0     Nazmul   2017-05-08 11:30:03.05+07    1000094\n",
       "1     Tasnia  2017-05-14 23:16:35.368+07    1001006\n",
       "2    Sabrina  2017-05-11 13:36:37.733+07    1000482\n",
       "3       Jeet  2017-05-08 11:12:38.463+07    1000026\n",
       "4      Arfan  2017-05-09 11:48:13.452+07    1000181"
      ]
     },
     "execution_count": 2,
     "metadata": {},
     "output_type": "execute_result"
    }
   ],
   "source": [
    "dt = pd.read_csv('question.csv')\n",
    "dt.head()"
   ]
  },
  {
   "cell_type": "code",
   "execution_count": 3,
   "metadata": {},
   "outputs": [
    {
     "name": "stdout",
     "output_type": "stream",
     "text": [
      "1037\n",
      "['Nazmul' 'Tasnia' 'Sabrina' ... 'Tasnia' 'Nazmul' 'Nazmul']\n"
     ]
    }
   ],
   "source": [
    "# read a column\n",
    "persons = dt['Agent Name'].values\n",
    "print(len(persons))\n",
    "print(persons)"
   ]
  },
  {
   "cell_type": "code",
   "execution_count": 4,
   "metadata": {},
   "outputs": [
    {
     "data": {
      "text/html": [
       "<div>\n",
       "<style scoped>\n",
       "    .dataframe tbody tr th:only-of-type {\n",
       "        vertical-align: middle;\n",
       "    }\n",
       "\n",
       "    .dataframe tbody tr th {\n",
       "        vertical-align: top;\n",
       "    }\n",
       "\n",
       "    .dataframe thead th {\n",
       "        text-align: right;\n",
       "    }\n",
       "</style>\n",
       "<table border=\"1\" class=\"dataframe\">\n",
       "  <thead>\n",
       "    <tr style=\"text-align: right;\">\n",
       "      <th></th>\n",
       "      <th>Agent Name</th>\n",
       "      <th>Timestamp</th>\n",
       "      <th>Driver ID</th>\n",
       "    </tr>\n",
       "  </thead>\n",
       "  <tbody>\n",
       "    <tr>\n",
       "      <th>0</th>\n",
       "      <td>Nazmul</td>\n",
       "      <td>2017-05-08 11:30:03.05+07</td>\n",
       "      <td>1000094</td>\n",
       "    </tr>\n",
       "  </tbody>\n",
       "</table>\n",
       "</div>"
      ],
      "text/plain": [
       "  Agent Name                  Timestamp  Driver ID\n",
       "0     Nazmul  2017-05-08 11:30:03.05+07    1000094"
      ]
     },
     "execution_count": 4,
     "metadata": {},
     "output_type": "execute_result"
    }
   ],
   "source": [
    "# slice csv\n",
    "dt[:1]"
   ]
  },
  {
   "cell_type": "code",
   "execution_count": 5,
   "metadata": {},
   "outputs": [
    {
     "data": {
      "text/plain": [
       "array(['Nazmul', '2017-05-08 11:30:03.05+07', 1000094], dtype=object)"
      ]
     },
     "execution_count": 5,
     "metadata": {},
     "output_type": "execute_result"
    }
   ],
   "source": [
    "# read row\n",
    "row = dt.values[0]\n",
    "row"
   ]
  },
  {
   "cell_type": "code",
   "execution_count": 6,
   "metadata": {},
   "outputs": [
    {
     "data": {
      "text/plain": [
       "3"
      ]
     },
     "execution_count": 6,
     "metadata": {},
     "output_type": "execute_result"
    }
   ],
   "source": [
    "len(row)"
   ]
  },
  {
   "cell_type": "code",
   "execution_count": 7,
   "metadata": {},
   "outputs": [
    {
     "data": {
      "text/plain": [
       "('Nazmul', '2017-05-08 11:30:03.05+07', 1000094)"
      ]
     },
     "execution_count": 7,
     "metadata": {},
     "output_type": "execute_result"
    }
   ],
   "source": [
    "# get values individually \n",
    "row[0], row[1], row[2]"
   ]
  },
  {
   "cell_type": "code",
   "execution_count": 9,
   "metadata": {},
   "outputs": [
    {
     "data": {
      "text/plain": [
       "'Arfan'"
      ]
     },
     "execution_count": 9,
     "metadata": {},
     "output_type": "execute_result"
    }
   ],
   "source": [
    "# read a value in a column with an index\n",
    "person = dt['Agent Name'].values[24]\n",
    "person"
   ]
  },
  {
   "cell_type": "code",
   "execution_count": 10,
   "metadata": {},
   "outputs": [
    {
     "name": "stdout",
     "output_type": "stream",
     "text": [
      "1037\n"
     ]
    }
   ],
   "source": [
    "print(len(persons))"
   ]
  },
  {
   "cell_type": "code",
   "execution_count": 13,
   "metadata": {},
   "outputs": [
    {
     "name": "stdout",
     "output_type": "stream",
     "text": [
      "[1000094, 1001006, 1000482, 1000026, 1000181, 1000620, 1000069, 1000891, 1000913, 1000055, 1000014, 1000520, 1001033, 1000372, 1000389, 1000283, 1000078, 1000525, 1000308, 1000791, 1000921, 1000888, 1000877, 1000617, 1000409, 1000800, 1000633, 1000536, 1000380, 1000045, 1000065, 1000368, 1000481, 1000688, 1000626, 1000630, 1000916, 1000804, 1000067, 1000628, 1000643, 1000273, 1000999, 1000264, 1000534, 1000516, 1000330, 1000677, 1000048, 1000087, 1000566, 1000605, 1000476, 1000066, 1000120, 1000186, 1000112, 1000371, 1000818, 1000509, 1000890, 1000943, 1000141, 1000088, 1001019, 1000903, 1000996, 1000342, 1000810, 1000990, 1000972, 1000978, 1000340, 1000047, 1000379, 1000715, 1000358, 1000082, 1000665, 1000815, 1000940, 1000895, 1000460, 1000638, 1000257, 1000928, 1000523, 1000683, 1000291, 1000987, 1000329, 1000399, 1000151, 1000774, 1000645, 1000041, 1000962, 1000025, 1000454, 1000108, 1000808, 1000627, 1000360, 1000910, 1000030, 1000528, 1000751, 1001007, 1000364, 1001034, 1001029, 1000997, 1000689, 1000233, 1000518, 1000438, 1000435, 1000568]\n"
     ]
    }
   ],
   "source": [
    "# get list of driver id a person recruited\n",
    "\n",
    "ids = []\n",
    "count = 0\n",
    "for p in persons:\n",
    "    if p == \"Sabrina\":\n",
    "        # retrive driver id of Sabrina's log\n",
    "        d_id = dt['Driver ID'].values[count]\n",
    "        count+=1\n",
    "        ids.append(d_id)\n",
    "print(ids)"
   ]
  },
  {
   "cell_type": "code",
   "execution_count": 14,
   "metadata": {},
   "outputs": [
    {
     "data": {
      "text/plain": [
       "118"
      ]
     },
     "execution_count": 14,
     "metadata": {},
     "output_type": "execute_result"
    }
   ],
   "source": [
    "len(ids)"
   ]
  },
  {
   "cell_type": "markdown",
   "metadata": {},
   "source": [
    "# Find unique persons"
   ]
  },
  {
   "cell_type": "code",
   "execution_count": 15,
   "metadata": {},
   "outputs": [
    {
     "name": "stdout",
     "output_type": "stream",
     "text": [
      "['Nazmul', 'Tasnia', 'Sabrina', 'Jeet', 'Arfan', 'Niamul']\n",
      "6\n"
     ]
    }
   ],
   "source": [
    "unique_peoples = []\n",
    "\n",
    "for v in persons:\n",
    "    if v not in unique_peoples:\n",
    "        unique_peoples.append(v)\n",
    "        \n",
    "print(unique_peoples)\n",
    "print(len(unique_peoples))"
   ]
  },
  {
   "cell_type": "markdown",
   "metadata": {},
   "source": [
    "# Pythonic Way... :v\n",
    "* set() removes duplicates in a list"
   ]
  },
  {
   "cell_type": "code",
   "execution_count": 16,
   "metadata": {},
   "outputs": [
    {
     "name": "stdout",
     "output_type": "stream",
     "text": [
      "['Nazmul', 'Arfan', 'Sabrina', 'Tasnia', 'Niamul', 'Jeet']\n",
      "6\n"
     ]
    }
   ],
   "source": [
    "unique_peeps = set(persons)\n",
    "print(list(unique_peeps))\n",
    "print(len(unique_peeps))"
   ]
  },
  {
   "cell_type": "code",
   "execution_count": 17,
   "metadata": {},
   "outputs": [
    {
     "name": "stdout",
     "output_type": "stream",
     "text": [
      "['2017-05-08 11:30:03.05+07' '2017-05-14 23:16:35.368+07'\n",
      " '2017-05-11 13:36:37.733+07' ... '2017-05-13 11:10:54.673+07'\n",
      " '2017-05-13 20:06:02.881+07' '2017-05-09 13:16:30.484+07']\n"
     ]
    }
   ],
   "source": [
    "# read a column\n",
    "time = dt['Timestamp'].values\n",
    "print(time)"
   ]
  },
  {
   "cell_type": "code",
   "execution_count": 18,
   "metadata": {},
   "outputs": [
    {
     "data": {
      "text/plain": [
       "numpy.ndarray"
      ]
     },
     "execution_count": 18,
     "metadata": {},
     "output_type": "execute_result"
    }
   ],
   "source": [
    "type(time)"
   ]
  },
  {
   "cell_type": "code",
   "execution_count": 19,
   "metadata": {},
   "outputs": [
    {
     "data": {
      "text/plain": [
       "'2017-05-08 11:30:03.05+07'"
      ]
     },
     "execution_count": 19,
     "metadata": {},
     "output_type": "execute_result"
    }
   ],
   "source": [
    "time[0]"
   ]
  },
  {
   "cell_type": "code",
   "execution_count": 20,
   "metadata": {},
   "outputs": [
    {
     "data": {
      "text/plain": [
       "'8'"
      ]
     },
     "execution_count": 20,
     "metadata": {},
     "output_type": "execute_result"
    }
   ],
   "source": [
    "time[0][9]"
   ]
  },
  {
   "cell_type": "code",
   "execution_count": 21,
   "metadata": {},
   "outputs": [],
   "source": [
    "for t in time:\n",
    "    check = t[9]\n",
    "    if check >= \"8\" and check <= \"14\":\n",
    "        print(\"Anomaly!\")"
   ]
  },
  {
   "cell_type": "code",
   "execution_count": 22,
   "metadata": {},
   "outputs": [
    {
     "data": {
      "text/plain": [
       "array([1, 2, 3])"
      ]
     },
     "execution_count": 22,
     "metadata": {},
     "output_type": "execute_result"
    }
   ],
   "source": [
    "x = np.array([1,2,3])\n",
    "x"
   ]
  },
  {
   "cell_type": "code",
   "execution_count": 23,
   "metadata": {},
   "outputs": [
    {
     "data": {
      "text/plain": [
       "numpy.ndarray"
      ]
     },
     "execution_count": 23,
     "metadata": {},
     "output_type": "execute_result"
    }
   ],
   "source": [
    "type(x)"
   ]
  },
  {
   "cell_type": "code",
   "execution_count": null,
   "metadata": {},
   "outputs": [],
   "source": []
  }
 ],
 "metadata": {
  "kernelspec": {
   "display_name": "Python 3",
   "language": "python",
   "name": "python3"
  },
  "language_info": {
   "codemirror_mode": {
    "name": "ipython",
    "version": 3
   },
   "file_extension": ".py",
   "mimetype": "text/x-python",
   "name": "python",
   "nbconvert_exporter": "python",
   "pygments_lexer": "ipython3",
   "version": "3.7.0"
  }
 },
 "nbformat": 4,
 "nbformat_minor": 2
}
