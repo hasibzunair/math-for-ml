{
 "cells": [
  {
   "cell_type": "markdown",
   "metadata": {},
   "source": [
    "* ref: https://realpython.com/python-debugging-pdb/"
   ]
  },
  {
   "cell_type": "code",
   "execution_count": 18,
   "metadata": {},
   "outputs": [
    {
     "name": "stdout",
     "output_type": "stream",
     "text": [
      "--Call--\n",
      "> c:\\users\\tc\\anaconda3\\lib\\site-packages\\ipython\\core\\displayhook.py(247)__call__()\n",
      "-> def __call__(self, result=None):\n",
      "(Pdb) c\n"
     ]
    }
   ],
   "source": [
    "import pdb; pdb.set_trace()"
   ]
  },
  {
   "cell_type": "code",
   "execution_count": 23,
   "metadata": {},
   "outputs": [
    {
     "name": "stdout",
     "output_type": "stream",
     "text": [
      "--Return--\n",
      "> <ipython-input-23-d90530ecee9d>(2)<module>()->None\n",
      "-> import pdb; pdb.set_trace()\n",
      "(Pdb) c\n",
      "path = name of file\n"
     ]
    }
   ],
   "source": [
    "filename = \"name of file\"\n",
    "import pdb; pdb.set_trace()\n",
    "print(f'path = {filename}')"
   ]
  },
  {
   "cell_type": "code",
   "execution_count": 30,
   "metadata": {},
   "outputs": [],
   "source": [
    "def get_path():\n",
    "    \"\"\"Return file's path or empty string if no path.\"\"\"\n",
    "    head, tail = \"x\", \"y\"\n",
    "    import pdb; pdb.set_trace()\n",
    "    return head\n"
   ]
  },
  {
   "cell_type": "code",
   "execution_count": 32,
   "metadata": {},
   "outputs": [
    {
     "name": "stdout",
     "output_type": "stream",
     "text": [
      "> <ipython-input-30-4f8adc486e06>(5)get_path()\n",
      "-> return head\n",
      "(Pdb) ll\n",
      "  1  \tdef get_path():\n",
      "  2  \t    \"\"\"Return file's path or empty string if no path.\"\"\"\n",
      "  3  \t    head, tail = \"x\", \"y\"\n",
      "  4  \t    import pdb; pdb.set_trace()\n",
      "  5  ->\t    return head\n",
      "(Pdb) p head, tail\n",
      "('x', 'y')\n",
      "(Pdb) p get_path\n",
      "<function get_path at 0x00000000051D4F28>\n",
      "(Pdb) p getattr(get_path, '__doc__')\n",
      "\"Return file's path or empty string if no path.\"\n",
      "(Pdb) c\n"
     ]
    },
    {
     "data": {
      "text/plain": [
       "'x'"
      ]
     },
     "execution_count": 32,
     "metadata": {},
     "output_type": "execute_result"
    }
   ],
   "source": [
    "get_path()"
   ]
  },
  {
   "cell_type": "code",
   "execution_count": null,
   "metadata": {},
   "outputs": [],
   "source": []
  }
 ],
 "metadata": {
  "kernelspec": {
   "display_name": "Python 3",
   "language": "python",
   "name": "python3"
  },
  "language_info": {
   "codemirror_mode": {
    "name": "ipython",
    "version": 3
   },
   "file_extension": ".py",
   "mimetype": "text/x-python",
   "name": "python",
   "nbconvert_exporter": "python",
   "pygments_lexer": "ipython3",
   "version": "3.6.5"
  }
 },
 "nbformat": 4,
 "nbformat_minor": 2
}
